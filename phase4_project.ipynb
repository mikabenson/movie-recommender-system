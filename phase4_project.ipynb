{
 "cells": [
  {
   "cell_type": "markdown",
   "metadata": {},
   "source": [
    "## Final Phase 4 Project Submission\n",
    "\n",
    "Please fill out:\n",
    "* Student name: Mika Wambua Benson\n",
    "* Student pace: part-time\n",
    "* Scheduled project review date/time: 12/2/2025\n",
    "* Instructor name: Samuel Karu\n",
    "* Blog post URL: "
   ]
  },
  {
   "cell_type": "markdown",
   "metadata": {},
   "source": [
    "# Business Statement:\n",
    "Hollywood movie studio aims to enhance the user engagement and its revenue by implementing an item-based-recommender system that suggest movies which are similar to the other users might have rated. Lets leverage the movie similarities based on the attributes like ratings and title as we seek to improve content and provide a highly personalized experience. The recommender systems built provides top 5 movie recommendations to a user, based on their ratings of other movies.\n",
    "\n",
    "\n",
    "# Objectives\n",
    "1. Retrieve the top 5 movie title recommended to user based on their ratings\n",
    "\n",
    "2. Enable users explore a wide range of films similar to their preferences\n",
    "\n",
    "3. Drive users subscriptions by suggesting appealing content\n"
   ]
  },
  {
   "cell_type": "markdown",
   "metadata": {},
   "source": [
    "# Importing Necessary libraries"
   ]
  },
  {
   "cell_type": "code",
   "execution_count": 2,
   "metadata": {},
   "outputs": [],
   "source": [
    "import pandas as pd\n",
    "# importing relevant libraries, surprise library specifically used in building recommender system\n",
    "from surprise.model_selection import cross_validate, GridSearchCV\n",
    "from surprise.model_selection import train_test_split\n",
    "from surprise.prediction_algorithms import SVD, KNNWithMeans, KNNBasic, KNNBaseline\n",
    "# from surprise.prediction_algorithms import KNNWithMeans, KNNBasic, KNNBaseline\n",
    "# from surprise.model_selection import GridSearchCV\n",
    "import numpy as np\n",
    "from surprise import accuracy\n",
    "from surprise import Dataset, Reader\n",
    "\n",
    "import plotly.express as px\n",
    "import matplotlib\n",
    "import matplotlib.pyplot as plt\n",
    "%matplotlib inline\n",
    "import seaborn as sns\n",
    "# The following will improve the default style and the font sizes of the chart\n",
    "sns.set_style(\"darkgrid\")\n",
    "matplotlib.rcParams[\"font.size\"] = 14\n",
    "matplotlib.rcParams[\"figure.figsize\"] = (10, 6)\n",
    "matplotlib.rcParams[\"figure.facecolor\"] = \"#00000000\""
   ]
  },
  {
   "cell_type": "markdown",
   "metadata": {},
   "source": [
    "##  Dataset Understanding\n",
    "\n",
    "### **Dataset Requirements**\n",
    "For this project, we will use a movie dataset with the following columns:\n",
    "\n",
    "1. `userId`: A unique ID representing each user.\n",
    "2. `movieId`: A unique ID representing each movie.\n",
    "3. `rating`: The numeric rating (e.g., 1-5 or 1-10) given by a user to a movie.\n",
    "4. `title`: The name of the movie (used for querying recommendations)."
   ]
  },
  {
   "cell_type": "markdown",
   "metadata": {},
   "source": [
    "# Data\n",
    "We will use the **MovieLens dataset** (small version), which contains user ratings for movies along with metadata such as movie titles. You can download it from [MovieLens](https://grouplens.org/datasets/movielens/)."
   ]
  },
  {
   "cell_type": "markdown",
   "metadata": {},
   "source": [
    "# Loading and Preparing the Dataset\n",
    "\n",
    "### **Step 1: Load the Ratings Data**"
   ]
  },
  {
   "cell_type": "code",
   "execution_count": 3,
   "metadata": {},
   "outputs": [
    {
     "name": "stdout",
     "output_type": "stream",
     "text": [
      "   userId  movieId  rating  timestamp\n",
      "0       1        1     4.0  964982703\n",
      "1       1        3     4.0  964981247\n",
      "2       1        6     4.0  964982224\n",
      "3       1       47     5.0  964983815\n",
      "4       1       50     5.0  964982931\n"
     ]
    }
   ],
   "source": [
    "# Load the ratings data\n",
    "ratings_df = pd.read_csv('ratings.csv')\n",
    "\n",
    "# Display the first few rows of the dataset\n",
    "print(ratings_df.head())"
   ]
  },
  {
   "cell_type": "code",
   "execution_count": 4,
   "metadata": {},
   "outputs": [
    {
     "data": {
      "text/html": [
       "<div>\n",
       "<style scoped>\n",
       "    .dataframe tbody tr th:only-of-type {\n",
       "        vertical-align: middle;\n",
       "    }\n",
       "\n",
       "    .dataframe tbody tr th {\n",
       "        vertical-align: top;\n",
       "    }\n",
       "\n",
       "    .dataframe thead th {\n",
       "        text-align: right;\n",
       "    }\n",
       "</style>\n",
       "<table border=\"1\" class=\"dataframe\">\n",
       "  <thead>\n",
       "    <tr style=\"text-align: right;\">\n",
       "      <th></th>\n",
       "      <th>userId</th>\n",
       "      <th>movieId</th>\n",
       "      <th>rating</th>\n",
       "    </tr>\n",
       "  </thead>\n",
       "  <tbody>\n",
       "    <tr>\n",
       "      <th>0</th>\n",
       "      <td>1</td>\n",
       "      <td>1</td>\n",
       "      <td>4.0</td>\n",
       "    </tr>\n",
       "    <tr>\n",
       "      <th>1</th>\n",
       "      <td>1</td>\n",
       "      <td>3</td>\n",
       "      <td>4.0</td>\n",
       "    </tr>\n",
       "    <tr>\n",
       "      <th>2</th>\n",
       "      <td>1</td>\n",
       "      <td>6</td>\n",
       "      <td>4.0</td>\n",
       "    </tr>\n",
       "    <tr>\n",
       "      <th>3</th>\n",
       "      <td>1</td>\n",
       "      <td>47</td>\n",
       "      <td>5.0</td>\n",
       "    </tr>\n",
       "    <tr>\n",
       "      <th>4</th>\n",
       "      <td>1</td>\n",
       "      <td>50</td>\n",
       "      <td>5.0</td>\n",
       "    </tr>\n",
       "  </tbody>\n",
       "</table>\n",
       "</div>"
      ],
      "text/plain": [
       "   userId  movieId  rating\n",
       "0       1        1     4.0\n",
       "1       1        3     4.0\n",
       "2       1        6     4.0\n",
       "3       1       47     5.0\n",
       "4       1       50     5.0"
      ]
     },
     "execution_count": 4,
     "metadata": {},
     "output_type": "execute_result"
    }
   ],
   "source": [
    "# dropping the timestamp column\n",
    "ratings_df = ratings_df.drop(columns=['timestamp'], axis=1)\n",
    "ratings_df.head() # check the 5 items on the dataset"
   ]
  },
  {
   "cell_type": "markdown",
   "metadata": {},
   "source": [
    "### **Step 2: Load the Movie data**\n"
   ]
  },
  {
   "cell_type": "code",
   "execution_count": 5,
   "metadata": {},
   "outputs": [
    {
     "data": {
      "text/html": [
       "<div>\n",
       "<style scoped>\n",
       "    .dataframe tbody tr th:only-of-type {\n",
       "        vertical-align: middle;\n",
       "    }\n",
       "\n",
       "    .dataframe tbody tr th {\n",
       "        vertical-align: top;\n",
       "    }\n",
       "\n",
       "    .dataframe thead th {\n",
       "        text-align: right;\n",
       "    }\n",
       "</style>\n",
       "<table border=\"1\" class=\"dataframe\">\n",
       "  <thead>\n",
       "    <tr style=\"text-align: right;\">\n",
       "      <th></th>\n",
       "      <th>movieId</th>\n",
       "      <th>title</th>\n",
       "      <th>genres</th>\n",
       "    </tr>\n",
       "  </thead>\n",
       "  <tbody>\n",
       "    <tr>\n",
       "      <th>0</th>\n",
       "      <td>1</td>\n",
       "      <td>Toy Story (1995)</td>\n",
       "      <td>Adventure|Animation|Children|Comedy|Fantasy</td>\n",
       "    </tr>\n",
       "    <tr>\n",
       "      <th>1</th>\n",
       "      <td>2</td>\n",
       "      <td>Jumanji (1995)</td>\n",
       "      <td>Adventure|Children|Fantasy</td>\n",
       "    </tr>\n",
       "    <tr>\n",
       "      <th>2</th>\n",
       "      <td>3</td>\n",
       "      <td>Grumpier Old Men (1995)</td>\n",
       "      <td>Comedy|Romance</td>\n",
       "    </tr>\n",
       "    <tr>\n",
       "      <th>3</th>\n",
       "      <td>4</td>\n",
       "      <td>Waiting to Exhale (1995)</td>\n",
       "      <td>Comedy|Drama|Romance</td>\n",
       "    </tr>\n",
       "    <tr>\n",
       "      <th>4</th>\n",
       "      <td>5</td>\n",
       "      <td>Father of the Bride Part II (1995)</td>\n",
       "      <td>Comedy</td>\n",
       "    </tr>\n",
       "  </tbody>\n",
       "</table>\n",
       "</div>"
      ],
      "text/plain": [
       "   movieId                               title  \\\n",
       "0        1                    Toy Story (1995)   \n",
       "1        2                      Jumanji (1995)   \n",
       "2        3             Grumpier Old Men (1995)   \n",
       "3        4            Waiting to Exhale (1995)   \n",
       "4        5  Father of the Bride Part II (1995)   \n",
       "\n",
       "                                        genres  \n",
       "0  Adventure|Animation|Children|Comedy|Fantasy  \n",
       "1                   Adventure|Children|Fantasy  \n",
       "2                               Comedy|Romance  \n",
       "3                         Comedy|Drama|Romance  \n",
       "4                                       Comedy  "
      ]
     },
     "execution_count": 5,
     "metadata": {},
     "output_type": "execute_result"
    }
   ],
   "source": [
    "# Load the movies data\n",
    "movies_df = pd.read_csv('movies.csv')\n",
    "\n",
    "# Display the first few rows of the dataset\n",
    "movies_df.head()"
   ]
  },
  {
   "cell_type": "markdown",
   "metadata": {},
   "source": [
    "### **Step 3: Merge Datasets**\n",
    "\n",
    "Here lets merge the ratings_df with movies_df on movieId to include title for the movie in the ratings data"
   ]
  },
  {
   "cell_type": "code",
   "execution_count": 6,
   "metadata": {},
   "outputs": [
    {
     "data": {
      "text/html": [
       "<div>\n",
       "<style scoped>\n",
       "    .dataframe tbody tr th:only-of-type {\n",
       "        vertical-align: middle;\n",
       "    }\n",
       "\n",
       "    .dataframe tbody tr th {\n",
       "        vertical-align: top;\n",
       "    }\n",
       "\n",
       "    .dataframe thead th {\n",
       "        text-align: right;\n",
       "    }\n",
       "</style>\n",
       "<table border=\"1\" class=\"dataframe\">\n",
       "  <thead>\n",
       "    <tr style=\"text-align: right;\">\n",
       "      <th></th>\n",
       "      <th>userId</th>\n",
       "      <th>movieId</th>\n",
       "      <th>rating</th>\n",
       "      <th>title</th>\n",
       "      <th>genres</th>\n",
       "    </tr>\n",
       "  </thead>\n",
       "  <tbody>\n",
       "    <tr>\n",
       "      <th>0</th>\n",
       "      <td>1</td>\n",
       "      <td>1</td>\n",
       "      <td>4.0</td>\n",
       "      <td>Toy Story (1995)</td>\n",
       "      <td>Adventure|Animation|Children|Comedy|Fantasy</td>\n",
       "    </tr>\n",
       "    <tr>\n",
       "      <th>1</th>\n",
       "      <td>5</td>\n",
       "      <td>1</td>\n",
       "      <td>4.0</td>\n",
       "      <td>Toy Story (1995)</td>\n",
       "      <td>Adventure|Animation|Children|Comedy|Fantasy</td>\n",
       "    </tr>\n",
       "    <tr>\n",
       "      <th>2</th>\n",
       "      <td>7</td>\n",
       "      <td>1</td>\n",
       "      <td>4.5</td>\n",
       "      <td>Toy Story (1995)</td>\n",
       "      <td>Adventure|Animation|Children|Comedy|Fantasy</td>\n",
       "    </tr>\n",
       "    <tr>\n",
       "      <th>3</th>\n",
       "      <td>15</td>\n",
       "      <td>1</td>\n",
       "      <td>2.5</td>\n",
       "      <td>Toy Story (1995)</td>\n",
       "      <td>Adventure|Animation|Children|Comedy|Fantasy</td>\n",
       "    </tr>\n",
       "    <tr>\n",
       "      <th>4</th>\n",
       "      <td>17</td>\n",
       "      <td>1</td>\n",
       "      <td>4.5</td>\n",
       "      <td>Toy Story (1995)</td>\n",
       "      <td>Adventure|Animation|Children|Comedy|Fantasy</td>\n",
       "    </tr>\n",
       "  </tbody>\n",
       "</table>\n",
       "</div>"
      ],
      "text/plain": [
       "   userId  movieId  rating             title  \\\n",
       "0       1        1     4.0  Toy Story (1995)   \n",
       "1       5        1     4.0  Toy Story (1995)   \n",
       "2       7        1     4.5  Toy Story (1995)   \n",
       "3      15        1     2.5  Toy Story (1995)   \n",
       "4      17        1     4.5  Toy Story (1995)   \n",
       "\n",
       "                                        genres  \n",
       "0  Adventure|Animation|Children|Comedy|Fantasy  \n",
       "1  Adventure|Animation|Children|Comedy|Fantasy  \n",
       "2  Adventure|Animation|Children|Comedy|Fantasy  \n",
       "3  Adventure|Animation|Children|Comedy|Fantasy  \n",
       "4  Adventure|Animation|Children|Comedy|Fantasy  "
      ]
     },
     "execution_count": 6,
     "metadata": {},
     "output_type": "execute_result"
    }
   ],
   "source": [
    "# Merge ratings with movie titles\n",
    "movie_ratings_df = pd.merge(ratings_df, movies_df, on=\"movieId\")\n",
    "\n",
    "# Display the first few rows of the merged dataset\n",
    "movie_ratings_df.head()"
   ]
  },
  {
   "cell_type": "code",
   "execution_count": 7,
   "metadata": {},
   "outputs": [
    {
     "name": "stdout",
     "output_type": "stream",
     "text": [
      "<class 'pandas.core.frame.DataFrame'>\n",
      "RangeIndex: 100836 entries, 0 to 100835\n",
      "Data columns (total 5 columns):\n",
      " #   Column   Non-Null Count   Dtype  \n",
      "---  ------   --------------   -----  \n",
      " 0   userId   100836 non-null  int64  \n",
      " 1   movieId  100836 non-null  int64  \n",
      " 2   rating   100836 non-null  float64\n",
      " 3   title    100836 non-null  object \n",
      " 4   genres   100836 non-null  object \n",
      "dtypes: float64(1), int64(2), object(2)\n",
      "memory usage: 3.8+ MB\n",
      "Here is the detailed information about the dataframe: None\n",
      "Shape of the DataFrame: (100836, 5)\n",
      "\n",
      "Missing Values per Column:\n",
      "userId     0\n",
      "movieId    0\n",
      "rating     0\n",
      "title      0\n",
      "genres     0\n",
      "dtype: int64\n",
      "\n",
      "Total Missing Values: 0\n",
      "\n",
      "Number of Duplicate Rows: 0\n"
     ]
    }
   ],
   "source": [
    "# Create function that gives a summary for Exploratory Data Analysis\n",
    "def summarize_dataframe(movie_ratings_df):\n",
    "    print(f\"Here is the detailed information about the dataframe: {movie_ratings_df.info()}\")\n",
    "    print(f\"Shape of the DataFrame: {movie_ratings_df.shape}\")  # Number of rows and columns\n",
    "    print(\"\\nMissing Values per Column:\")\n",
    "    print(movie_ratings_df.isnull().sum())  # Count of missing values per column\n",
    "    print(f\"\\nTotal Missing Values: {movie_ratings_df.isnull().sum().sum()}\")  # Total missing values in the dataset\n",
    "    print(f\"\\nNumber of Duplicate Rows: {movie_ratings_df.duplicated().sum()}\")  # Count of duplicate rows\n",
    "\n",
    "# Example usage:\n",
    "summarize_dataframe(movie_ratings_df)"
   ]
  },
  {
   "cell_type": "code",
   "execution_count": 8,
   "metadata": {},
   "outputs": [
    {
     "name": "stdout",
     "output_type": "stream",
     "text": [
      "Unique genres\n",
      "['Adventure|Animation|Children|Comedy|Fantasy' 'Comedy|Romance'\n",
      " 'Action|Crime|Thriller' 'Mystery|Thriller' 'Crime|Mystery|Thriller'\n",
      " 'Action|Comedy|Horror|Thriller' 'Adventure|Comedy|Crime|Romance'\n",
      " 'Action|Drama|War' 'Action|Drama|Romance|War' 'Comedy|War'\n",
      " 'Action|Romance|Western' 'Comedy' 'Adventure|Comedy' 'Comedy|Drama'\n",
      " 'Action|Adventure|Sci-Fi' 'Comedy|Crime|Drama|Thriller'\n",
      " 'Action|Crime|Drama|Thriller' 'Comedy|Drama|Romance|War'\n",
      " 'Adventure|Children|Romance' 'Action|Comedy|Crime|Fantasy'\n",
      " 'Action|Thriller' 'Thriller' 'Action|Adventure|Sci-Fi|Thriller'\n",
      " 'Drama|War' 'Comedy|Romance|Thriller' 'Action|Adventure|Comedy|Romance'\n",
      " 'Action|Drama|Western' 'Adventure|Drama|Western' 'Crime|Horror|Thriller'\n",
      " 'Animation|Children|Fantasy|Musical' 'Action|Adventure|Mystery|Thriller'\n",
      " 'Adventure|Animation|Children|Fantasy|Musical'\n",
      " 'Adventure|Animation|Children|Comedy|Fantasy|Sci-Fi'\n",
      " 'Action|Adventure|Thriller' 'Action|Adventure|Romance|Thriller'\n",
      " 'Adventure|Children|Fantasy|Musical' 'Drama|Mystery'\n",
      " 'Action|Adventure|Romance' 'Drama|Fantasy|Romance' 'Drama'\n",
      " 'Adventure|Children|Fantasy' 'Animation|Children|Musical'\n",
      " 'Animation|Children|Drama|Musical' 'Adventure|Animation|Children|Musical'\n",
      " 'Adventure|Children|Musical' 'Action|Adventure'\n",
      " 'Children|Comedy|Fantasy|Musical' 'Children|Drama|Sci-Fi'\n",
      " 'Adventure|Comedy|Fantasy' 'Action|Adventure|Comedy|Fantasy|Romance'\n",
      " 'Crime|Drama|Sci-Fi|Thriller' 'Crime|Drama' 'Horror|Sci-Fi'\n",
      " 'Crime|Horror' 'Action|Comedy|Musical' 'Drama|Romance'\n",
      " 'Action|Sci-Fi|Thriller' 'Comedy|Musical|War' 'Horror'\n",
      " 'Comedy|Fantasy|Romance' 'Adventure|Comedy|Sci-Fi'\n",
      " 'Action|Adventure|Fantasy' 'Comedy|Fantasy' 'Drama|Musical'\n",
      " 'Action|Crime' 'Action|Comedy|Crime|Drama|Sci-Fi'\n",
      " 'Action|Romance|War|Western' 'Action|Comedy|Crime|Drama'\n",
      " 'Comedy|Crime|Romance' 'Action|Adventure|Comedy' 'Action|Comedy|Sci-Fi'\n",
      " 'Crime|Film-Noir|Mystery|Thriller' 'Crime|Drama|Mystery|Thriller'\n",
      " 'Drama|Mystery|Thriller' 'Horror|Mystery|Thriller' 'Action|Sci-Fi'\n",
      " 'Comedy|Crime' 'Animation|Children|Fantasy|War'\n",
      " 'Adventure|Fantasy|Musical' 'Action|Adventure|Children|Comedy|Fantasy'\n",
      " 'Adventure|Comedy|Sci-Fi|Western' 'Animation|Children|Drama'\n",
      " 'Adventure|Animation|Children|Fantasy' 'Adventure|Children|Sci-Fi'\n",
      " 'Action|Animation|Children|Crime'\n",
      " 'Adventure|Children|Comedy|Fantasy|Sci-Fi'\n",
      " 'Action|Crime|Drama|Mystery|Thriller' 'Animation|Children|Comedy|Musical'\n",
      " 'Adventure|Animation|Children|Crime|Drama' 'Animation|Children'\n",
      " 'Adventure|Animation|Children|Drama'\n",
      " 'Adventure|Animation|Children|Comedy' 'Adventure|Fantasy|Romance'\n",
      " 'Crime|Drama|Thriller' 'Action|Comedy|Crime|Thriller'\n",
      " 'Action|Adventure|Fantasy|Horror'\n",
      " 'Action|Adventure|Children|Fantasy|Mystery|Thriller' 'Comedy|Western'\n",
      " 'Action|Drama|Sci-Fi' 'Comedy|Crime|Thriller'\n",
      " 'Action|Adventure|Comedy|Fantasy|Horror|Thriller' 'Drama|Horror|Sci-Fi'\n",
      " 'Drama|Fantasy|Horror' 'Comedy|Horror|Musical|Sci-Fi'\n",
      " 'Animation|Comedy|Musical' 'Adventure|Animation|Children|Drama|Sci-Fi'\n",
      " 'Comedy|Drama|Fantasy|Romance' 'Adventure|Fantasy'\n",
      " 'Adventure|Animation|Children' 'Action|Crime|Drama|Sci-Fi|Thriller'\n",
      " 'Adventure|Animation|Children|Comedy|Crime|Fantasy|Mystery'\n",
      " 'Comedy|Drama|Fantasy' 'Comedy|Sci-Fi'\n",
      " 'Adventure|Animation|Children|Comedy|Musical' 'Adventure|Drama'\n",
      " 'Comedy|Horror|Mystery|Thriller' 'Action|Children|Fantasy'\n",
      " 'Comedy|Drama|War' 'Action|Adventure|Drama'\n",
      " 'Action|Adventure|Comedy|Fantasy' 'Adventure|Animation|Children|Sci-Fi'\n",
      " 'Action|Comedy' 'Action|Crime|Drama|IMAX' 'Action|Comedy|Horror'\n",
      " 'Comedy|Documentary' 'Action|Crime|Drama|Mystery|Sci-Fi|Thriller|IMAX'\n",
      " 'Documentary' 'Action|Adventure|Crime|IMAX' 'Drama|Thriller'\n",
      " 'Comedy|Crime|Drama' 'Sci-Fi|IMAX' 'Drama|Sci-Fi|Thriller'\n",
      " 'Action|Crime|Drama|War' 'Action|Adventure|Comedy|War'\n",
      " 'Adventure|Animation|Comedy' 'Comedy|Drama|Musical|Romance'\n",
      " 'Children|Drama|Fantasy' 'Adventure|Sci-Fi'\n",
      " 'Animation|Children|Comedy|Romance' 'Action|Horror|Sci-Fi|Thriller'\n",
      " 'Adventure|Sci-Fi|Thriller' 'Comedy|Drama|Romance' 'Comedy|Horror'\n",
      " 'Adventure|Children|Comedy' 'Action|Horror|Mystery|Sci-Fi'\n",
      " 'Drama|Horror|Sci-Fi|Thriller' 'Sci-Fi' 'Action|Horror|Sci-Fi' 'Action'\n",
      " 'Fantasy|Horror' 'Action|Drama|Sci-Fi|Thriller' 'Mystery|Sci-Fi|Thriller'\n",
      " 'Comedy|Drama|Thriller' 'Adventure|Comedy|Western' 'Comedy|Mystery'\n",
      " 'Animation|Children|Fantasy|Musical|Romance|IMAX' 'Adventure|Western'\n",
      " 'Drama|Mystery|Western' 'Comedy|Musical|Romance'\n",
      " 'Action|Adventure|Mystery|Romance|Thriller' 'Drama|Romance|War'\n",
      " 'Film-Noir|Romance|Thriller' 'Drama|Romance|Thriller'\n",
      " 'Crime|Drama|Film-Noir' 'Fantasy|Sci-Fi' 'Adventure|Drama|War'\n",
      " 'Drama|Western' 'Action|Western' 'Drama|Mystery|Romance|Thriller'\n",
      " 'Adventure|Animation|Children|Comedy|Drama|Musical|Romance'\n",
      " 'Drama|Musical|Romance' 'Crime|Drama|Film-Noir|Thriller'\n",
      " 'Drama|Horror|Mystery' 'Action|Mystery' 'Western'\n",
      " 'Mystery|Romance|Thriller' 'Comedy|Drama|Musical'\n",
      " 'Action|Mystery|Thriller' 'Action|Adventure|Drama|Thriller|Western'\n",
      " 'Action|Drama|Romance' 'Adventure|Comedy|Crime' 'Drama|Thriller|War'\n",
      " 'Action|Adventure|Comedy|Sci-Fi' 'Action|Drama'\n",
      " 'Drama|Fantasy|Horror|Thriller|War' 'Children|Drama'\n",
      " 'Adventure|Drama|IMAX' 'Action|Adventure|Comedy|Crime' 'Drama|Horror'\n",
      " 'Drama|Romance|War|Western'\n",
      " 'Adventure|Animation|Children|Drama|Musical|IMAX'\n",
      " 'Action|Adventure|Comedy|Romance|Thriller' 'Children|Comedy|Fantasy'\n",
      " 'Animation|Children|Drama|Fantasy|Musical' 'Adventure|Children'\n",
      " 'Crime|Drama|Horror|Mystery|Thriller' 'Drama|Sci-Fi' 'Children|Comedy'\n",
      " 'Drama|Horror|Thriller' 'Comedy|Horror|Romance'\n",
      " 'Action|Comedy|Crime|Drama|Thriller' 'Crime|Drama|Mystery'\n",
      " 'Action|Adventure|Mystery|Sci-Fi' 'Action|Adventure|Crime|Thriller'\n",
      " 'Action|Children' 'Drama|Fantasy' 'Adventure|Comedy|Crime|Mystery'\n",
      " 'Action|Comedy|Romance' 'Adventure|Children|Comedy|Fantasy|Romance'\n",
      " 'Action|Thriller|Western' 'Children|Drama|Fantasy|Mystery'\n",
      " 'Action|Drama|Thriller' 'Adventure|Drama|Sci-Fi' 'Action|Crime|Horror'\n",
      " 'Children' 'Drama|Film-Noir|Romance' 'Action|Crime|Fantasy|Thriller'\n",
      " 'Drama|Horror|Mystery|Thriller' 'Action|Romance|Thriller'\n",
      " 'Drama|Horror|Romance|Thriller' 'Action|Fantasy' 'Comedy|Thriller'\n",
      " 'Horror|Sci-Fi|Thriller' 'Adventure|Children|Drama' 'Action|Comedy|War'\n",
      " 'Action|Crime|Drama' 'Action|Children|Romance' 'Comedy|Crime|Horror'\n",
      " 'Action|Adventure|Children|Comedy|Fantasy|Sci-Fi'\n",
      " 'Comedy|Drama|Fantasy|Romance|Thriller'\n",
      " 'Adventure|Animation|Children|Fantasy|Musical|Romance' 'Horror|Mystery'\n",
      " 'Animation|Children|Drama|Musical|Romance' 'Comedy|Horror|Thriller'\n",
      " 'Sci-Fi|Thriller' 'Horror|Thriller' 'Crime|Film-Noir'\n",
      " 'Animation|Children|Comedy|Fantasy|Musical|Romance' 'Action|Romance'\n",
      " 'Comedy|Drama|Sci-Fi' 'Action|Romance|Sci-Fi|Thriller'\n",
      " 'Action|Comedy|Sci-Fi|Western' 'Comedy|Fantasy|Sci-Fi'\n",
      " 'Adventure|Animation|Children|Comedy|Fantasy|Romance'\n",
      " 'Action|Adventure|Drama|Sci-Fi' 'Children|Comedy|Romance'\n",
      " 'Drama|Fantasy|Mystery|Sci-Fi' 'Crime|Thriller'\n",
      " 'Action|Adventure|Sci-Fi|IMAX' 'Action|Crime|Mystery|Sci-Fi|Thriller'\n",
      " 'Adventure|Animation|Fantasy' 'Comedy|Crime|Drama|Musical'\n",
      " 'Action|Adventure|Sci-Fi|Thriller|IMAX' 'Comedy|Musical'\n",
      " 'Action|Adventure|Drama|War' 'Action|Adventure|Drama|Fantasy'\n",
      " 'Adventure|Animation|Children|Comedy|Musical|Romance'\n",
      " 'Adventure|Fantasy|IMAX' 'Comedy|Fantasy|Thriller' 'Action|Crime|Fantasy'\n",
      " 'Drama|Mystery|Sci-Fi|Thriller' 'Animation|Children|Comedy'\n",
      " 'Action|Adventure|Animation|Children|Comedy'\n",
      " 'Adventure|Animation|Children|Fantasy|IMAX'\n",
      " 'Action|Adventure|Drama|Mystery|Thriller'\n",
      " 'Adventure|Animation|Children|Comedy|Fantasy|Sci-Fi|IMAX'\n",
      " 'Action|Crime|Film-Noir|Mystery|Thriller' 'Action|Crime|IMAX'\n",
      " 'Drama|Fantasy|Mystery' 'Musical' 'Comedy|Romance|Sci-Fi'\n",
      " 'Adventure|Romance' 'Action|War' 'Crime|Drama|Romance'\n",
      " 'Action|Fantasy|War|IMAX' 'Drama|Fantasy|Romance|Thriller'\n",
      " 'Adventure|Fantasy|Mystery|Romance|IMAX'\n",
      " 'Drama|Fantasy|Horror|Romance|Thriller'\n",
      " 'Animation|Children|Fantasy|Musical|Romance'\n",
      " 'Action|Crime|Mystery|Thriller' 'Fantasy|Romance|Thriller|IMAX'\n",
      " 'Animation|Children|Comedy|Crime'\n",
      " 'Animation|Children|Comedy|Fantasy|Musical|Romance|IMAX'\n",
      " 'Action|Adventure|Animation|Children|Comedy|IMAX'\n",
      " 'Adventure|Drama|Fantasy|Romance' 'Action|Adventure|Animation|Children'\n",
      " 'Action|Adventure|Thriller|IMAX' 'Adventure|Drama|Fantasy|Romance|IMAX'\n",
      " 'Animation|Children|Comedy|IMAX' 'Action|Drama|Thriller|IMAX'\n",
      " 'Adventure|Animation|Comedy|Fantasy|Musical|Romance'\n",
      " 'Action|Animation|Children' 'Action|Adventure|Crime'\n",
      " 'Action|Thriller|War' 'Adventure|Animation|Comedy|Crime'\n",
      " 'Action|Adventure|Comedy|Western' 'Comedy|Crime|Drama|Romance|Thriller'\n",
      " 'Action|Adventure|Horror|Sci-Fi'\n",
      " 'Animation|Children|Comedy|Musical|Romance' 'Drama|Romance|Sci-Fi'\n",
      " 'Crime|Horror|Mystery|Thriller' 'Animation|Children|Drama|Fantasy'\n",
      " 'Adventure|Drama|Thriller' 'Action|Adventure|Drama|Sci-Fi|Thriller'\n",
      " 'Action|Horror|Sci-Fi|Thriller|IMAX'\n",
      " 'Adventure|Animation|Children|Romance|Sci-Fi'\n",
      " 'Adventure|Animation|Sci-Fi' 'Animation|Children|Fantasy|IMAX'\n",
      " 'Romance|Sci-Fi|Thriller' 'Action|Drama|Mystery|Sci-Fi|Thriller'\n",
      " 'Action|Horror|Sci-Fi|IMAX' 'Action|Crime|Sci-Fi'\n",
      " 'Action|Drama|Horror|IMAX' 'Action|Sci-Fi|IMAX'\n",
      " 'Adventure|Drama|Thriller|IMAX' 'Action|Adventure|Fantasy|Sci-Fi|IMAX'\n",
      " 'Action|Adventure|Fantasy|Sci-Fi'\n",
      " 'Adventure|Animation|Children|Comedy|Drama|Fantasy' 'Animation|Comedy'\n",
      " 'Adventure|Drama|Romance|Sci-Fi' 'Film-Noir|Mystery'\n",
      " 'Action|Adventure|Western' 'Adventure|Animation|Children|Comedy|Sci-Fi'\n",
      " 'Crime|Film-Noir|Thriller' 'Action|Comedy|Fantasy|Horror'\n",
      " 'Crime|Thriller|War' 'Action|Comedy|Fantasy'\n",
      " 'Action|Adventure|Animation|Drama|Fantasy'\n",
      " 'Action|Adventure|Animation|Children|Fantasy|Sci-Fi'\n",
      " 'Adventure|Animation|Drama|Fantasy|Sci-Fi' 'Drama|Sci-Fi|War'\n",
      " 'Drama|Fantasy|Thriller'\n",
      " 'Adventure|Animation|Children|Comedy|Fantasy|IMAX'\n",
      " 'Action|Drama|Thriller|Western' 'Action|Adventure|Crime|Drama|Thriller'\n",
      " 'Adventure|Animation|Fantasy|Romance' 'Film-Noir|Mystery|Thriller'\n",
      " 'Action|Adventure|Children|Drama' 'Fantasy|Horror|Mystery|Romance'\n",
      " 'Comedy|Mystery|Thriller' 'Action|Comedy|Crime'\n",
      " 'Action|Adventure|Animation|Comedy' 'Comedy|Crime|Drama|Romance'\n",
      " 'Adventure|Children|Comedy|Fantasy|IMAX'\n",
      " 'Action|Crime|Drama|Thriller|War'\n",
      " 'Animation|Comedy|Fantasy|Musical|Romance'\n",
      " 'Comedy|Crime|Mystery|Thriller' 'Action|Sci-Fi|Thriller|IMAX'\n",
      " 'Adventure|Comedy|Drama' 'Drama|Horror|Musical|Thriller'\n",
      " 'Action|Drama|Thriller|War' 'Action|Animation|Children|Comedy|IMAX'\n",
      " 'Action|Adventure|Comedy|Crime|Fantasy'\n",
      " 'Action|Drama|Mystery|Sci-Fi|Thriller|IMAX'\n",
      " 'Drama|Fantasy|Mystery|Romance' 'Comedy|Drama|Musical|Sci-Fi'\n",
      " 'Action|Comedy|Drama' 'Animation|Comedy|Drama'\n",
      " 'Action|Drama|Horror|Thriller' 'Action|Crime|Mystery'\n",
      " 'Action|Comedy|Thriller' 'Action|Comedy|Fantasy|Musical|Romance'\n",
      " 'Action|Adventure|Comedy|Crime|Thriller' 'Crime|Drama|Romance|Thriller'\n",
      " 'Action|Comedy|Crime|Fantasy|Thriller|IMAX'\n",
      " 'Action|Adventure|Drama|Fantasy|IMAX' 'Action|Adventure|Fantasy|IMAX'\n",
      " 'Action|Adventure|Sci-Fi|Thriller|War'\n",
      " 'Action|Adventure|Comedy|Crime|Mystery|Thriller' 'Drama|Sci-Fi|IMAX'\n",
      " 'Action|Animation|Sci-Fi' 'Action|Animation' 'Action|Drama|Sci-Fi|IMAX'\n",
      " 'Comedy|Drama|Mystery' 'Documentary|Drama|Musical' 'Crime'\n",
      " 'Adventure|Children|Comedy|Musical' 'Comedy|Mystery|Romance'\n",
      " 'Action|Adventure|Animation|Children|Fantasy'\n",
      " 'Action|Adventure|Animation|Horror|Sci-Fi'\n",
      " 'Drama|Fantasy|Horror|Thriller' 'Comedy|Fantasy|Romance|Sci-Fi'\n",
      " 'Action|Adventure|Drama|Thriller' 'Comedy|Fantasy|Musical'\n",
      " 'Comedy|Crime|Mystery|Romance|Thriller' 'Crime|Mystery|Romance|Thriller'\n",
      " 'Action|Adventure|Comedy|Fantasy|Horror'\n",
      " 'Fantasy|Horror|Romance|Thriller' 'Action|Mystery|Sci-Fi'\n",
      " 'Action|Comedy|Western' 'Action|Adventure|Fantasy|Thriller'\n",
      " 'Children|Fantasy' 'Romance|Thriller'\n",
      " 'Adventure|Animation|Children|Drama|Musical'\n",
      " 'Adventure|Film-Noir|Sci-Fi|Thriller' 'Crime|Drama|Fantasy|Thriller'\n",
      " 'Crime|Drama|Mystery|Romance|Thriller' 'Children|Comedy|Drama'\n",
      " 'Adventure|Children|Comedy|Fantasy' 'Adventure|Comedy|Romance'\n",
      " 'Children|Comedy|Western' 'Children|Sci-Fi'\n",
      " 'Action|Adventure|Children|Comedy' 'Children|Comedy|Fantasy|Horror'\n",
      " 'Children|Comedy|Sci-Fi' 'Adventure|Comedy|Musical'\n",
      " 'Children|Drama|Fantasy|Mystery|Thriller'\n",
      " 'Animation|Children|Comedy|Drama|Fantasy' 'Comedy|Fantasy|Horror'\n",
      " 'Action|Horror|Thriller' 'Horror|Mystery|Sci-Fi|Thriller'\n",
      " 'Horror|Western' 'Comedy|Crime|Mystery' 'Action|Drama|Romance|Sci-Fi'\n",
      " 'Animation|Musical' 'Action|Comedy|Romance|Thriller'\n",
      " 'Comedy|Horror|Musical' 'Comedy|Horror|Romance|Thriller'\n",
      " 'Action|Drama|Romance|Thriller'\n",
      " 'Adventure|Animation|Comedy|Fantasy|Musical'\n",
      " 'Adventure|Comedy|Fantasy|Sci-Fi'\n",
      " 'Action|Fantasy|Horror|Mystery|Thriller'\n",
      " 'Fantasy|Horror|Mystery|Thriller' 'Children|Comedy|Musical'\n",
      " 'Adventure|Crime|Drama' 'Film-Noir|Horror|Mystery|Thriller'\n",
      " 'Action|Adventure|Animation|Children|Sci-Fi'\n",
      " 'Action|Fantasy|Horror|Sci-Fi|Thriller' 'Children|Comedy|Mystery'\n",
      " 'Musical|Romance' 'Musical|Romance|War' 'Animation|Children|Musical|IMAX'\n",
      " 'Action|Children|Comedy|Fantasy|Sci-Fi' 'Children|Musical'\n",
      " 'Action|Adventure|Comedy|Thriller' 'Adventure|Animation|Fantasy|Sci-Fi'\n",
      " 'Adventure|Thriller' 'Crime|Drama|Film-Noir|Mystery|Thriller'\n",
      " 'Adventure|Children|Comedy|Fantasy|Mystery' 'Action|Comedy|Documentary'\n",
      " 'Adventure|Children|Comedy|Mystery' 'Action|Comedy|Crime|Romance'\n",
      " 'Action|Adventure|Animation|Children|Comedy|Fantasy'\n",
      " 'Adventure|Fantasy|Thriller|IMAX'\n",
      " 'Adventure|Comedy|Drama|Fantasy|Romance' 'Action|Comedy|Fantasy|IMAX'\n",
      " 'Adventure|Comedy|Sci-Fi|Thriller' 'Action|Adventure|Animation|Sci-Fi'\n",
      " 'Action|Comedy|IMAX' 'Action|Adventure|Animation|Children|Comedy|Romance'\n",
      " 'Action|Animation|Children|Comedy|Sci-Fi|IMAX'\n",
      " 'Action|Adventure|Sci-Fi|War|IMAX'\n",
      " 'Action|Adventure|Drama|Fantasy|Mystery|IMAX'\n",
      " 'Action|Adventure|Drama|Thriller|IMAX' 'Action|Comedy|Sci-Fi|IMAX'\n",
      " 'Children|Musical|Mystery' 'Action|Adventure|Animation'\n",
      " 'Action|Crime|Thriller|IMAX' 'Action|Adventure|Western|IMAX'\n",
      " 'Adventure|Romance|Sci-Fi|IMAX' 'Action|Crime|Sci-Fi|IMAX'\n",
      " 'Action|Animation|Comedy' '(no genres listed)' 'Crime|Drama|Horror'\n",
      " 'Animation|Fantasy' 'Romance' 'Comedy|Documentary|Drama'\n",
      " 'Action|Crime|Horror|Sci-Fi|Thriller'\n",
      " 'Action|Adventure|Crime|Horror|Thriller' 'Animation|Fantasy|Thriller'\n",
      " 'Adventure|Drama|Fantasy|Mystery|Sci-Fi' 'Animation|Sci-Fi'\n",
      " 'Documentary|Drama' 'Drama|Mystery|Sci-Fi'\n",
      " 'Action|Crime|Romance|Thriller' 'Crime|Film-Noir|Mystery'\n",
      " 'Crime|Drama|Fantasy|Film-Noir|Mystery|Romance'\n",
      " 'Animation|Comedy|Fantasy' 'Drama|Fantasy|Sci-Fi'\n",
      " 'Action|Adventure|Animation|Fantasy' 'Drama|Film-Noir|Thriller' 'Mystery'\n",
      " 'Action|Fantasy|Horror|Thriller' 'Action|Mystery|Sci-Fi|Thriller'\n",
      " 'Adventure|Comedy|Romance|War' 'Action|Horror'\n",
      " 'Adventure|Animation|Children|Musical|Western'\n",
      " 'Animation|Children|Fantasy' 'Comedy|War|Western'\n",
      " 'Action|Horror|Sci-Fi|War' 'Crime|Drama|Western'\n",
      " 'Action|Adventure|Drama|Fantasy|Thriller'\n",
      " 'Action|Fantasy|Sci-Fi|Thriller' 'Crime|Drama|Film-Noir|Mystery'\n",
      " 'Documentary|Drama|War' 'Action|Adventure|Crime|Drama|Thriller|War'\n",
      " 'Action|Comedy|Crime|Mystery' 'Adventure|Drama|Sci-Fi|Thriller'\n",
      " 'Action|Crime|Drama|Western' 'Action|Adventure|Comedy|Drama|Thriller'\n",
      " 'Adventure|Romance|Thriller' 'Adventure|Drama|Fantasy' 'War'\n",
      " 'Animation|Documentary|Drama|War' 'Drama|Sci-Fi|Thriller|IMAX'\n",
      " 'Children|Drama|Fantasy|Romance' 'Documentary|War' 'Drama|War|Western'\n",
      " 'Mystery|Sci-Fi|Thriller|IMAX' 'Comedy|Crime|Drama|Mystery|Thriller'\n",
      " 'Drama|Mystery|Romance' 'Animation|Fantasy|Horror|Sci-Fi'\n",
      " 'Comedy|Crime|Drama|War' 'Action|Fantasy|Horror|Romance'\n",
      " 'Action|Animation|Drama|Sci-Fi|Thriller'\n",
      " 'Action|Animation|Fantasy|Sci-Fi'\n",
      " 'Action|Adventure|Comedy|Fantasy|Mystery' 'Adventure|Drama|Fantasy|IMAX'\n",
      " 'Drama|Fantasy|Horror|Romance' 'Drama|Mystery|War'\n",
      " 'Comedy|Horror|Sci-Fi|Thriller' 'Action|Adventure|Children|IMAX'\n",
      " 'Action|Adventure|Crime|Drama|Romance|Thriller' 'Documentary|Musical'\n",
      " 'Action|Adventure|Thriller|War' 'Action|Adventure|Comedy|Drama|War'\n",
      " 'Adventure|Drama|Romance' 'Action|Adventure|War'\n",
      " 'Mystery|Romance|Sci-Fi|Thriller'\n",
      " 'Adventure|Animation|Children|Sci-Fi|IMAX' 'Comedy|Drama|Film-Noir'\n",
      " 'Action|Comedy|Drama|Horror' 'Adventure|Children|Comedy|Fantasy|Musical'\n",
      " 'Action|Adventure|Animation|Comedy|Crime|Mystery' 'Fantasy|Western'\n",
      " 'Action|Animation|Drama|Fantasy|Sci-Fi' 'Animation|Drama'\n",
      " 'Children|Comedy|Drama|Musical|Romance' 'Animation|Mystery|Sci-Fi'\n",
      " 'Animation|Comedy|Fantasy|Sci-Fi' 'Animation' 'Action|Children|Drama'\n",
      " 'Adventure|Comedy|Thriller' 'Action|Animation|Mystery|IMAX'\n",
      " 'Animation|Drama|Romance' 'Action|Comedy|Fantasy|Sci-Fi' 'Fantasy'\n",
      " 'Action|Animation|Crime|Sci-Fi' 'Drama|Thriller|Western'\n",
      " 'Animation|Drama|Fantasy' 'Action|Adventure|Comedy|Fantasy|Sci-Fi'\n",
      " 'Children|Comedy|Fantasy|Romance' 'Crime|Drama|Romance|War'\n",
      " 'Adventure|Drama|Mystery|Thriller' 'Action|Sci-Fi|War'\n",
      " 'Horror|Mystery|Sci-Fi' 'Comedy|Horror|Sci-Fi' 'Action|Fantasy|Thriller'\n",
      " 'Action|Crime|Drama|Mystery|Sci-Fi|Thriller'\n",
      " 'Adventure|Drama|Romance|War' 'Action|Adventure|Drama|Western'\n",
      " 'Children|Comedy|Romance|Sci-Fi' 'Animation|Comedy|Drama|Fantasy'\n",
      " 'Documentary|IMAX' 'Action|Fantasy|Sci-Fi'\n",
      " 'Action|Animation|Drama|Sci-Fi' 'Action|Adventure|Fantasy|Romance|IMAX'\n",
      " 'Drama|Fantasy|Romance|Sci-Fi' 'Children|Drama|Mystery'\n",
      " 'Drama|Musical|Romance|IMAX' 'Action|Adventure|Fantasy|Horror|Thriller'\n",
      " 'Drama|Horror|Mystery|Sci-Fi|Thriller' 'Action|Adventure|Children'\n",
      " 'Adventure|Mystery|Sci-Fi|Thriller' 'Action|Comedy|Crime|Horror'\n",
      " 'Action|Adventure|Children|Sci-Fi' 'Fantasy|Horror|Thriller'\n",
      " 'Action|Drama|Horror' 'Animation|Drama|Mystery|Sci-Fi|Thriller'\n",
      " 'Adventure|Comedy|Fantasy|Romance' 'Animation|Comedy|Romance'\n",
      " 'Animation|Drama|War' 'Action|Comedy|Crime|Drama|Horror|Thriller'\n",
      " 'Action|Adventure|Children|Crime|Mystery|Thriller'\n",
      " 'Action|Fantasy|Horror' 'Comedy|Fantasy|Horror|Thriller' 'Crime|Mystery'\n",
      " 'Action|Comedy|Romance|War' 'Comedy|Crime|Romance|Thriller'\n",
      " 'Adventure|Documentary' 'Comedy|Crime|Horror|Mystery|Thriller'\n",
      " 'Adventure|Drama|Horror|Thriller' 'Animation|Children|Fantasy|Mystery'\n",
      " 'Adventure|Animation|Children|Comedy|IMAX'\n",
      " 'Comedy|Drama|Horror|Sci-Fi|Thriller'\n",
      " 'Action|Adventure|Animation|Children|Comedy|Sci-Fi'\n",
      " 'Animation|Comedy|Fantasy|Musical' 'Drama|Romance|Western'\n",
      " 'Drama|Romance|Thriller|War'\n",
      " 'Adventure|Animation|Children|Comedy|Fantasy|Musical|Romance'\n",
      " 'Animation|Comedy|Sci-Fi'\n",
      " 'Action|Adventure|Animation|Comedy|Fantasy|Sci-Fi'\n",
      " 'Animation|Sci-Fi|IMAX' 'Crime|Documentary' 'Sci-Fi|Thriller|IMAX'\n",
      " 'Adventure|Animation|Children|Comedy|Crime'\n",
      " 'Animation|Fantasy|Musical|IMAX' 'Drama|Romance|Sci-Fi|Thriller'\n",
      " 'Drama|Mystery|Romance|War' 'Mystery|Sci-Fi' 'Horror|IMAX'\n",
      " 'Crime|Sci-Fi|Thriller' 'Action|Fantasy|Horror|IMAX'\n",
      " 'Drama|Fantasy|Horror|Mystery|Thriller'\n",
      " 'Action|Animation|Children|Fantasy' 'Comedy|Mystery|Sci-Fi'\n",
      " 'Crime|Drama|Mystery|Thriller|War' 'Crime|Drama|War'\n",
      " 'Animation|Children|Comedy|Fantasy' 'Adventure|Comedy|Horror|Romance'\n",
      " 'Comedy|Documentary|Romance' 'Children|Comedy|Drama|Mystery'\n",
      " 'Action|Animation|Comedy|Horror' 'Adventure|Comedy|Mystery'\n",
      " 'Comedy|Crime|Horror|Thriller' 'Comedy|Drama|Horror'\n",
      " 'Action|Adventure|Children|Fantasy'\n",
      " 'Action|Adventure|Animation|Children|Comedy|Western'\n",
      " 'Adventure|Comedy|Musical|Sci-Fi' 'Adventure|Comedy|Horror'\n",
      " 'Animation|Children|Mystery' 'Adventure|Children|Fantasy|Sci-Fi'\n",
      " 'Action|Adventure|Children|Comedy|Sci-Fi'\n",
      " 'Action|Adventure|Animation|Comedy|Sci-Fi'\n",
      " 'Action|Comedy|Sci-Fi|Thriller' 'Comedy|Horror|Mystery'\n",
      " 'Comedy|Crime|Fantasy' 'Adventure|Children|Comedy|Drama|Fantasy|Sci-Fi'\n",
      " 'Action|Adventure|Comedy|Fantasy|Sci-Fi|Thriller' 'Comedy|Sci-Fi|War'\n",
      " 'Action|Adventure|Fantasy|Mystery'\n",
      " 'Adventure|Animation|Children|Drama|Fantasy'\n",
      " 'Action|Adventure|Crime|Sci-Fi|Thriller' 'Action|Crime|Thriller|Western'\n",
      " 'Romance|Sci-Fi' 'Comedy|Musical|Sci-Fi'\n",
      " 'Action|Adventure|Drama|Romance|Thriller'\n",
      " 'Action|Animation|Sci-Fi|Thriller' 'Action|Drama|Horror|Sci-Fi|Thriller'\n",
      " 'Animation|Drama|Sci-Fi|War' 'Animation|Comedy|Drama|Fantasy|Sci-Fi'\n",
      " 'Drama|Horror|Mystery|Romance|Thriller' 'Drama|Fantasy|Musical|Romance'\n",
      " 'Adventure|Children|Fantasy|Western'\n",
      " 'Adventure|Children|Drama|Fantasy|IMAX' 'Comedy|Musical|Romance|Western'\n",
      " 'Crime|Drama|Horror|Thriller' 'Action|Comedy|Drama|Thriller'\n",
      " 'Comedy|Crime|Drama|Mystery|Romance'\n",
      " 'Action|Adventure|Children|Mystery|Sci-Fi'\n",
      " 'Action|Animation|Children|Comedy' 'Adventure|Crime|Thriller'\n",
      " 'Comedy|Crime|Drama|Fantasy' 'Action|Adventure|Comedy|Drama|Romance|War'\n",
      " 'Adventure|Drama|Fantasy|Horror|Sci-Fi' 'Film-Noir|Thriller'\n",
      " 'Animation|Comedy|Drama|Romance|Sci-Fi' 'Comedy|Crime|Drama|Mystery'\n",
      " 'Adventure|Animation|Children|Comedy|Drama|Romance' 'Animation|Romance'\n",
      " 'Comedy|Drama|Fantasy|Mystery|Romance' 'Animation|Drama|Fantasy|Romance'\n",
      " 'Animation|Crime|Drama' 'Adventure|Comedy|Mystery|Romance'\n",
      " 'Comedy|Horror|IMAX' 'Animation|Comedy|Horror|IMAX'\n",
      " 'Action|Comedy|Horror|Sci-Fi' 'Action|Fantasy|Sci-Fi|IMAX'\n",
      " 'Action|Drama|Fantasy' 'Action|Adventure|Drama|Romance|War'\n",
      " 'Adventure|Comedy|Drama|Fantasy|Mystery|Sci-Fi|Thriller'\n",
      " 'Adventure|Comedy|Fantasy|Romance|IMAX' 'Comedy|Crime|Sci-Fi'\n",
      " 'Action|Adventure|Animation|Fantasy|Sci-Fi'\n",
      " 'Fantasy|Horror|Sci-Fi|Thriller'\n",
      " 'Adventure|Animation|Comedy|Fantasy|Romance' 'Crime|Romance|Thriller'\n",
      " 'Fantasy|Horror|Mystery' 'Drama|Film-Noir|Mystery|Romance'\n",
      " 'Crime|Fantasy|Horror' 'Children|Comedy|Musical|Romance'\n",
      " 'Romance|Western' 'Action|Drama|War|Western'\n",
      " 'Action|Animation|Comedy|Crime|Drama|Romance|Thriller' 'Adventure'\n",
      " 'Adventure|War' 'Adventure|Thriller|Western'\n",
      " 'Action|Adventure|Drama|Romance' 'Action|Crime|Drama|Thriller|IMAX'\n",
      " 'Crime|Drama|Musical|Thriller' 'Action|Drama|Mystery|Romance|Thriller'\n",
      " 'Adventure|Fantasy|Romance|Sci-Fi|Thriller'\n",
      " 'Action|Crime|Sci-Fi|Thriller' 'Comedy|Drama|Fantasy|Sci-Fi'\n",
      " 'Children|Fantasy|Musical' 'Children|Drama|Musical'\n",
      " 'Musical|Romance|Western' 'Fantasy|Musical|Romance'\n",
      " 'Adventure|Drama|Romance|Thriller|War'\n",
      " 'Action|Adventure|Children|Comedy|Mystery'\n",
      " 'Action|Adventure|Comedy|Drama|Romance' 'Crime|Western'\n",
      " 'Drama|Fantasy|Mystery|Thriller' 'Action|Animation|Comedy|Romance|Sci-Fi'\n",
      " 'Adventure|Drama|War|Western' 'Action|Animation|Comedy|Sci-Fi'\n",
      " 'Crime|Drama|Fantasy|Horror|Thriller'\n",
      " 'Adventure|Animation|Comedy|Fantasy|IMAX' 'Drama|Fantasy|Musical'\n",
      " 'Comedy|Drama|Romance|Thriller' 'Action|Adventure|Animation|Drama'\n",
      " 'Action|Animation|Drama' 'Animation|Fantasy|Horror|Mystery'\n",
      " 'Action|Adventure|Animation|Drama|Fantasy|Sci-Fi'\n",
      " 'Action|Animation|Mystery' 'Animation|Drama|Sci-Fi'\n",
      " 'Animation|Fantasy|Mystery' 'Action|Animation|Comedy|Fantasy'\n",
      " 'Action|Sci-Fi|Thriller|Western' 'Action|Adventure|Fantasy|Romance'\n",
      " 'Animation|Horror|Mystery|Thriller' 'Adventure|Animation|Drama'\n",
      " 'Drama|Film-Noir' 'Drama|Horror|War'\n",
      " 'Action|Adventure|Comedy|Crime|Drama|Film-Noir|Horror|Mystery|Thriller|Western'\n",
      " 'Adventure|Animation|Comedy|Sci-Fi'\n",
      " 'Action|Adventure|Comedy|Drama|Fantasy|Thriller'\n",
      " 'Adventure|Drama|Fantasy|Sci-Fi' 'Adventure|Children|Drama|Sci-Fi'\n",
      " 'Action|Drama|Mystery' 'Fantasy|Romance' 'Fantasy|Horror|Sci-Fi|Western'\n",
      " 'Adventure|Animation|Children|Fantasy|Sci-Fi' 'Action|Children|Comedy'\n",
      " 'Action|Adventure|Crime|Drama' 'Action|Drama|Romance|Western'\n",
      " 'Action|Crime|Film-Noir' 'Comedy|Drama|Musical|IMAX' 'Horror|Romance'\n",
      " 'Comedy|Fantasy|Horror|Musical|Thriller'\n",
      " 'Action|Adventure|Children|Comedy|Crime'\n",
      " 'Action|Crime|Horror|Mystery|Thriller'\n",
      " 'Adventure|Drama|Horror|Sci-Fi|Thriller'\n",
      " 'Children|Comedy|Crime|Drama|Fantasy' 'Comedy|Crime|Musical'\n",
      " 'Children|Documentary' 'Action|Adventure|Horror|Mystery|Sci-Fi|Thriller'\n",
      " 'Action|Drama|Fantasy|Horror|Mystery|Sci-Fi|Thriller'\n",
      " 'Crime|Drama|Fantasy|Mystery|Thriller'\n",
      " 'Action|Adventure|Animation|Fantasy|IMAX' 'Documentary|Drama|Thriller'\n",
      " 'Action|Adventure|Comedy|Drama|Romance|Thriller'\n",
      " 'Adventure|Animation|Fantasy|IMAX' 'Action|Sci-Fi|Thriller|Western|IMAX'\n",
      " 'Action|Horror|Mystery|Thriller' 'Documentary|Mystery'\n",
      " 'Action|Fantasy|Thriller|IMAX' 'Action|Animation|Fantasy|IMAX'\n",
      " 'Action|Drama|War|IMAX' 'Comedy|Romance|Western'\n",
      " 'Adventure|Children|Comedy|Drama'\n",
      " 'Drama|Fantasy|Mystery|Romance|Thriller'\n",
      " 'Action|Animation|Crime|Sci-Fi|Thriller'\n",
      " 'Comedy|Crime|Drama|Horror|Mystery' 'Action|Crime|Drama|Horror'\n",
      " 'Action|Comedy|Fantasy|Horror|Thriller' 'Action|Animation|Crime'\n",
      " 'Action|Adventure|Comedy|Horror' 'Adventure|Horror|Sci-Fi'\n",
      " 'Comedy|Musical|Western' 'Comedy|Fantasy|Mystery'\n",
      " 'Fantasy|Mystery|Thriller' 'Comedy|Documentary|Musical' 'Film-Noir'\n",
      " 'Drama|Fantasy|Horror|Mystery|Sci-Fi|Thriller'\n",
      " 'Drama|Fantasy|Sci-Fi|Thriller'\n",
      " 'Adventure|Children|Comedy|Romance|Sci-Fi'\n",
      " 'Animation|Children|Drama|Fantasy|IMAX' 'Children|Drama|War'\n",
      " 'Adventure|Mystery|Thriller' 'Adventure|Animation|Romance'\n",
      " 'Documentary|Horror' 'Children|Comedy|Fantasy|Sci-Fi'\n",
      " 'Adventure|Children|Drama|Fantasy' 'Comedy|Drama|Sci-Fi|Thriller'\n",
      " 'Drama|Mystery|Romance|Sci-Fi|Thriller'\n",
      " 'Adventure|Drama|Horror|Mystery|Thriller'\n",
      " 'Action|Crime|Drama|Horror|Thriller' 'Crime|Documentary|War'\n",
      " 'Action|Comedy|Crime|Fantasy|Thriller'\n",
      " 'Animation|Fantasy|Sci-Fi|Thriller' 'Crime|Sci-Fi'\n",
      " 'Action|Adventure|Animation|Horror'\n",
      " 'Action|Animation|Comedy|Horror|Thriller' 'Documentary|Drama|Mystery'\n",
      " 'Crime|Drama|Fantasy' 'Animation|Comedy|Drama|Romance'\n",
      " 'Horror|Romance|Thriller' 'Animation|Documentary'\n",
      " 'Action|Fantasy|Mystery' 'Animation|Horror|Mystery'\n",
      " 'Action|Crime|Mystery|Romance|Thriller'\n",
      " 'Action|Adventure|Comedy|Documentary|Fantasy'\n",
      " 'Adventure|Animation|Comedy|Fantasy|Romance|Sci-Fi'\n",
      " 'Horror|Thriller|IMAX' 'Adventure|Comedy|Fantasy|Musical'\n",
      " 'Children|Drama|Romance' 'Comedy|Documentary|Drama|Romance'\n",
      " 'Action|Adventure|Animation|Crime|Fantasy'\n",
      " 'Animation|Drama|Fantasy|Mystery' 'Comedy|Crime|Mystery|Romance'\n",
      " 'Action|Comedy|Drama|War' 'Fantasy|Mystery|Western'\n",
      " 'Action|Adventure|Drama|Fantasy|Romance|Sci-Fi|Thriller'\n",
      " 'Adventure|Animation|Children|Musical|Romance'\n",
      " 'Action|Comedy|Horror|Sci-Fi|Thriller|Western'\n",
      " 'Action|Fantasy|Horror|Mystery|Sci-Fi|Thriller'\n",
      " 'Action|Animation|Children|Sci-Fi' 'Adventure|Fantasy|Thriller'\n",
      " 'Adventure|Animation|Comedy|Fantasy'\n",
      " 'Action|Adventure|Animation|Comedy|Thriller' 'Action|Animation|Fantasy'\n",
      " 'Action|Animation|Crime|Thriller' 'Action|Animation|Crime|Drama'\n",
      " 'Action|Fantasy|Sci-Fi|Thriller|War' 'Children|Comedy|Drama|Fantasy'\n",
      " 'Action|Adventure|Horror' 'Adventure|War|Western'\n",
      " 'Adventure|Drama|Mystery' 'Comedy|Drama|Mystery|Thriller'\n",
      " 'Adventure|Comedy|Documentary' 'Comedy|Crime|Drama|Western'\n",
      " 'Action|Adventure|Animation|Comedy|Fantasy|Mystery|Sci-Fi'\n",
      " 'Children|Fantasy|Musical|Romance' 'Comedy|Crime|Drama|Horror'\n",
      " 'Adventure|Children|Fantasy|Sci-Fi|Thriller'\n",
      " 'Comedy|Drama|Mystery|Romance' 'Action|Adventure|Comedy|Drama'\n",
      " 'Comedy|Sci-Fi|Thriller' 'Crime|Drama|Thriller|War'\n",
      " 'Documentary|Musical|IMAX' 'Action|Children|Sci-Fi|IMAX'\n",
      " 'Action|Comedy|Fantasy|Thriller' 'Comedy|Drama|Sci-Fi|War'\n",
      " 'Adventure|Crime|Drama|Romance' 'Children|Comedy|Crime|Musical'\n",
      " 'Crime|Horror|Sci-Fi' 'Adventure|Fantasy|Sci-Fi' 'Crime|Romance'\n",
      " 'Action|Fantasy|Western' 'Action|Crime|Horror|Thriller'\n",
      " 'Children|Horror|Sci-Fi' 'Action|IMAX' 'Horror|Sci-Fi|Western'\n",
      " 'Action|Adventure|Romance|Sci-Fi' 'Action|Crime|Fantasy|Sci-Fi|Thriller'\n",
      " 'Comedy|Drama|Fantasy|Mystery' 'Adventure|Documentary|Western'\n",
      " 'Drama|Film-Noir|Mystery|Thriller' 'Adventure|Comedy|Crime|Drama|Romance'\n",
      " 'Romance|War' 'Drama|Musical|Mystery' 'Adventure|Crime|Drama|Thriller'\n",
      " 'Children|Horror|Mystery|Thriller' 'Adventure|Comedy|Crime|Thriller'\n",
      " 'Action|Adventure|Comedy|Crime|Drama'\n",
      " 'Crime|Drama|Film-Noir|Romance|Thriller' 'Drama|Film-Noir|Mystery'\n",
      " 'Comedy|Crime|Drama|Musical|Mystery|Romance' 'Adventure|Comedy|War'\n",
      " 'Crime|Drama|Film-Noir|Romance'\n",
      " 'Action|Adventure|Drama|Romance|Thriller|Western'\n",
      " 'Animation|Drama|Sci-Fi|IMAX' 'Comedy|Fantasy|Mystery|Sci-Fi'\n",
      " 'Animation|Drama|Romance|Sci-Fi' 'Action|Animation|Mystery|Sci-Fi'\n",
      " 'Adventure|Animation|Children|Western' 'Animation|Comedy|War'\n",
      " 'Crime|Drama|Musical' 'Adventure|Animation|Children|Comedy|Fantasy|War'\n",
      " 'Adventure|Animation' 'Comedy|Crime|Musical|Mystery'\n",
      " 'Action|Animation|Children|Comedy|Musical' 'Animation|Fantasy|Sci-Fi|War'\n",
      " 'Adventure|Children|Comedy|Sci-Fi' 'Animation|Children|Comedy|Drama'\n",
      " 'Adventure|Documentary|IMAX'\n",
      " 'Action|Adventure|Animation|Children|Comedy|Sci-Fi|IMAX'\n",
      " 'Fantasy|Mystery|Romance|Thriller' 'Adventure|Comedy|Drama|Romance'\n",
      " 'Action|Drama|Mystery|Thriller' 'Adventure|Animation|Drama|Horror'\n",
      " 'Action|Adventure|Comedy|Sci-Fi|IMAX' 'Action|Drama|IMAX'\n",
      " 'Crime|Horror|Mystery' 'Adventure|Fantasy|Musical|Romance'\n",
      " 'Adventure|Romance|Sci-Fi' 'Comedy|Romance|Sci-Fi|Thriller'\n",
      " 'Action|Animation|Crime|Drama|Film-Noir|Mystery|Sci-Fi|Thriller'\n",
      " 'Action|Documentary|Drama|Thriller'\n",
      " 'Action|Adventure|Comedy|Sci-Fi|Thriller' 'Comedy|Drama|Romance|Sci-Fi'\n",
      " 'Action|Animation|Horror' 'Comedy|Crime|Drama|Sci-Fi|Thriller'\n",
      " 'Action|Comedy|Horror|Musical'\n",
      " 'Action|Adventure|Comedy|Crime|Romance|Thriller'\n",
      " 'Adventure|Comedy|Crime|Drama|Mystery|Thriller'\n",
      " 'Animation|Fantasy|Horror' 'Adventure|Comedy|Fantasy|Horror'\n",
      " 'Action|Comedy|Crime|Western' 'Comedy|Fantasy|Horror|Sci-Fi'\n",
      " 'Action|Animation|Film-Noir|Sci-Fi|Thriller'\n",
      " 'Action|Comedy|Drama|Horror|Thriller'\n",
      " 'Animation|Children|Comedy|Fantasy|Musical'\n",
      " 'Animation|Children|Comedy|Horror'\n",
      " 'Action|Adventure|Animation|Sci-Fi|Thriller'\n",
      " 'Animation|Comedy|Horror|Musical' 'Documentary|Fantasy'\n",
      " 'Animation|Children|Comedy|Musical|Sci-Fi' 'Crime|Drama|Horror|Mystery'\n",
      " 'Animation|Children|Comedy|Drama|Romance'\n",
      " 'Adventure|Animation|Fantasy|Horror|Sci-Fi'\n",
      " 'Comedy|Mystery|Romance|Thriller' 'Comedy|Drama|Romance|Western'\n",
      " 'Crime|Musical' 'Action|Adventure|Drama|Fantasy|Romance'\n",
      " 'Adventure|Comedy|Drama|Fantasy' 'Action|Adventure|Fantasy|War'\n",
      " 'Musical|Western' 'Action|Drama|Fantasy|Sci-Fi'\n",
      " 'Action|Adventure|Horror|Sci-Fi|Thriller' 'Action|Comedy|Drama|Romance'\n",
      " 'Horror|Thriller|Western' 'Comedy|Musical|Sci-Fi|Western'\n",
      " 'Crime|Thriller|Western' 'Drama|Fantasy|Musical|Mystery|Sci-Fi'\n",
      " 'Children|Crime|Drama' 'Drama|Fantasy|Thriller|War'\n",
      " 'Drama|Horror|Romance' 'Horror|Romance|Sci-Fi'\n",
      " 'Action|Crime|Drama|Sci-Fi']\n"
     ]
    }
   ],
   "source": [
    "# check for unique values in the genres column\n",
    "print('Unique genres')\n",
    "print(movie_ratings_df['genres'].unique())"
   ]
  },
  {
   "cell_type": "markdown",
   "metadata": {},
   "source": [
    "## **4. Exploratory Data Analysis**"
   ]
  },
  {
   "cell_type": "code",
   "execution_count": 9,
   "metadata": {},
   "outputs": [
    {
     "data": {
      "text/html": [
       "<div>\n",
       "<style scoped>\n",
       "    .dataframe tbody tr th:only-of-type {\n",
       "        vertical-align: middle;\n",
       "    }\n",
       "\n",
       "    .dataframe tbody tr th {\n",
       "        vertical-align: top;\n",
       "    }\n",
       "\n",
       "    .dataframe thead th {\n",
       "        text-align: right;\n",
       "    }\n",
       "</style>\n",
       "<table border=\"1\" class=\"dataframe\">\n",
       "  <thead>\n",
       "    <tr style=\"text-align: right;\">\n",
       "      <th></th>\n",
       "      <th>userId</th>\n",
       "      <th>movieId</th>\n",
       "      <th>rating</th>\n",
       "      <th>title</th>\n",
       "    </tr>\n",
       "  </thead>\n",
       "  <tbody>\n",
       "    <tr>\n",
       "      <th>0</th>\n",
       "      <td>1</td>\n",
       "      <td>1</td>\n",
       "      <td>4.0</td>\n",
       "      <td>Toy Story (1995)</td>\n",
       "    </tr>\n",
       "    <tr>\n",
       "      <th>1</th>\n",
       "      <td>5</td>\n",
       "      <td>1</td>\n",
       "      <td>4.0</td>\n",
       "      <td>Toy Story (1995)</td>\n",
       "    </tr>\n",
       "    <tr>\n",
       "      <th>2</th>\n",
       "      <td>7</td>\n",
       "      <td>1</td>\n",
       "      <td>4.5</td>\n",
       "      <td>Toy Story (1995)</td>\n",
       "    </tr>\n",
       "    <tr>\n",
       "      <th>3</th>\n",
       "      <td>15</td>\n",
       "      <td>1</td>\n",
       "      <td>2.5</td>\n",
       "      <td>Toy Story (1995)</td>\n",
       "    </tr>\n",
       "    <tr>\n",
       "      <th>4</th>\n",
       "      <td>17</td>\n",
       "      <td>1</td>\n",
       "      <td>4.5</td>\n",
       "      <td>Toy Story (1995)</td>\n",
       "    </tr>\n",
       "  </tbody>\n",
       "</table>\n",
       "</div>"
      ],
      "text/plain": [
       "   userId  movieId  rating             title\n",
       "0       1        1     4.0  Toy Story (1995)\n",
       "1       5        1     4.0  Toy Story (1995)\n",
       "2       7        1     4.5  Toy Story (1995)\n",
       "3      15        1     2.5  Toy Story (1995)\n",
       "4      17        1     4.5  Toy Story (1995)"
      ]
     },
     "execution_count": 9,
     "metadata": {},
     "output_type": "execute_result"
    }
   ],
   "source": [
    "# Here we split the genre column \n",
    "genres_split = movie_ratings_df['genres'].str.split('|').str[0]\n",
    "\n",
    "# concatenate the new columns with the movie_ratings_df\n",
    "movie_ratings_df = pd.concat([movie_ratings_df, genres_split], axis = 1)\n",
    "\n",
    "# lets drop the original column with the genres\n",
    "movie_ratings_df = movie_ratings_df.drop(columns = ['genres'])\n",
    "movie_ratings_df.head()"
   ]
  },
  {
   "cell_type": "code",
   "execution_count": 10,
   "metadata": {},
   "outputs": [
    {
     "data": {
      "text/html": [
       "<div>\n",
       "<style scoped>\n",
       "    .dataframe tbody tr th:only-of-type {\n",
       "        vertical-align: middle;\n",
       "    }\n",
       "\n",
       "    .dataframe tbody tr th {\n",
       "        vertical-align: top;\n",
       "    }\n",
       "\n",
       "    .dataframe thead th {\n",
       "        text-align: right;\n",
       "    }\n",
       "</style>\n",
       "<table border=\"1\" class=\"dataframe\">\n",
       "  <thead>\n",
       "    <tr style=\"text-align: right;\">\n",
       "      <th></th>\n",
       "      <th>userId</th>\n",
       "      <th>movieId</th>\n",
       "      <th>rating</th>\n",
       "      <th>title</th>\n",
       "    </tr>\n",
       "  </thead>\n",
       "  <tbody>\n",
       "    <tr>\n",
       "      <th>0</th>\n",
       "      <td>1</td>\n",
       "      <td>1</td>\n",
       "      <td>4.0</td>\n",
       "      <td>Toy Story (1995)</td>\n",
       "    </tr>\n",
       "    <tr>\n",
       "      <th>1</th>\n",
       "      <td>5</td>\n",
       "      <td>1</td>\n",
       "      <td>4.0</td>\n",
       "      <td>Toy Story (1995)</td>\n",
       "    </tr>\n",
       "    <tr>\n",
       "      <th>2</th>\n",
       "      <td>7</td>\n",
       "      <td>1</td>\n",
       "      <td>4.5</td>\n",
       "      <td>Toy Story (1995)</td>\n",
       "    </tr>\n",
       "    <tr>\n",
       "      <th>3</th>\n",
       "      <td>15</td>\n",
       "      <td>1</td>\n",
       "      <td>2.5</td>\n",
       "      <td>Toy Story (1995)</td>\n",
       "    </tr>\n",
       "    <tr>\n",
       "      <th>4</th>\n",
       "      <td>17</td>\n",
       "      <td>1</td>\n",
       "      <td>4.5</td>\n",
       "      <td>Toy Story (1995)</td>\n",
       "    </tr>\n",
       "  </tbody>\n",
       "</table>\n",
       "</div>"
      ],
      "text/plain": [
       "   userId  movieId  rating             title\n",
       "0       1        1     4.0  Toy Story (1995)\n",
       "1       5        1     4.0  Toy Story (1995)\n",
       "2       7        1     4.5  Toy Story (1995)\n",
       "3      15        1     2.5  Toy Story (1995)\n",
       "4      17        1     4.5  Toy Story (1995)"
      ]
     },
     "execution_count": 10,
     "metadata": {},
     "output_type": "execute_result"
    }
   ],
   "source": [
    "movie_ratings_df.head()"
   ]
  },
  {
   "cell_type": "code",
   "execution_count": 11,
   "metadata": {},
   "outputs": [],
   "source": [
    "# lets save a cleaned dataset to new csv file \n",
    "movie_ratings_df.to_csv('cleaned_movie_ratings.csv', index = False)"
   ]
  },
  {
   "cell_type": "markdown",
   "metadata": {},
   "source": [
    "# Loading the cleaned csv file"
   ]
  },
  {
   "cell_type": "code",
   "execution_count": 12,
   "metadata": {},
   "outputs": [
    {
     "data": {
      "text/html": [
       "<div>\n",
       "<style scoped>\n",
       "    .dataframe tbody tr th:only-of-type {\n",
       "        vertical-align: middle;\n",
       "    }\n",
       "\n",
       "    .dataframe tbody tr th {\n",
       "        vertical-align: top;\n",
       "    }\n",
       "\n",
       "    .dataframe thead th {\n",
       "        text-align: right;\n",
       "    }\n",
       "</style>\n",
       "<table border=\"1\" class=\"dataframe\">\n",
       "  <thead>\n",
       "    <tr style=\"text-align: right;\">\n",
       "      <th></th>\n",
       "      <th>userId</th>\n",
       "      <th>movieId</th>\n",
       "      <th>rating</th>\n",
       "      <th>title</th>\n",
       "    </tr>\n",
       "  </thead>\n",
       "  <tbody>\n",
       "    <tr>\n",
       "      <th>0</th>\n",
       "      <td>1</td>\n",
       "      <td>1</td>\n",
       "      <td>4.0</td>\n",
       "      <td>Toy Story (1995)</td>\n",
       "    </tr>\n",
       "    <tr>\n",
       "      <th>1</th>\n",
       "      <td>5</td>\n",
       "      <td>1</td>\n",
       "      <td>4.0</td>\n",
       "      <td>Toy Story (1995)</td>\n",
       "    </tr>\n",
       "    <tr>\n",
       "      <th>2</th>\n",
       "      <td>7</td>\n",
       "      <td>1</td>\n",
       "      <td>4.5</td>\n",
       "      <td>Toy Story (1995)</td>\n",
       "    </tr>\n",
       "    <tr>\n",
       "      <th>3</th>\n",
       "      <td>15</td>\n",
       "      <td>1</td>\n",
       "      <td>2.5</td>\n",
       "      <td>Toy Story (1995)</td>\n",
       "    </tr>\n",
       "    <tr>\n",
       "      <th>4</th>\n",
       "      <td>17</td>\n",
       "      <td>1</td>\n",
       "      <td>4.5</td>\n",
       "      <td>Toy Story (1995)</td>\n",
       "    </tr>\n",
       "  </tbody>\n",
       "</table>\n",
       "</div>"
      ],
      "text/plain": [
       "   userId  movieId  rating             title\n",
       "0       1        1     4.0  Toy Story (1995)\n",
       "1       5        1     4.0  Toy Story (1995)\n",
       "2       7        1     4.5  Toy Story (1995)\n",
       "3      15        1     2.5  Toy Story (1995)\n",
       "4      17        1     4.5  Toy Story (1995)"
      ]
     },
     "execution_count": 12,
     "metadata": {},
     "output_type": "execute_result"
    }
   ],
   "source": [
    "movie_analysis_df = pd.read_csv('cleaned_movie_ratings.csv')\n",
    "movie_analysis_df.head()"
   ]
  },
  {
   "cell_type": "code",
   "execution_count": null,
   "metadata": {},
   "outputs": [
    {
     "data": {
      "text/plain": [
       "rating\n",
       "4.0    26818\n",
       "3.0    20047\n",
       "5.0    13211\n",
       "3.5    13136\n",
       "4.5     8551\n",
       "2.0     7551\n",
       "2.5     5550\n",
       "1.0     2811\n",
       "1.5     1791\n",
       "0.5     1370\n",
       "Name: count, dtype: int64"
      ]
     },
     "execution_count": 28,
     "metadata": {},
     "output_type": "execute_result"
    }
   ],
   "source": [
    "# check the number of ratings based on their counts\n",
    "movie_analysis_df['rating'].value_counts()"
   ]
  },
  {
   "cell_type": "code",
   "execution_count": 15,
   "metadata": {},
   "outputs": [
    {
     "data": {
      "text/plain": [
       "title\n",
       "Forrest Gump (1994)                          329\n",
       "Shawshank Redemption, The (1994)             317\n",
       "Pulp Fiction (1994)                          307\n",
       "Silence of the Lambs, The (1991)             279\n",
       "Matrix, The (1999)                           278\n",
       "Star Wars: Episode IV - A New Hope (1977)    251\n",
       "Jurassic Park (1993)                         238\n",
       "Braveheart (1995)                            237\n",
       "Terminator 2: Judgment Day (1991)            224\n",
       "Schindler's List (1993)                      220\n",
       "Name: rating, dtype: int64"
      ]
     },
     "execution_count": 15,
     "metadata": {},
     "output_type": "execute_result"
    }
   ],
   "source": [
    "# here we get the count for the rating for each movie title for clear interpretation of dataset\n",
    "movie_analysis_df.groupby('title')['rating'].count().sort_values(ascending = False).head(10)"
   ]
  },
  {
   "cell_type": "code",
   "execution_count": 18,
   "metadata": {},
   "outputs": [
    {
     "name": "stdout",
     "output_type": "stream",
     "text": [
      "                                             rating\n",
      "title                                              \n",
      "'71 (2014)                                 4.000000\n",
      "'Hellboy': The Seeds of Creation (2004)    4.000000\n",
      "'Round Midnight (1986)                     3.500000\n",
      "'Salem's Lot (2004)                        5.000000\n",
      "'Til There Was You (1997)                  4.000000\n",
      "...                                             ...\n",
      "eXistenZ (1999)                            3.863636\n",
      "xXx (2002)                                 2.770833\n",
      "xXx: State of the Union (2005)             2.000000\n",
      "¡Three Amigos! (1986)                      3.134615\n",
      "À nous la liberté (Freedom for Us) (1931)  1.000000\n",
      "\n",
      "[9719 rows x 1 columns]\n"
     ]
    }
   ],
   "source": [
    "# calculating the average rating per movie title\n",
    "avg_rating_title = movie_analysis_df.groupby('title')['rating'].mean()\n",
    "ratings = pd.DataFrame(avg_rating_title)\n",
    "print(ratings)"
   ]
  },
  {
   "cell_type": "markdown",
   "metadata": {},
   "source": [
    "The output shows the Average ratings for the various movie title\n",
    "\n",
    "Salem's Lot (2004) had the highest rating of 5.000000 \n",
    "\n",
    "À nous la liberté (1931) had the lowest rating of 1.000000 \n"
   ]
  },
  {
   "cell_type": "code",
   "execution_count": 19,
   "metadata": {},
   "outputs": [
    {
     "name": "stdout",
     "output_type": "stream",
     "text": [
      "                                             rating  num_ratings\n",
      "title                                                           \n",
      "'71 (2014)                                 4.000000            1\n",
      "'Hellboy': The Seeds of Creation (2004)    4.000000            1\n",
      "'Round Midnight (1986)                     3.500000            2\n",
      "'Salem's Lot (2004)                        5.000000            1\n",
      "'Til There Was You (1997)                  4.000000            2\n",
      "...                                             ...          ...\n",
      "eXistenZ (1999)                            3.863636           22\n",
      "xXx (2002)                                 2.770833           24\n",
      "xXx: State of the Union (2005)             2.000000            5\n",
      "¡Three Amigos! (1986)                      3.134615           26\n",
      "À nous la liberté (Freedom for Us) (1931)  1.000000            1\n",
      "\n",
      "[9719 rows x 2 columns]\n"
     ]
    }
   ],
   "source": [
    "ratings['num_ratings'] = pd.DataFrame(movie_analysis_df.groupby('title')['rating'].count())\n",
    "print(ratings)"
   ]
  },
  {
   "cell_type": "code",
   "execution_count": 24,
   "metadata": {},
   "outputs": [
    {
     "data": {
      "image/png": "[encoded data removed]",
      "text/plain": [
       "<Figure size 600x600 with 3 Axes>"
      ]
     },
     "metadata": {
      "needs_background": "light"
     },
     "output_type": "display_data"
    }
   ],
   "source": [
    "# create a joint plot to visualize the relationship between average rating and number of ratings\n",
    "sns.jointplot(data = ratings, x = 'rating', y = 'num_ratings', kind = 'scatter', alpha = 0.5)\n",
    "plt.show()"
   ]
  },
  {
   "cell_type": "markdown",
   "metadata": {},
   "source": [
    "For movies with higher ratings tend to have more ratings, for highly rated movies above 4.0 generally have higher number of ratings. This is a clear indication of some positive correlation.\n",
    "\n",
    "The marginal histograms shows the distribution of ratings and number of ratings. It clear that most movies have fewer ratings indicating skewed distribution. Majority of the movies have ratings between 3 and 4.5 with very few low rated movies.\n",
    "\n",
    "There are few movies which have extremely high number of ratings above 200, while some movies have low ratings indicating some outliers.\n"
   ]
  },
  {
   "cell_type": "code",
   "execution_count": null,
   "metadata": {},
   "outputs": [
    {
     "data": {
      "image/png": "[encoded data removed]",
      "text/plain": [
       "<Figure size 1000x400 with 1 Axes>"
      ]
     },
     "metadata": {
      "needs_background": "light"
     },
     "output_type": "display_data"
    }
   ],
   "source": [
    "# Here lets visualize the distribution of movies\n",
    "plt.figure(figsize=(10,4))\n",
    "\n",
    "sns.histplot(ratings['rating'], bins=70, kde=False) # create a histogram\n",
    "\n",
    "plt.xlabel(\"Ratings\", fontsize=14)  \n",
    "plt.ylabel(\"Number of Ratings\", fontsize=14) \n",
    "plt.title(\"Distribution of Movie Ratings\", fontsize=16)  \n",
    "\n",
    "# Show grid for better readability\n",
    "plt.grid(axis='y', linestyle='--', alpha=0.7)\n",
    "plt.show()\n"
   ]
  },
  {
   "cell_type": "markdown",
   "metadata": {},
   "source": [
    "For most movies they are rated within the range 3-4 which means that most users tend to be biased on movies with high ratings compared to the ones with low ratings.\n",
    "\n",
    "The are some few movies which have extremely high number of ratings above 200 conversely with some having low ratings indicating some sort of outliers\n"
   ]
  },
  {
   "cell_type": "markdown",
   "metadata": {},
   "source": [
    "## **5. Preparing the Data for Surprise**"
   ]
  },
  {
   "cell_type": "code",
   "execution_count": 51,
   "metadata": {},
   "outputs": [
    {
     "data": {
      "text/plain": [
       "<surprise.dataset.DatasetAutoFolds at 0x1fc1f398e20>"
      ]
     },
     "execution_count": 51,
     "metadata": {},
     "output_type": "execute_result"
    }
   ],
   "source": [
    "# Define the rating scale (e.g., 0.5 to 5.0)\n",
    "reader = Reader(rating_scale=(0.5, 5.0))\n",
    "\n",
    "# Convert the DataFrame to a Surprise dataset\n",
    "data = Dataset.load_from_df(movie_analysis_df[[\"userId\", \"movieId\", \"rating\"]], reader)\n",
    "data"
   ]
  },
  {
   "cell_type": "code",
   "execution_count": 52,
   "metadata": {},
   "outputs": [
    {
     "name": "stdout",
     "output_type": "stream",
     "text": [
      "Number of Users:  610 \n",
      "\n",
      "Number of items:  9724\n"
     ]
    }
   ],
   "source": [
    "dataset = data.build_full_trainset()\n",
    "print('Number of Users: ', dataset.n_users, '\\n')\n",
    "\n",
    "print('Number of items: ', dataset.n_items)\n",
    "\n",
    "\n",
    "# By considering the neighborhood-based methods use the majority.. the higher number of users or items\n",
    "# hence use the item Based Recommender system"
   ]
  },
  {
   "cell_type": "code",
   "execution_count": 53,
   "metadata": {},
   "outputs": [],
   "source": [
    "# Split the dataset\n",
    "train_set, test_set = train_test_split(data, test_size=0.2, random_state=42)"
   ]
  },
  {
   "cell_type": "markdown",
   "metadata": {},
   "source": [
    "## Building the Item-Based Collaborative Filtering Model\n",
    "\n",
    "In this step, we will build the recommendation model using **item-based collaborative filtering**. This approach recommends items (movies) based on the similarities between them."
   ]
  },
  {
   "cell_type": "code",
   "execution_count": 54,
   "metadata": {},
   "outputs": [],
   "source": [
    "# perform the grid search with SVD..\n",
    "grid_params = {'n_factors': [20, 50, 100],\n",
    "               'reg_all': [0.02, 0.05, 0.1]}\n",
    "\n",
    "g_s_svd = GridSearchCV(SVD, param_grid = grid_params, n_jobs = -1)\n",
    "\n",
    "# fit the model \n",
    "g_s_svd.fit(data)"
   ]
  },
  {
   "cell_type": "code",
   "execution_count": 55,
   "metadata": {},
   "outputs": [
    {
     "name": "stdout",
     "output_type": "stream",
     "text": [
      "{'rmse': {'n_factors': 100, 'reg_all': 0.05}, 'mae': {'n_factors': 100, 'reg_all': 0.05}}\n"
     ]
    }
   ],
   "source": [
    "# print out optimal parameters for SVD after GridSearch\n",
    "print(g_s_svd.best_params)\n",
    "# print(g_s_svd.best_score)\n",
    "\n",
    "# 'n_factors': 20: The number of latent factors in the factorization model. Latent factors are features extracted from \n",
    "# the data that represent underlying patterns.\n",
    "# 'reg_all': 0.02: The regularization term to prevent overfitting by penalizing large coefficients.\n",
    "\n",
    "# The RMSE value for the model indicates that the std of the residuals (predictions errors) for a lower value indicates a better fot"
   ]
  },
  {
   "cell_type": "markdown",
   "metadata": {},
   "source": [
    "# Making a Simple predictions using the SVD algorithms"
   ]
  },
  {
   "cell_type": "code",
   "execution_count": 56,
   "metadata": {},
   "outputs": [
    {
     "data": {
      "text/plain": [
       "<surprise.prediction_algorithms.matrix_factorization.SVD at 0x1fc1854f430>"
      ]
     },
     "execution_count": 56,
     "metadata": {},
     "output_type": "execute_result"
    }
   ],
   "source": [
    "svd = SVD(n_factors = 20, reg_all = 0.02)\n",
    "svd.fit(dataset)"
   ]
  },
  {
   "cell_type": "code",
   "execution_count": 57,
   "metadata": {},
   "outputs": [
    {
     "data": {
      "text/plain": [
       "Prediction(uid=2, iid=4, r_ui=None, est=3.0203916233406307, details={'was_impossible': False})"
      ]
     },
     "execution_count": 57,
     "metadata": {},
     "output_type": "execute_result"
    }
   ],
   "source": [
    "svd_pred_1 = svd.predict(2, 4)\n",
    "svd_pred_1\n",
    "\n",
    "# The predict method is used to predict the rating that a user 2 would give to an item 4\n",
    "# 2 represents the user ID.\n",
    "# 4 represents the item ID.\n"
   ]
  },
  {
   "cell_type": "code",
   "execution_count": 58,
   "metadata": {},
   "outputs": [
    {
     "data": {
      "text/plain": [
       "3.0203916233406307"
      ]
     },
     "execution_count": 58,
     "metadata": {},
     "output_type": "execute_result"
    }
   ],
   "source": [
    "svd_pred_1[3]"
   ]
  },
  {
   "cell_type": "code",
   "execution_count": 59,
   "metadata": {},
   "outputs": [
    {
     "name": "stdout",
     "output_type": "stream",
     "text": [
      "Computing the pearson similarity matrix...\n",
      "Done computing similarity matrix.\n",
      "Computing the pearson similarity matrix...\n",
      "Done computing similarity matrix.\n",
      "Computing the pearson similarity matrix...\n",
      "Done computing similarity matrix.\n",
      "Computing the pearson similarity matrix...\n",
      "Done computing similarity matrix.\n",
      "Computing the pearson similarity matrix...\n",
      "Done computing similarity matrix.\n"
     ]
    }
   ],
   "source": [
    "knn_basic = KNNBasic(sim_options = {'name': 'pearson', 'user_based': False})\n",
    "cv_knn_basic = cross_validate(knn_basic, data, n_jobs = 1)\n",
    "\n",
    "# for user_based: True indicates that the similarity would be computed between users\n",
    "\n",
    "# for user_based: False indicates that the similarity would be computed between items"
   ]
  },
  {
   "cell_type": "code",
   "execution_count": 60,
   "metadata": {},
   "outputs": [
    {
     "name": "stdout",
     "output_type": "stream",
     "text": [
      "('test_rmse', array([0.96510138, 0.97563698, 0.97074671, 0.97060633, 0.96803495]))\n",
      "('test_mae', array([0.74994407, 0.75522132, 0.75584008, 0.75459899, 0.75055706]))\n",
      "('fit_time', (26.483110189437866, 25.129658937454224, 27.118412733078003, 32.343934535980225, 35.40973711013794))\n",
      "('test_time', (8.83779788017273, 8.500112771987915, 10.459198713302612, 11.825207710266113, 11.350102424621582))\n",
      "-----\n",
      "0.9700252698902879\n"
     ]
    }
   ],
   "source": [
    "# here we print out the average RMSE for the test set\n",
    "for i in cv_knn_basic.items():\n",
    "    print(i)\n",
    "    \n",
    "    \n",
    "print(\"-----\")\n",
    "print(np.mean(cv_knn_basic['test_rmse']))\n",
    "\n",
    "# ('test_rmse', array([0.9663111 , 0.97294905, 0.96383918, 0.97586395, 0.97072858]))\n",
    "# these are the RMSE values obtained from each fold of the cross-validation. Lower values indicate better performance.\n",
    "\n",
    "# 0.9699383727407497 this is the aggregated score the mean rmse across all the folds which provides a single value summarizing the performance of \n",
    "# the model"
   ]
  },
  {
   "cell_type": "code",
   "execution_count": 61,
   "metadata": {},
   "outputs": [
    {
     "data": {
      "text/plain": [
       "0.9700252698902879"
      ]
     },
     "execution_count": 61,
     "metadata": {},
     "output_type": "execute_result"
    }
   ],
   "source": [
    "mean_rmse_basic = np.mean(cv_knn_basic['test_rmse'])\n",
    "mean_rmse_basic"
   ]
  },
  {
   "cell_type": "code",
   "execution_count": 62,
   "metadata": {},
   "outputs": [
    {
     "name": "stdout",
     "output_type": "stream",
     "text": [
      "Estimating biases using als...\n",
      "Computing the pearson similarity matrix...\n",
      "Done computing similarity matrix.\n",
      "Estimating biases using als...\n",
      "Computing the pearson similarity matrix...\n",
      "Done computing similarity matrix.\n",
      "Estimating biases using als...\n",
      "Computing the pearson similarity matrix...\n",
      "Done computing similarity matrix.\n",
      "Estimating biases using als...\n",
      "Computing the pearson similarity matrix...\n",
      "Done computing similarity matrix.\n",
      "Estimating biases using als...\n",
      "Computing the pearson similarity matrix...\n",
      "Done computing similarity matrix.\n"
     ]
    }
   ],
   "source": [
    "# cross validating with KNNBaseline\n",
    "knn_base = KNNBaseline(sim_options = {'name':'pearson', 'user_based': False})\n",
    "\n",
    "cv_knn_base = cross_validate(knn_base, data, n_jobs = 1)"
   ]
  },
  {
   "cell_type": "code",
   "execution_count": 63,
   "metadata": {},
   "outputs": [
    {
     "data": {
      "text/plain": [
       "0.8774990727723164"
      ]
     },
     "execution_count": 63,
     "metadata": {},
     "output_type": "execute_result"
    }
   ],
   "source": [
    "# print out the average score for the test set\n",
    "mean_rmse_base = np.mean(cv_knn_base['test_rmse'])\n",
    "mean_rmse_base"
   ]
  },
  {
   "cell_type": "code",
   "execution_count": 64,
   "metadata": {},
   "outputs": [
    {
     "name": "stdout",
     "output_type": "stream",
     "text": [
      "cv_knn_base has better performance.\n"
     ]
    }
   ],
   "source": [
    "# Compare the two and determine which has better performance\n",
    "if mean_rmse_base < mean_rmse_basic:\n",
    "    print(\"cv_knn_base has better performance.\")\n",
    "else:\n",
    "    print(\"cv_knn_basic has better performance.\")"
   ]
  },
  {
   "cell_type": "code",
   "execution_count": 65,
   "metadata": {},
   "outputs": [
    {
     "data": {
      "text/plain": [
       "title\n",
       "Forrest Gump (1994)                          329\n",
       "Shawshank Redemption, The (1994)             317\n",
       "Pulp Fiction (1994)                          307\n",
       "Silence of the Lambs, The (1991)             279\n",
       "Matrix, The (1999)                           278\n",
       "Star Wars: Episode IV - A New Hope (1977)    251\n",
       "Jurassic Park (1993)                         238\n",
       "Braveheart (1995)                            237\n",
       "Terminator 2: Judgment Day (1991)            224\n",
       "Schindler's List (1993)                      220\n",
       "Name: rating, dtype: int64"
      ]
     },
     "execution_count": 65,
     "metadata": {},
     "output_type": "execute_result"
    }
   ],
   "source": [
    "movie_analysis_df.groupby('title')['rating'].count().sort_values(ascending = False).head(10)"
   ]
  },
  {
   "cell_type": "code",
   "execution_count": 66,
   "metadata": {},
   "outputs": [
    {
     "data": {
      "text/plain": [
       "title\n",
       "Forrest Gump (1994)                 329\n",
       "Shawshank Redemption, The (1994)    317\n",
       "Pulp Fiction (1994)                 307\n",
       "Silence of the Lambs, The (1991)    279\n",
       "Matrix, The (1999)                  278\n",
       "                                   ... \n",
       "Sex, Drugs & Taxation (2013)          1\n",
       "Extraordinary Tales (2015)            1\n",
       "Tomorrow (2015)                       1\n",
       "Embrace of the Serpent (2016)         1\n",
       "31 (2016)                             1\n",
       "Name: count, Length: 9719, dtype: int64"
      ]
     },
     "execution_count": 66,
     "metadata": {},
     "output_type": "execute_result"
    }
   ],
   "source": [
    "movie_analysis_df['title'].value_counts()"
   ]
  },
  {
   "cell_type": "code",
   "execution_count": 67,
   "metadata": {},
   "outputs": [
    {
     "name": "stdout",
     "output_type": "stream",
     "text": [
      "The movie ID for the title 'Matrix, The (1999)' is 2571\n"
     ]
    }
   ],
   "source": [
    "def find_movie_id_by_title(movie_analysis_df, title):\n",
    "    # Check if the title exists in the DataFrame\n",
    "    if title in movie_analysis_df['title'].values:\n",
    "        # Extract the movie ID\n",
    "        movie_id = movie_analysis_df[movie_analysis_df['title'] == title]['movieId'].values[0]\n",
    "        return movie_id\n",
    "    else:\n",
    "        return None\n",
    "\n",
    "# Example usage\n",
    "title = \"Matrix, The (1999)\"  # Replace with the actual movie title you are searching for\n",
    "movie_id = find_movie_id_by_title(movie_analysis_df, title)\n",
    "print(f\"The movie ID for the title '{title}' is {movie_id}\")"
   ]
  },
  {
   "cell_type": "code",
   "execution_count": 68,
   "metadata": {},
   "outputs": [],
   "source": [
    "# # perform the grid search with SVD..\n",
    "# grid_params = {'n_factors': [20, 50, 100],\n",
    "#                'reg_all': [0.02, 0.05, 0.1]}\n",
    "\n",
    "# g_s_svd = GridSearchCV(SVD, param_grid = grid_params, n_jobs = -1)\n",
    "\n",
    "# # fit the model \n",
    "# g_s_svd.fit(data)"
   ]
  },
  {
   "cell_type": "markdown",
   "metadata": {},
   "source": [
    "# Create a Collaborative filtering using SVD.\n",
    "\n",
    "SVD algorithms finds the movies that the users who liked a given movie also liked"
   ]
  },
  {
   "cell_type": "code",
   "execution_count": 69,
   "metadata": {},
   "outputs": [
    {
     "data": {
      "text/plain": [
       "<surprise.prediction_algorithms.matrix_factorization.SVD at 0x1fc1e910190>"
      ]
     },
     "execution_count": 69,
     "metadata": {},
     "output_type": "execute_result"
    }
   ],
   "source": [
    "data\n",
    "\n",
    "# train the SVD model\n",
    "svd_model = SVD().fit(train_set)\n",
    "svd_model"
   ]
  },
  {
   "cell_type": "markdown",
   "metadata": {},
   "source": [
    " Collaborative Filtering (Using Surprise SVD)\n",
    "This method finds movies that users who liked a given movie also liked.\n",
    "\n",
    "Step 1: Train a Collaborative Filtering Model"
   ]
  },
  {
   "cell_type": "code",
   "execution_count": 70,
   "metadata": {},
   "outputs": [],
   "source": [
    "# from surprise import SVD, Dataset, Reader\n",
    "# from surprise.model_selection import train_test_split\n",
    "\n",
    "# # Define Reader to load ratings\n",
    "# reader = Reader(rating_scale=(0.5, 5.0))\n",
    "# data = Dataset.load_from_df(movie_analysis_df[['userId', 'movieId', 'rating']], reader)\n",
    "\n",
    "# # Train-test split\n",
    "# trainset, testset = train_test_split(data, test_size=0.2, random_state=42)\n",
    "\n",
    "# # Train the SVD model\n",
    "# svd = SVD()\n",
    "# svd.fit(trainset)\n"
   ]
  },
  {
   "cell_type": "code",
   "execution_count": 71,
   "metadata": {},
   "outputs": [],
   "source": [
    "def get_top_5_recommendations(movie_analysis_df, svd_model, title):\n",
    "    movie_id = find_movie_id_by_title(movie_analysis_df, title) # gets the movie id for a given title\n",
    "    \n",
    "    if movie_id is None:\n",
    "        return f\"Movie '{title}' not found in the dataset.\"\n",
    "    \n",
    "    movie_IDS = movie_analysis_df['movieId'].unique()\n",
    "    \n",
    "    # here we predict the ratings for all the movies with exceptions for the selected movie\n",
    "    predictions = [(mv_id, svd_model.predict(uid = 1, iid = mv_id).est) for mv_id in movie_IDS if mv_id != movie_id]\n",
    "    \n",
    "    \n",
    "    top_5_movies = sorted(predictions, key = lambda x: x[1], reverse = True)[:5] # sort by the predicted rating and get the top 5 movies\n",
    "    \n",
    "    # get the movie title for the recommended movie_IDS\n",
    "    recommended_movies = movie_analysis_df[movie_analysis_df['movieId'].isin([x[0] for x in top_5_movies])][['movieId', 'title']].drop_duplicates()\n",
    "    \n",
    "    return recommended_movies\n",
    "    "
   ]
  },
  {
   "cell_type": "code",
   "execution_count": 72,
   "metadata": {},
   "outputs": [
    {
     "name": "stdout",
     "output_type": "stream",
     "text": [
      "      movieId                                      title\n",
      "572        50                 Usual Suspects, The (1995)\n",
      "1568      260  Star Wars: Episode IV - A New Hope (1977)\n",
      "3570      527                    Schindler's List (1993)\n",
      "5640      923                        Citizen Kane (1941)\n",
      "6216     1089                      Reservoir Dogs (1992)\n"
     ]
    }
   ],
   "source": [
    "# lets apply the function to get the top 5 recommended movie by title\n",
    "title = \"Matrix, The (1999)\"\n",
    "recommendations = get_top_5_recommendations(movie_analysis_df, svd_model, title)\n",
    "print(recommendations)"
   ]
  },
  {
   "cell_type": "code",
   "execution_count": 73,
   "metadata": {},
   "outputs": [
    {
     "name": "stdout",
     "output_type": "stream",
     "text": [
      "      movieId                                      title\n",
      "572        50                 Usual Suspects, The (1995)\n",
      "1568      260  Star Wars: Episode IV - A New Hope (1977)\n",
      "3570      527                    Schindler's List (1993)\n",
      "5640      923                        Citizen Kane (1941)\n",
      "6216     1089                      Reservoir Dogs (1992)\n"
     ]
    }
   ],
   "source": [
    "title_1 = \"Pulp Fiction (1994)\"\n",
    "recommendations_1 = get_top_5_recommendations(movie_analysis_df, svd_model, title)\n",
    "print(recommendations_1)"
   ]
  },
  {
   "cell_type": "code",
   "execution_count": 74,
   "metadata": {},
   "outputs": [
    {
     "name": "stdout",
     "output_type": "stream",
     "text": [
      "      movieId                                      title\n",
      "572        50                 Usual Suspects, The (1995)\n",
      "1568      260  Star Wars: Episode IV - A New Hope (1977)\n",
      "3570      527                    Schindler's List (1993)\n",
      "5640      923                        Citizen Kane (1941)\n",
      "6216     1089                      Reservoir Dogs (1992)\n"
     ]
    }
   ],
   "source": [
    "title_2 = \"Sex, Drugs & Taxation (2013\"\n",
    "recommendations_2 = get_top_5_recommendations(movie_analysis_df, svd_model, title)\n",
    "print(recommendations_2)"
   ]
  },
  {
   "cell_type": "code",
   "execution_count": null,
   "metadata": {},
   "outputs": [],
   "source": []
  },
  {
   "cell_type": "code",
   "execution_count": 75,
   "metadata": {},
   "outputs": [
    {
     "data": {
      "text/plain": [
       "title\n",
       "Forrest Gump (1994)                 329\n",
       "Shawshank Redemption, The (1994)    317\n",
       "Pulp Fiction (1994)                 307\n",
       "Silence of the Lambs, The (1991)    279\n",
       "Matrix, The (1999)                  278\n",
       "                                   ... \n",
       "Sex, Drugs & Taxation (2013)          1\n",
       "Extraordinary Tales (2015)            1\n",
       "Tomorrow (2015)                       1\n",
       "Embrace of the Serpent (2016)         1\n",
       "31 (2016)                             1\n",
       "Name: count, Length: 9719, dtype: int64"
      ]
     },
     "execution_count": 75,
     "metadata": {},
     "output_type": "execute_result"
    }
   ],
   "source": [
    "movie_analysis_df['title'].value_counts()"
   ]
  },
  {
   "cell_type": "markdown",
   "metadata": {},
   "source": [
    "## Conclusions \n",
    "Since most movies cluster in the 3-4 range, achieving a rating above 4.0 is a strong indicator of success.\n",
    "Studios could benchmark their movies against top-rated ones to identify what drives higher ratings (e.g., strong storytelling, production quality).\n",
    "Marketing campaigns could focus on movies with higher ratings (4.0+), as they are more likely to attract new viewers.\n",
    "\n",
    "Studios should focus on maintaining a rating above 3 to be considered acceptable by audiences."
   ]
  },
  {
   "cell_type": "code",
   "execution_count": null,
   "metadata": {},
   "outputs": [],
   "source": []
  },
  {
   "cell_type": "code",
   "execution_count": null,
   "metadata": {},
   "outputs": [],
   "source": []
  }
 ],
 "metadata": {
  "kernelspec": {
   "display_name": "learn-env",
   "language": "python",
   "name": "python3"
  },
  "language_info": {
   "codemirror_mode": {
    "name": "ipython",
    "version": 3
   },
   "file_extension": ".py",
   "mimetype": "text/x-python",
   "name": "python",
   "nbconvert_exporter": "python",
   "pygments_lexer": "ipython3",
   "version": "3.8.5"
  }
 },
 "nbformat": 4,
 "nbformat_minor": 2
}
