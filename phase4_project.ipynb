{
 "cells": [
  {
   "cell_type": "markdown",
   "metadata": {},
   "source": [
    "## Final Phase 4 Project Submission\n",
    "\n",
    "Please fill out:\n",
    "* Student name: Mika Wambua Benson\n",
    "* Student pace: part-time\n",
    "* Scheduled project review date/time: 12/2/2025\n",
    "* Instructor name: Samuel Karu\n",
    "* Blog post URL: "
   ]
  },
  {
   "cell_type": "code",
   "execution_count": 1,
   "metadata": {},
   "outputs": [],
   "source": [
    "import pandas as pd\n",
    "# importing relevant libraries\n",
    "from surprise.model_selection import cross_validate, GridSearchCV\n",
    "from surprise.model_selection import train_test_split\n",
    "from surprise.prediction_algorithms import SVD, KNNWithMeans, KNNBasic, KNNBaseline\n",
    "# from surprise.prediction_algorithms import KNNWithMeans, KNNBasic, KNNBaseline\n",
    "# from surprise.model_selection import GridSearchCV\n",
    "import numpy as np\n",
    "from surprise import accuracy\n",
    "from surprise import Dataset, Reader\n",
    "\n",
    "import plotly.express as px\n",
    "import matplotlib\n",
    "import matplotlib.pyplot as plt\n",
    "%matplotlib inline\n",
    "import seaborn as sns\n",
    "# The following will improve the default style and the font sizes of the chart\n",
    "sns.set_style(\"darkgrid\")\n",
    "matplotlib.rcParams[\"font.size\"] = 14\n",
    "matplotlib.rcParams[\"figure.figsize\"] = (10, 6)\n",
    "matplotlib.rcParams[\"figure.facecolor\"] = \"#00000000\""
   ]
  },
  {
   "cell_type": "code",
   "execution_count": 2,
   "metadata": {},
   "outputs": [
    {
     "name": "stdout",
     "output_type": "stream",
     "text": [
      "   userId  movieId  rating  timestamp\n",
      "0       1        1     4.0  964982703\n",
      "1       1        3     4.0  964981247\n",
      "2       1        6     4.0  964982224\n",
      "3       1       47     5.0  964983815\n",
      "4       1       50     5.0  964982931\n"
     ]
    }
   ],
   "source": [
    "\n",
    "# Load the ratings data\n",
    "ratings_df = pd.read_csv('ratings.csv')\n",
    "\n",
    "# Display the first few rows of the dataset\n",
    "print(ratings_df.head())"
   ]
  },
  {
   "cell_type": "code",
   "execution_count": 3,
   "metadata": {},
   "outputs": [],
   "source": [
    "ratings_df = ratings_df.drop(columns=['timestamp'], axis=1)"
   ]
  },
  {
   "cell_type": "code",
   "execution_count": 4,
   "metadata": {},
   "outputs": [
    {
     "data": {
      "text/plain": [
       "(100836, 3)"
      ]
     },
     "execution_count": 4,
     "metadata": {},
     "output_type": "execute_result"
    }
   ],
   "source": [
    "ratings_df.shape"
   ]
  },
  {
   "cell_type": "code",
   "execution_count": 5,
   "metadata": {},
   "outputs": [
    {
     "data": {
      "text/html": [
       "<div>\n",
       "<style scoped>\n",
       "    .dataframe tbody tr th:only-of-type {\n",
       "        vertical-align: middle;\n",
       "    }\n",
       "\n",
       "    .dataframe tbody tr th {\n",
       "        vertical-align: top;\n",
       "    }\n",
       "\n",
       "    .dataframe thead th {\n",
       "        text-align: right;\n",
       "    }\n",
       "</style>\n",
       "<table border=\"1\" class=\"dataframe\">\n",
       "  <thead>\n",
       "    <tr style=\"text-align: right;\">\n",
       "      <th></th>\n",
       "      <th>movieId</th>\n",
       "      <th>title</th>\n",
       "      <th>genres</th>\n",
       "    </tr>\n",
       "  </thead>\n",
       "  <tbody>\n",
       "    <tr>\n",
       "      <th>0</th>\n",
       "      <td>1</td>\n",
       "      <td>Toy Story (1995)</td>\n",
       "      <td>Adventure|Animation|Children|Comedy|Fantasy</td>\n",
       "    </tr>\n",
       "    <tr>\n",
       "      <th>1</th>\n",
       "      <td>2</td>\n",
       "      <td>Jumanji (1995)</td>\n",
       "      <td>Adventure|Children|Fantasy</td>\n",
       "    </tr>\n",
       "    <tr>\n",
       "      <th>2</th>\n",
       "      <td>3</td>\n",
       "      <td>Grumpier Old Men (1995)</td>\n",
       "      <td>Comedy|Romance</td>\n",
       "    </tr>\n",
       "    <tr>\n",
       "      <th>3</th>\n",
       "      <td>4</td>\n",
       "      <td>Waiting to Exhale (1995)</td>\n",
       "      <td>Comedy|Drama|Romance</td>\n",
       "    </tr>\n",
       "    <tr>\n",
       "      <th>4</th>\n",
       "      <td>5</td>\n",
       "      <td>Father of the Bride Part II (1995)</td>\n",
       "      <td>Comedy</td>\n",
       "    </tr>\n",
       "  </tbody>\n",
       "</table>\n",
       "</div>"
      ],
      "text/plain": [
       "   movieId                               title  \\\n",
       "0        1                    Toy Story (1995)   \n",
       "1        2                      Jumanji (1995)   \n",
       "2        3             Grumpier Old Men (1995)   \n",
       "3        4            Waiting to Exhale (1995)   \n",
       "4        5  Father of the Bride Part II (1995)   \n",
       "\n",
       "                                        genres  \n",
       "0  Adventure|Animation|Children|Comedy|Fantasy  \n",
       "1                   Adventure|Children|Fantasy  \n",
       "2                               Comedy|Romance  \n",
       "3                         Comedy|Drama|Romance  \n",
       "4                                       Comedy  "
      ]
     },
     "execution_count": 5,
     "metadata": {},
     "output_type": "execute_result"
    }
   ],
   "source": [
    "\n",
    "# Load the movies data\n",
    "movies_df = pd.read_csv('movies.csv')\n",
    "\n",
    "# Display the first few rows of the dataset\n",
    "movies_df.head()\n",
    "\n",
    "# we should be having our recommendation systems having similar genres"
   ]
  },
  {
   "cell_type": "code",
   "execution_count": 6,
   "metadata": {},
   "outputs": [
    {
     "data": {
      "text/html": [
       "<div>\n",
       "<style scoped>\n",
       "    .dataframe tbody tr th:only-of-type {\n",
       "        vertical-align: middle;\n",
       "    }\n",
       "\n",
       "    .dataframe tbody tr th {\n",
       "        vertical-align: top;\n",
       "    }\n",
       "\n",
       "    .dataframe thead th {\n",
       "        text-align: right;\n",
       "    }\n",
       "</style>\n",
       "<table border=\"1\" class=\"dataframe\">\n",
       "  <thead>\n",
       "    <tr style=\"text-align: right;\">\n",
       "      <th></th>\n",
       "      <th>userId</th>\n",
       "      <th>movieId</th>\n",
       "      <th>rating</th>\n",
       "      <th>title</th>\n",
       "      <th>genres</th>\n",
       "    </tr>\n",
       "  </thead>\n",
       "  <tbody>\n",
       "    <tr>\n",
       "      <th>0</th>\n",
       "      <td>1</td>\n",
       "      <td>1</td>\n",
       "      <td>4.0</td>\n",
       "      <td>Toy Story (1995)</td>\n",
       "      <td>Adventure|Animation|Children|Comedy|Fantasy</td>\n",
       "    </tr>\n",
       "    <tr>\n",
       "      <th>1</th>\n",
       "      <td>5</td>\n",
       "      <td>1</td>\n",
       "      <td>4.0</td>\n",
       "      <td>Toy Story (1995)</td>\n",
       "      <td>Adventure|Animation|Children|Comedy|Fantasy</td>\n",
       "    </tr>\n",
       "    <tr>\n",
       "      <th>2</th>\n",
       "      <td>7</td>\n",
       "      <td>1</td>\n",
       "      <td>4.5</td>\n",
       "      <td>Toy Story (1995)</td>\n",
       "      <td>Adventure|Animation|Children|Comedy|Fantasy</td>\n",
       "    </tr>\n",
       "    <tr>\n",
       "      <th>3</th>\n",
       "      <td>15</td>\n",
       "      <td>1</td>\n",
       "      <td>2.5</td>\n",
       "      <td>Toy Story (1995)</td>\n",
       "      <td>Adventure|Animation|Children|Comedy|Fantasy</td>\n",
       "    </tr>\n",
       "    <tr>\n",
       "      <th>4</th>\n",
       "      <td>17</td>\n",
       "      <td>1</td>\n",
       "      <td>4.5</td>\n",
       "      <td>Toy Story (1995)</td>\n",
       "      <td>Adventure|Animation|Children|Comedy|Fantasy</td>\n",
       "    </tr>\n",
       "  </tbody>\n",
       "</table>\n",
       "</div>"
      ],
      "text/plain": [
       "   userId  movieId  rating             title  \\\n",
       "0       1        1     4.0  Toy Story (1995)   \n",
       "1       5        1     4.0  Toy Story (1995)   \n",
       "2       7        1     4.5  Toy Story (1995)   \n",
       "3      15        1     2.5  Toy Story (1995)   \n",
       "4      17        1     4.5  Toy Story (1995)   \n",
       "\n",
       "                                        genres  \n",
       "0  Adventure|Animation|Children|Comedy|Fantasy  \n",
       "1  Adventure|Animation|Children|Comedy|Fantasy  \n",
       "2  Adventure|Animation|Children|Comedy|Fantasy  \n",
       "3  Adventure|Animation|Children|Comedy|Fantasy  \n",
       "4  Adventure|Animation|Children|Comedy|Fantasy  "
      ]
     },
     "execution_count": 6,
     "metadata": {},
     "output_type": "execute_result"
    }
   ],
   "source": [
    "\n",
    "# Merge ratings with movie titles\n",
    "movie_ratings_df = pd.merge(ratings_df, movies_df, on=\"movieId\")\n",
    "\n",
    "# Display the first few rows of the merged dataset\n",
    "movie_ratings_df.head()"
   ]
  },
  {
   "cell_type": "code",
   "execution_count": 7,
   "metadata": {},
   "outputs": [
    {
     "data": {
      "text/html": [
       "<div>\n",
       "<style scoped>\n",
       "    .dataframe tbody tr th:only-of-type {\n",
       "        vertical-align: middle;\n",
       "    }\n",
       "\n",
       "    .dataframe tbody tr th {\n",
       "        vertical-align: top;\n",
       "    }\n",
       "\n",
       "    .dataframe thead th {\n",
       "        text-align: right;\n",
       "    }\n",
       "</style>\n",
       "<table border=\"1\" class=\"dataframe\">\n",
       "  <thead>\n",
       "    <tr style=\"text-align: right;\">\n",
       "      <th></th>\n",
       "      <th>userId</th>\n",
       "      <th>movieId</th>\n",
       "      <th>rating</th>\n",
       "      <th>title</th>\n",
       "      <th>genres</th>\n",
       "    </tr>\n",
       "  </thead>\n",
       "  <tbody>\n",
       "    <tr>\n",
       "      <th>0</th>\n",
       "      <td>1</td>\n",
       "      <td>1</td>\n",
       "      <td>4.0</td>\n",
       "      <td>Toy Story (1995)</td>\n",
       "      <td>Adventure|Animation|Children|Comedy|Fantasy</td>\n",
       "    </tr>\n",
       "    <tr>\n",
       "      <th>1</th>\n",
       "      <td>5</td>\n",
       "      <td>1</td>\n",
       "      <td>4.0</td>\n",
       "      <td>Toy Story (1995)</td>\n",
       "      <td>Adventure|Animation|Children|Comedy|Fantasy</td>\n",
       "    </tr>\n",
       "    <tr>\n",
       "      <th>2</th>\n",
       "      <td>7</td>\n",
       "      <td>1</td>\n",
       "      <td>4.5</td>\n",
       "      <td>Toy Story (1995)</td>\n",
       "      <td>Adventure|Animation|Children|Comedy|Fantasy</td>\n",
       "    </tr>\n",
       "    <tr>\n",
       "      <th>3</th>\n",
       "      <td>15</td>\n",
       "      <td>1</td>\n",
       "      <td>2.5</td>\n",
       "      <td>Toy Story (1995)</td>\n",
       "      <td>Adventure|Animation|Children|Comedy|Fantasy</td>\n",
       "    </tr>\n",
       "    <tr>\n",
       "      <th>4</th>\n",
       "      <td>17</td>\n",
       "      <td>1</td>\n",
       "      <td>4.5</td>\n",
       "      <td>Toy Story (1995)</td>\n",
       "      <td>Adventure|Animation|Children|Comedy|Fantasy</td>\n",
       "    </tr>\n",
       "  </tbody>\n",
       "</table>\n",
       "</div>"
      ],
      "text/plain": [
       "   userId  movieId  rating             title  \\\n",
       "0       1        1     4.0  Toy Story (1995)   \n",
       "1       5        1     4.0  Toy Story (1995)   \n",
       "2       7        1     4.5  Toy Story (1995)   \n",
       "3      15        1     2.5  Toy Story (1995)   \n",
       "4      17        1     4.5  Toy Story (1995)   \n",
       "\n",
       "                                        genres  \n",
       "0  Adventure|Animation|Children|Comedy|Fantasy  \n",
       "1  Adventure|Animation|Children|Comedy|Fantasy  \n",
       "2  Adventure|Animation|Children|Comedy|Fantasy  \n",
       "3  Adventure|Animation|Children|Comedy|Fantasy  \n",
       "4  Adventure|Animation|Children|Comedy|Fantasy  "
      ]
     },
     "execution_count": 7,
     "metadata": {},
     "output_type": "execute_result"
    }
   ],
   "source": [
    "movie_ratings_df.head()"
   ]
  },
  {
   "cell_type": "code",
   "execution_count": 8,
   "metadata": {},
   "outputs": [
    {
     "name": "stdout",
     "output_type": "stream",
     "text": [
      "Number of Duplicates: 0\n"
     ]
    }
   ],
   "source": [
    "# lets check for any duplicates \n",
    "print(\"Number of Duplicates:\", movie_ratings_df.duplicated().sum())"
   ]
  },
  {
   "cell_type": "code",
   "execution_count": 9,
   "metadata": {},
   "outputs": [
    {
     "name": "stdout",
     "output_type": "stream",
     "text": [
      "Unique genres\n",
      "['Adventure|Animation|Children|Comedy|Fantasy' 'Comedy|Romance'\n",
      " 'Action|Crime|Thriller' 'Mystery|Thriller' 'Crime|Mystery|Thriller'\n",
      " 'Action|Comedy|Horror|Thriller' 'Adventure|Comedy|Crime|Romance'\n",
      " 'Action|Drama|War' 'Action|Drama|Romance|War' 'Comedy|War'\n",
      " 'Action|Romance|Western' 'Comedy' 'Adventure|Comedy' 'Comedy|Drama'\n",
      " 'Action|Adventure|Sci-Fi' 'Comedy|Crime|Drama|Thriller'\n",
      " 'Action|Crime|Drama|Thriller' 'Comedy|Drama|Romance|War'\n",
      " 'Adventure|Children|Romance' 'Action|Comedy|Crime|Fantasy'\n",
      " 'Action|Thriller' 'Thriller' 'Action|Adventure|Sci-Fi|Thriller'\n",
      " 'Drama|War' 'Comedy|Romance|Thriller' 'Action|Adventure|Comedy|Romance'\n",
      " 'Action|Drama|Western' 'Adventure|Drama|Western' 'Crime|Horror|Thriller'\n",
      " 'Animation|Children|Fantasy|Musical' 'Action|Adventure|Mystery|Thriller'\n",
      " 'Adventure|Animation|Children|Fantasy|Musical'\n",
      " 'Adventure|Animation|Children|Comedy|Fantasy|Sci-Fi'\n",
      " 'Action|Adventure|Thriller' 'Action|Adventure|Romance|Thriller'\n",
      " 'Adventure|Children|Fantasy|Musical' 'Drama|Mystery'\n",
      " 'Action|Adventure|Romance' 'Drama|Fantasy|Romance' 'Drama'\n",
      " 'Adventure|Children|Fantasy' 'Animation|Children|Musical'\n",
      " 'Animation|Children|Drama|Musical' 'Adventure|Animation|Children|Musical'\n",
      " 'Adventure|Children|Musical' 'Action|Adventure'\n",
      " 'Children|Comedy|Fantasy|Musical' 'Children|Drama|Sci-Fi'\n",
      " 'Adventure|Comedy|Fantasy' 'Action|Adventure|Comedy|Fantasy|Romance'\n",
      " 'Crime|Drama|Sci-Fi|Thriller' 'Crime|Drama' 'Horror|Sci-Fi'\n",
      " 'Crime|Horror' 'Action|Comedy|Musical' 'Drama|Romance'\n",
      " 'Action|Sci-Fi|Thriller' 'Comedy|Musical|War' 'Horror'\n",
      " 'Comedy|Fantasy|Romance' 'Adventure|Comedy|Sci-Fi'\n",
      " 'Action|Adventure|Fantasy' 'Comedy|Fantasy' 'Drama|Musical'\n",
      " 'Action|Crime' 'Action|Comedy|Crime|Drama|Sci-Fi'\n",
      " 'Action|Romance|War|Western' 'Action|Comedy|Crime|Drama'\n",
      " 'Comedy|Crime|Romance' 'Action|Adventure|Comedy' 'Action|Comedy|Sci-Fi'\n",
      " 'Crime|Film-Noir|Mystery|Thriller' 'Crime|Drama|Mystery|Thriller'\n",
      " 'Drama|Mystery|Thriller' 'Horror|Mystery|Thriller' 'Action|Sci-Fi'\n",
      " 'Comedy|Crime' 'Animation|Children|Fantasy|War'\n",
      " 'Adventure|Fantasy|Musical' 'Action|Adventure|Children|Comedy|Fantasy'\n",
      " 'Adventure|Comedy|Sci-Fi|Western' 'Animation|Children|Drama'\n",
      " 'Adventure|Animation|Children|Fantasy' 'Adventure|Children|Sci-Fi'\n",
      " 'Action|Animation|Children|Crime'\n",
      " 'Adventure|Children|Comedy|Fantasy|Sci-Fi'\n",
      " 'Action|Crime|Drama|Mystery|Thriller' 'Animation|Children|Comedy|Musical'\n",
      " 'Adventure|Animation|Children|Crime|Drama' 'Animation|Children'\n",
      " 'Adventure|Animation|Children|Drama'\n",
      " 'Adventure|Animation|Children|Comedy' 'Adventure|Fantasy|Romance'\n",
      " 'Crime|Drama|Thriller' 'Action|Comedy|Crime|Thriller'\n",
      " 'Action|Adventure|Fantasy|Horror'\n",
      " 'Action|Adventure|Children|Fantasy|Mystery|Thriller' 'Comedy|Western'\n",
      " 'Action|Drama|Sci-Fi' 'Comedy|Crime|Thriller'\n",
      " 'Action|Adventure|Comedy|Fantasy|Horror|Thriller' 'Drama|Horror|Sci-Fi'\n",
      " 'Drama|Fantasy|Horror' 'Comedy|Horror|Musical|Sci-Fi'\n",
      " 'Animation|Comedy|Musical' 'Adventure|Animation|Children|Drama|Sci-Fi'\n",
      " 'Comedy|Drama|Fantasy|Romance' 'Adventure|Fantasy'\n",
      " 'Adventure|Animation|Children' 'Action|Crime|Drama|Sci-Fi|Thriller'\n",
      " 'Adventure|Animation|Children|Comedy|Crime|Fantasy|Mystery'\n",
      " 'Comedy|Drama|Fantasy' 'Comedy|Sci-Fi'\n",
      " 'Adventure|Animation|Children|Comedy|Musical' 'Adventure|Drama'\n",
      " 'Comedy|Horror|Mystery|Thriller' 'Action|Children|Fantasy'\n",
      " 'Comedy|Drama|War' 'Action|Adventure|Drama'\n",
      " 'Action|Adventure|Comedy|Fantasy' 'Adventure|Animation|Children|Sci-Fi'\n",
      " 'Action|Comedy' 'Action|Crime|Drama|IMAX' 'Action|Comedy|Horror'\n",
      " 'Comedy|Documentary' 'Action|Crime|Drama|Mystery|Sci-Fi|Thriller|IMAX'\n",
      " 'Documentary' 'Action|Adventure|Crime|IMAX' 'Drama|Thriller'\n",
      " 'Comedy|Crime|Drama' 'Sci-Fi|IMAX' 'Drama|Sci-Fi|Thriller'\n",
      " 'Action|Crime|Drama|War' 'Action|Adventure|Comedy|War'\n",
      " 'Adventure|Animation|Comedy' 'Comedy|Drama|Musical|Romance'\n",
      " 'Children|Drama|Fantasy' 'Adventure|Sci-Fi'\n",
      " 'Animation|Children|Comedy|Romance' 'Action|Horror|Sci-Fi|Thriller'\n",
      " 'Adventure|Sci-Fi|Thriller' 'Comedy|Drama|Romance' 'Comedy|Horror'\n",
      " 'Adventure|Children|Comedy' 'Action|Horror|Mystery|Sci-Fi'\n",
      " 'Drama|Horror|Sci-Fi|Thriller' 'Sci-Fi' 'Action|Horror|Sci-Fi' 'Action'\n",
      " 'Fantasy|Horror' 'Action|Drama|Sci-Fi|Thriller' 'Mystery|Sci-Fi|Thriller'\n",
      " 'Comedy|Drama|Thriller' 'Adventure|Comedy|Western' 'Comedy|Mystery'\n",
      " 'Animation|Children|Fantasy|Musical|Romance|IMAX' 'Adventure|Western'\n",
      " 'Drama|Mystery|Western' 'Comedy|Musical|Romance'\n",
      " 'Action|Adventure|Mystery|Romance|Thriller' 'Drama|Romance|War'\n",
      " 'Film-Noir|Romance|Thriller' 'Drama|Romance|Thriller'\n",
      " 'Crime|Drama|Film-Noir' 'Fantasy|Sci-Fi' 'Adventure|Drama|War'\n",
      " 'Drama|Western' 'Action|Western' 'Drama|Mystery|Romance|Thriller'\n",
      " 'Adventure|Animation|Children|Comedy|Drama|Musical|Romance'\n",
      " 'Drama|Musical|Romance' 'Crime|Drama|Film-Noir|Thriller'\n",
      " 'Drama|Horror|Mystery' 'Action|Mystery' 'Western'\n",
      " 'Mystery|Romance|Thriller' 'Comedy|Drama|Musical'\n",
      " 'Action|Mystery|Thriller' 'Action|Adventure|Drama|Thriller|Western'\n",
      " 'Action|Drama|Romance' 'Adventure|Comedy|Crime' 'Drama|Thriller|War'\n",
      " 'Action|Adventure|Comedy|Sci-Fi' 'Action|Drama'\n",
      " 'Drama|Fantasy|Horror|Thriller|War' 'Children|Drama'\n",
      " 'Adventure|Drama|IMAX' 'Action|Adventure|Comedy|Crime' 'Drama|Horror'\n",
      " 'Drama|Romance|War|Western'\n",
      " 'Adventure|Animation|Children|Drama|Musical|IMAX'\n",
      " 'Action|Adventure|Comedy|Romance|Thriller' 'Children|Comedy|Fantasy'\n",
      " 'Animation|Children|Drama|Fantasy|Musical' 'Adventure|Children'\n",
      " 'Crime|Drama|Horror|Mystery|Thriller' 'Drama|Sci-Fi' 'Children|Comedy'\n",
      " 'Drama|Horror|Thriller' 'Comedy|Horror|Romance'\n",
      " 'Action|Comedy|Crime|Drama|Thriller' 'Crime|Drama|Mystery'\n",
      " 'Action|Adventure|Mystery|Sci-Fi' 'Action|Adventure|Crime|Thriller'\n",
      " 'Action|Children' 'Drama|Fantasy' 'Adventure|Comedy|Crime|Mystery'\n",
      " 'Action|Comedy|Romance' 'Adventure|Children|Comedy|Fantasy|Romance'\n",
      " 'Action|Thriller|Western' 'Children|Drama|Fantasy|Mystery'\n",
      " 'Action|Drama|Thriller' 'Adventure|Drama|Sci-Fi' 'Action|Crime|Horror'\n",
      " 'Children' 'Drama|Film-Noir|Romance' 'Action|Crime|Fantasy|Thriller'\n",
      " 'Drama|Horror|Mystery|Thriller' 'Action|Romance|Thriller'\n",
      " 'Drama|Horror|Romance|Thriller' 'Action|Fantasy' 'Comedy|Thriller'\n",
      " 'Horror|Sci-Fi|Thriller' 'Adventure|Children|Drama' 'Action|Comedy|War'\n",
      " 'Action|Crime|Drama' 'Action|Children|Romance' 'Comedy|Crime|Horror'\n",
      " 'Action|Adventure|Children|Comedy|Fantasy|Sci-Fi'\n",
      " 'Comedy|Drama|Fantasy|Romance|Thriller'\n",
      " 'Adventure|Animation|Children|Fantasy|Musical|Romance' 'Horror|Mystery'\n",
      " 'Animation|Children|Drama|Musical|Romance' 'Comedy|Horror|Thriller'\n",
      " 'Sci-Fi|Thriller' 'Horror|Thriller' 'Crime|Film-Noir'\n",
      " 'Animation|Children|Comedy|Fantasy|Musical|Romance' 'Action|Romance'\n",
      " 'Comedy|Drama|Sci-Fi' 'Action|Romance|Sci-Fi|Thriller'\n",
      " 'Action|Comedy|Sci-Fi|Western' 'Comedy|Fantasy|Sci-Fi'\n",
      " 'Adventure|Animation|Children|Comedy|Fantasy|Romance'\n",
      " 'Action|Adventure|Drama|Sci-Fi' 'Children|Comedy|Romance'\n",
      " 'Drama|Fantasy|Mystery|Sci-Fi' 'Crime|Thriller'\n",
      " 'Action|Adventure|Sci-Fi|IMAX' 'Action|Crime|Mystery|Sci-Fi|Thriller'\n",
      " 'Adventure|Animation|Fantasy' 'Comedy|Crime|Drama|Musical'\n",
      " 'Action|Adventure|Sci-Fi|Thriller|IMAX' 'Comedy|Musical'\n",
      " 'Action|Adventure|Drama|War' 'Action|Adventure|Drama|Fantasy'\n",
      " 'Adventure|Animation|Children|Comedy|Musical|Romance'\n",
      " 'Adventure|Fantasy|IMAX' 'Comedy|Fantasy|Thriller' 'Action|Crime|Fantasy'\n",
      " 'Drama|Mystery|Sci-Fi|Thriller' 'Animation|Children|Comedy'\n",
      " 'Action|Adventure|Animation|Children|Comedy'\n",
      " 'Adventure|Animation|Children|Fantasy|IMAX'\n",
      " 'Action|Adventure|Drama|Mystery|Thriller'\n",
      " 'Adventure|Animation|Children|Comedy|Fantasy|Sci-Fi|IMAX'\n",
      " 'Action|Crime|Film-Noir|Mystery|Thriller' 'Action|Crime|IMAX'\n",
      " 'Drama|Fantasy|Mystery' 'Musical' 'Comedy|Romance|Sci-Fi'\n",
      " 'Adventure|Romance' 'Action|War' 'Crime|Drama|Romance'\n",
      " 'Action|Fantasy|War|IMAX' 'Drama|Fantasy|Romance|Thriller'\n",
      " 'Adventure|Fantasy|Mystery|Romance|IMAX'\n",
      " 'Drama|Fantasy|Horror|Romance|Thriller'\n",
      " 'Animation|Children|Fantasy|Musical|Romance'\n",
      " 'Action|Crime|Mystery|Thriller' 'Fantasy|Romance|Thriller|IMAX'\n",
      " 'Animation|Children|Comedy|Crime'\n",
      " 'Animation|Children|Comedy|Fantasy|Musical|Romance|IMAX'\n",
      " 'Action|Adventure|Animation|Children|Comedy|IMAX'\n",
      " 'Adventure|Drama|Fantasy|Romance' 'Action|Adventure|Animation|Children'\n",
      " 'Action|Adventure|Thriller|IMAX' 'Adventure|Drama|Fantasy|Romance|IMAX'\n",
      " 'Animation|Children|Comedy|IMAX' 'Action|Drama|Thriller|IMAX'\n",
      " 'Adventure|Animation|Comedy|Fantasy|Musical|Romance'\n",
      " 'Action|Animation|Children' 'Action|Adventure|Crime'\n",
      " 'Action|Thriller|War' 'Adventure|Animation|Comedy|Crime'\n",
      " 'Action|Adventure|Comedy|Western' 'Comedy|Crime|Drama|Romance|Thriller'\n",
      " 'Action|Adventure|Horror|Sci-Fi'\n",
      " 'Animation|Children|Comedy|Musical|Romance' 'Drama|Romance|Sci-Fi'\n",
      " 'Crime|Horror|Mystery|Thriller' 'Animation|Children|Drama|Fantasy'\n",
      " 'Adventure|Drama|Thriller' 'Action|Adventure|Drama|Sci-Fi|Thriller'\n",
      " 'Action|Horror|Sci-Fi|Thriller|IMAX'\n",
      " 'Adventure|Animation|Children|Romance|Sci-Fi'\n",
      " 'Adventure|Animation|Sci-Fi' 'Animation|Children|Fantasy|IMAX'\n",
      " 'Romance|Sci-Fi|Thriller' 'Action|Drama|Mystery|Sci-Fi|Thriller'\n",
      " 'Action|Horror|Sci-Fi|IMAX' 'Action|Crime|Sci-Fi'\n",
      " 'Action|Drama|Horror|IMAX' 'Action|Sci-Fi|IMAX'\n",
      " 'Adventure|Drama|Thriller|IMAX' 'Action|Adventure|Fantasy|Sci-Fi|IMAX'\n",
      " 'Action|Adventure|Fantasy|Sci-Fi'\n",
      " 'Adventure|Animation|Children|Comedy|Drama|Fantasy' 'Animation|Comedy'\n",
      " 'Adventure|Drama|Romance|Sci-Fi' 'Film-Noir|Mystery'\n",
      " 'Action|Adventure|Western' 'Adventure|Animation|Children|Comedy|Sci-Fi'\n",
      " 'Crime|Film-Noir|Thriller' 'Action|Comedy|Fantasy|Horror'\n",
      " 'Crime|Thriller|War' 'Action|Comedy|Fantasy'\n",
      " 'Action|Adventure|Animation|Drama|Fantasy'\n",
      " 'Action|Adventure|Animation|Children|Fantasy|Sci-Fi'\n",
      " 'Adventure|Animation|Drama|Fantasy|Sci-Fi' 'Drama|Sci-Fi|War'\n",
      " 'Drama|Fantasy|Thriller'\n",
      " 'Adventure|Animation|Children|Comedy|Fantasy|IMAX'\n",
      " 'Action|Drama|Thriller|Western' 'Action|Adventure|Crime|Drama|Thriller'\n",
      " 'Adventure|Animation|Fantasy|Romance' 'Film-Noir|Mystery|Thriller'\n",
      " 'Action|Adventure|Children|Drama' 'Fantasy|Horror|Mystery|Romance'\n",
      " 'Comedy|Mystery|Thriller' 'Action|Comedy|Crime'\n",
      " 'Action|Adventure|Animation|Comedy' 'Comedy|Crime|Drama|Romance'\n",
      " 'Adventure|Children|Comedy|Fantasy|IMAX'\n",
      " 'Action|Crime|Drama|Thriller|War'\n",
      " 'Animation|Comedy|Fantasy|Musical|Romance'\n",
      " 'Comedy|Crime|Mystery|Thriller' 'Action|Sci-Fi|Thriller|IMAX'\n",
      " 'Adventure|Comedy|Drama' 'Drama|Horror|Musical|Thriller'\n",
      " 'Action|Drama|Thriller|War' 'Action|Animation|Children|Comedy|IMAX'\n",
      " 'Action|Adventure|Comedy|Crime|Fantasy'\n",
      " 'Action|Drama|Mystery|Sci-Fi|Thriller|IMAX'\n",
      " 'Drama|Fantasy|Mystery|Romance' 'Comedy|Drama|Musical|Sci-Fi'\n",
      " 'Action|Comedy|Drama' 'Animation|Comedy|Drama'\n",
      " 'Action|Drama|Horror|Thriller' 'Action|Crime|Mystery'\n",
      " 'Action|Comedy|Thriller' 'Action|Comedy|Fantasy|Musical|Romance'\n",
      " 'Action|Adventure|Comedy|Crime|Thriller' 'Crime|Drama|Romance|Thriller'\n",
      " 'Action|Comedy|Crime|Fantasy|Thriller|IMAX'\n",
      " 'Action|Adventure|Drama|Fantasy|IMAX' 'Action|Adventure|Fantasy|IMAX'\n",
      " 'Action|Adventure|Sci-Fi|Thriller|War'\n",
      " 'Action|Adventure|Comedy|Crime|Mystery|Thriller' 'Drama|Sci-Fi|IMAX'\n",
      " 'Action|Animation|Sci-Fi' 'Action|Animation' 'Action|Drama|Sci-Fi|IMAX'\n",
      " 'Comedy|Drama|Mystery' 'Documentary|Drama|Musical' 'Crime'\n",
      " 'Adventure|Children|Comedy|Musical' 'Comedy|Mystery|Romance'\n",
      " 'Action|Adventure|Animation|Children|Fantasy'\n",
      " 'Action|Adventure|Animation|Horror|Sci-Fi'\n",
      " 'Drama|Fantasy|Horror|Thriller' 'Comedy|Fantasy|Romance|Sci-Fi'\n",
      " 'Action|Adventure|Drama|Thriller' 'Comedy|Fantasy|Musical'\n",
      " 'Comedy|Crime|Mystery|Romance|Thriller' 'Crime|Mystery|Romance|Thriller'\n",
      " 'Action|Adventure|Comedy|Fantasy|Horror'\n",
      " 'Fantasy|Horror|Romance|Thriller' 'Action|Mystery|Sci-Fi'\n",
      " 'Action|Comedy|Western' 'Action|Adventure|Fantasy|Thriller'\n",
      " 'Children|Fantasy' 'Romance|Thriller'\n",
      " 'Adventure|Animation|Children|Drama|Musical'\n",
      " 'Adventure|Film-Noir|Sci-Fi|Thriller' 'Crime|Drama|Fantasy|Thriller'\n",
      " 'Crime|Drama|Mystery|Romance|Thriller' 'Children|Comedy|Drama'\n",
      " 'Adventure|Children|Comedy|Fantasy' 'Adventure|Comedy|Romance'\n",
      " 'Children|Comedy|Western' 'Children|Sci-Fi'\n",
      " 'Action|Adventure|Children|Comedy' 'Children|Comedy|Fantasy|Horror'\n",
      " 'Children|Comedy|Sci-Fi' 'Adventure|Comedy|Musical'\n",
      " 'Children|Drama|Fantasy|Mystery|Thriller'\n",
      " 'Animation|Children|Comedy|Drama|Fantasy' 'Comedy|Fantasy|Horror'\n",
      " 'Action|Horror|Thriller' 'Horror|Mystery|Sci-Fi|Thriller'\n",
      " 'Horror|Western' 'Comedy|Crime|Mystery' 'Action|Drama|Romance|Sci-Fi'\n",
      " 'Animation|Musical' 'Action|Comedy|Romance|Thriller'\n",
      " 'Comedy|Horror|Musical' 'Comedy|Horror|Romance|Thriller'\n",
      " 'Action|Drama|Romance|Thriller'\n",
      " 'Adventure|Animation|Comedy|Fantasy|Musical'\n",
      " 'Adventure|Comedy|Fantasy|Sci-Fi'\n",
      " 'Action|Fantasy|Horror|Mystery|Thriller'\n",
      " 'Fantasy|Horror|Mystery|Thriller' 'Children|Comedy|Musical'\n",
      " 'Adventure|Crime|Drama' 'Film-Noir|Horror|Mystery|Thriller'\n",
      " 'Action|Adventure|Animation|Children|Sci-Fi'\n",
      " 'Action|Fantasy|Horror|Sci-Fi|Thriller' 'Children|Comedy|Mystery'\n",
      " 'Musical|Romance' 'Musical|Romance|War' 'Animation|Children|Musical|IMAX'\n",
      " 'Action|Children|Comedy|Fantasy|Sci-Fi' 'Children|Musical'\n",
      " 'Action|Adventure|Comedy|Thriller' 'Adventure|Animation|Fantasy|Sci-Fi'\n",
      " 'Adventure|Thriller' 'Crime|Drama|Film-Noir|Mystery|Thriller'\n",
      " 'Adventure|Children|Comedy|Fantasy|Mystery' 'Action|Comedy|Documentary'\n",
      " 'Adventure|Children|Comedy|Mystery' 'Action|Comedy|Crime|Romance'\n",
      " 'Action|Adventure|Animation|Children|Comedy|Fantasy'\n",
      " 'Adventure|Fantasy|Thriller|IMAX'\n",
      " 'Adventure|Comedy|Drama|Fantasy|Romance' 'Action|Comedy|Fantasy|IMAX'\n",
      " 'Adventure|Comedy|Sci-Fi|Thriller' 'Action|Adventure|Animation|Sci-Fi'\n",
      " 'Action|Comedy|IMAX' 'Action|Adventure|Animation|Children|Comedy|Romance'\n",
      " 'Action|Animation|Children|Comedy|Sci-Fi|IMAX'\n",
      " 'Action|Adventure|Sci-Fi|War|IMAX'\n",
      " 'Action|Adventure|Drama|Fantasy|Mystery|IMAX'\n",
      " 'Action|Adventure|Drama|Thriller|IMAX' 'Action|Comedy|Sci-Fi|IMAX'\n",
      " 'Children|Musical|Mystery' 'Action|Adventure|Animation'\n",
      " 'Action|Crime|Thriller|IMAX' 'Action|Adventure|Western|IMAX'\n",
      " 'Adventure|Romance|Sci-Fi|IMAX' 'Action|Crime|Sci-Fi|IMAX'\n",
      " 'Action|Animation|Comedy' '(no genres listed)' 'Crime|Drama|Horror'\n",
      " 'Animation|Fantasy' 'Romance' 'Comedy|Documentary|Drama'\n",
      " 'Action|Crime|Horror|Sci-Fi|Thriller'\n",
      " 'Action|Adventure|Crime|Horror|Thriller' 'Animation|Fantasy|Thriller'\n",
      " 'Adventure|Drama|Fantasy|Mystery|Sci-Fi' 'Animation|Sci-Fi'\n",
      " 'Documentary|Drama' 'Drama|Mystery|Sci-Fi'\n",
      " 'Action|Crime|Romance|Thriller' 'Crime|Film-Noir|Mystery'\n",
      " 'Crime|Drama|Fantasy|Film-Noir|Mystery|Romance'\n",
      " 'Animation|Comedy|Fantasy' 'Drama|Fantasy|Sci-Fi'\n",
      " 'Action|Adventure|Animation|Fantasy' 'Drama|Film-Noir|Thriller' 'Mystery'\n",
      " 'Action|Fantasy|Horror|Thriller' 'Action|Mystery|Sci-Fi|Thriller'\n",
      " 'Adventure|Comedy|Romance|War' 'Action|Horror'\n",
      " 'Adventure|Animation|Children|Musical|Western'\n",
      " 'Animation|Children|Fantasy' 'Comedy|War|Western'\n",
      " 'Action|Horror|Sci-Fi|War' 'Crime|Drama|Western'\n",
      " 'Action|Adventure|Drama|Fantasy|Thriller'\n",
      " 'Action|Fantasy|Sci-Fi|Thriller' 'Crime|Drama|Film-Noir|Mystery'\n",
      " 'Documentary|Drama|War' 'Action|Adventure|Crime|Drama|Thriller|War'\n",
      " 'Action|Comedy|Crime|Mystery' 'Adventure|Drama|Sci-Fi|Thriller'\n",
      " 'Action|Crime|Drama|Western' 'Action|Adventure|Comedy|Drama|Thriller'\n",
      " 'Adventure|Romance|Thriller' 'Adventure|Drama|Fantasy' 'War'\n",
      " 'Animation|Documentary|Drama|War' 'Drama|Sci-Fi|Thriller|IMAX'\n",
      " 'Children|Drama|Fantasy|Romance' 'Documentary|War' 'Drama|War|Western'\n",
      " 'Mystery|Sci-Fi|Thriller|IMAX' 'Comedy|Crime|Drama|Mystery|Thriller'\n",
      " 'Drama|Mystery|Romance' 'Animation|Fantasy|Horror|Sci-Fi'\n",
      " 'Comedy|Crime|Drama|War' 'Action|Fantasy|Horror|Romance'\n",
      " 'Action|Animation|Drama|Sci-Fi|Thriller'\n",
      " 'Action|Animation|Fantasy|Sci-Fi'\n",
      " 'Action|Adventure|Comedy|Fantasy|Mystery' 'Adventure|Drama|Fantasy|IMAX'\n",
      " 'Drama|Fantasy|Horror|Romance' 'Drama|Mystery|War'\n",
      " 'Comedy|Horror|Sci-Fi|Thriller' 'Action|Adventure|Children|IMAX'\n",
      " 'Action|Adventure|Crime|Drama|Romance|Thriller' 'Documentary|Musical'\n",
      " 'Action|Adventure|Thriller|War' 'Action|Adventure|Comedy|Drama|War'\n",
      " 'Adventure|Drama|Romance' 'Action|Adventure|War'\n",
      " 'Mystery|Romance|Sci-Fi|Thriller'\n",
      " 'Adventure|Animation|Children|Sci-Fi|IMAX' 'Comedy|Drama|Film-Noir'\n",
      " 'Action|Comedy|Drama|Horror' 'Adventure|Children|Comedy|Fantasy|Musical'\n",
      " 'Action|Adventure|Animation|Comedy|Crime|Mystery' 'Fantasy|Western'\n",
      " 'Action|Animation|Drama|Fantasy|Sci-Fi' 'Animation|Drama'\n",
      " 'Children|Comedy|Drama|Musical|Romance' 'Animation|Mystery|Sci-Fi'\n",
      " 'Animation|Comedy|Fantasy|Sci-Fi' 'Animation' 'Action|Children|Drama'\n",
      " 'Adventure|Comedy|Thriller' 'Action|Animation|Mystery|IMAX'\n",
      " 'Animation|Drama|Romance' 'Action|Comedy|Fantasy|Sci-Fi' 'Fantasy'\n",
      " 'Action|Animation|Crime|Sci-Fi' 'Drama|Thriller|Western'\n",
      " 'Animation|Drama|Fantasy' 'Action|Adventure|Comedy|Fantasy|Sci-Fi'\n",
      " 'Children|Comedy|Fantasy|Romance' 'Crime|Drama|Romance|War'\n",
      " 'Adventure|Drama|Mystery|Thriller' 'Action|Sci-Fi|War'\n",
      " 'Horror|Mystery|Sci-Fi' 'Comedy|Horror|Sci-Fi' 'Action|Fantasy|Thriller'\n",
      " 'Action|Crime|Drama|Mystery|Sci-Fi|Thriller'\n",
      " 'Adventure|Drama|Romance|War' 'Action|Adventure|Drama|Western'\n",
      " 'Children|Comedy|Romance|Sci-Fi' 'Animation|Comedy|Drama|Fantasy'\n",
      " 'Documentary|IMAX' 'Action|Fantasy|Sci-Fi'\n",
      " 'Action|Animation|Drama|Sci-Fi' 'Action|Adventure|Fantasy|Romance|IMAX'\n",
      " 'Drama|Fantasy|Romance|Sci-Fi' 'Children|Drama|Mystery'\n",
      " 'Drama|Musical|Romance|IMAX' 'Action|Adventure|Fantasy|Horror|Thriller'\n",
      " 'Drama|Horror|Mystery|Sci-Fi|Thriller' 'Action|Adventure|Children'\n",
      " 'Adventure|Mystery|Sci-Fi|Thriller' 'Action|Comedy|Crime|Horror'\n",
      " 'Action|Adventure|Children|Sci-Fi' 'Fantasy|Horror|Thriller'\n",
      " 'Action|Drama|Horror' 'Animation|Drama|Mystery|Sci-Fi|Thriller'\n",
      " 'Adventure|Comedy|Fantasy|Romance' 'Animation|Comedy|Romance'\n",
      " 'Animation|Drama|War' 'Action|Comedy|Crime|Drama|Horror|Thriller'\n",
      " 'Action|Adventure|Children|Crime|Mystery|Thriller'\n",
      " 'Action|Fantasy|Horror' 'Comedy|Fantasy|Horror|Thriller' 'Crime|Mystery'\n",
      " 'Action|Comedy|Romance|War' 'Comedy|Crime|Romance|Thriller'\n",
      " 'Adventure|Documentary' 'Comedy|Crime|Horror|Mystery|Thriller'\n",
      " 'Adventure|Drama|Horror|Thriller' 'Animation|Children|Fantasy|Mystery'\n",
      " 'Adventure|Animation|Children|Comedy|IMAX'\n",
      " 'Comedy|Drama|Horror|Sci-Fi|Thriller'\n",
      " 'Action|Adventure|Animation|Children|Comedy|Sci-Fi'\n",
      " 'Animation|Comedy|Fantasy|Musical' 'Drama|Romance|Western'\n",
      " 'Drama|Romance|Thriller|War'\n",
      " 'Adventure|Animation|Children|Comedy|Fantasy|Musical|Romance'\n",
      " 'Animation|Comedy|Sci-Fi'\n",
      " 'Action|Adventure|Animation|Comedy|Fantasy|Sci-Fi'\n",
      " 'Animation|Sci-Fi|IMAX' 'Crime|Documentary' 'Sci-Fi|Thriller|IMAX'\n",
      " 'Adventure|Animation|Children|Comedy|Crime'\n",
      " 'Animation|Fantasy|Musical|IMAX' 'Drama|Romance|Sci-Fi|Thriller'\n",
      " 'Drama|Mystery|Romance|War' 'Mystery|Sci-Fi' 'Horror|IMAX'\n",
      " 'Crime|Sci-Fi|Thriller' 'Action|Fantasy|Horror|IMAX'\n",
      " 'Drama|Fantasy|Horror|Mystery|Thriller'\n",
      " 'Action|Animation|Children|Fantasy' 'Comedy|Mystery|Sci-Fi'\n",
      " 'Crime|Drama|Mystery|Thriller|War' 'Crime|Drama|War'\n",
      " 'Animation|Children|Comedy|Fantasy' 'Adventure|Comedy|Horror|Romance'\n",
      " 'Comedy|Documentary|Romance' 'Children|Comedy|Drama|Mystery'\n",
      " 'Action|Animation|Comedy|Horror' 'Adventure|Comedy|Mystery'\n",
      " 'Comedy|Crime|Horror|Thriller' 'Comedy|Drama|Horror'\n",
      " 'Action|Adventure|Children|Fantasy'\n",
      " 'Action|Adventure|Animation|Children|Comedy|Western'\n",
      " 'Adventure|Comedy|Musical|Sci-Fi' 'Adventure|Comedy|Horror'\n",
      " 'Animation|Children|Mystery' 'Adventure|Children|Fantasy|Sci-Fi'\n",
      " 'Action|Adventure|Children|Comedy|Sci-Fi'\n",
      " 'Action|Adventure|Animation|Comedy|Sci-Fi'\n",
      " 'Action|Comedy|Sci-Fi|Thriller' 'Comedy|Horror|Mystery'\n",
      " 'Comedy|Crime|Fantasy' 'Adventure|Children|Comedy|Drama|Fantasy|Sci-Fi'\n",
      " 'Action|Adventure|Comedy|Fantasy|Sci-Fi|Thriller' 'Comedy|Sci-Fi|War'\n",
      " 'Action|Adventure|Fantasy|Mystery'\n",
      " 'Adventure|Animation|Children|Drama|Fantasy'\n",
      " 'Action|Adventure|Crime|Sci-Fi|Thriller' 'Action|Crime|Thriller|Western'\n",
      " 'Romance|Sci-Fi' 'Comedy|Musical|Sci-Fi'\n",
      " 'Action|Adventure|Drama|Romance|Thriller'\n",
      " 'Action|Animation|Sci-Fi|Thriller' 'Action|Drama|Horror|Sci-Fi|Thriller'\n",
      " 'Animation|Drama|Sci-Fi|War' 'Animation|Comedy|Drama|Fantasy|Sci-Fi'\n",
      " 'Drama|Horror|Mystery|Romance|Thriller' 'Drama|Fantasy|Musical|Romance'\n",
      " 'Adventure|Children|Fantasy|Western'\n",
      " 'Adventure|Children|Drama|Fantasy|IMAX' 'Comedy|Musical|Romance|Western'\n",
      " 'Crime|Drama|Horror|Thriller' 'Action|Comedy|Drama|Thriller'\n",
      " 'Comedy|Crime|Drama|Mystery|Romance'\n",
      " 'Action|Adventure|Children|Mystery|Sci-Fi'\n",
      " 'Action|Animation|Children|Comedy' 'Adventure|Crime|Thriller'\n",
      " 'Comedy|Crime|Drama|Fantasy' 'Action|Adventure|Comedy|Drama|Romance|War'\n",
      " 'Adventure|Drama|Fantasy|Horror|Sci-Fi' 'Film-Noir|Thriller'\n",
      " 'Animation|Comedy|Drama|Romance|Sci-Fi' 'Comedy|Crime|Drama|Mystery'\n",
      " 'Adventure|Animation|Children|Comedy|Drama|Romance' 'Animation|Romance'\n",
      " 'Comedy|Drama|Fantasy|Mystery|Romance' 'Animation|Drama|Fantasy|Romance'\n",
      " 'Animation|Crime|Drama' 'Adventure|Comedy|Mystery|Romance'\n",
      " 'Comedy|Horror|IMAX' 'Animation|Comedy|Horror|IMAX'\n",
      " 'Action|Comedy|Horror|Sci-Fi' 'Action|Fantasy|Sci-Fi|IMAX'\n",
      " 'Action|Drama|Fantasy' 'Action|Adventure|Drama|Romance|War'\n",
      " 'Adventure|Comedy|Drama|Fantasy|Mystery|Sci-Fi|Thriller'\n",
      " 'Adventure|Comedy|Fantasy|Romance|IMAX' 'Comedy|Crime|Sci-Fi'\n",
      " 'Action|Adventure|Animation|Fantasy|Sci-Fi'\n",
      " 'Fantasy|Horror|Sci-Fi|Thriller'\n",
      " 'Adventure|Animation|Comedy|Fantasy|Romance' 'Crime|Romance|Thriller'\n",
      " 'Fantasy|Horror|Mystery' 'Drama|Film-Noir|Mystery|Romance'\n",
      " 'Crime|Fantasy|Horror' 'Children|Comedy|Musical|Romance'\n",
      " 'Romance|Western' 'Action|Drama|War|Western'\n",
      " 'Action|Animation|Comedy|Crime|Drama|Romance|Thriller' 'Adventure'\n",
      " 'Adventure|War' 'Adventure|Thriller|Western'\n",
      " 'Action|Adventure|Drama|Romance' 'Action|Crime|Drama|Thriller|IMAX'\n",
      " 'Crime|Drama|Musical|Thriller' 'Action|Drama|Mystery|Romance|Thriller'\n",
      " 'Adventure|Fantasy|Romance|Sci-Fi|Thriller'\n",
      " 'Action|Crime|Sci-Fi|Thriller' 'Comedy|Drama|Fantasy|Sci-Fi'\n",
      " 'Children|Fantasy|Musical' 'Children|Drama|Musical'\n",
      " 'Musical|Romance|Western' 'Fantasy|Musical|Romance'\n",
      " 'Adventure|Drama|Romance|Thriller|War'\n",
      " 'Action|Adventure|Children|Comedy|Mystery'\n",
      " 'Action|Adventure|Comedy|Drama|Romance' 'Crime|Western'\n",
      " 'Drama|Fantasy|Mystery|Thriller' 'Action|Animation|Comedy|Romance|Sci-Fi'\n",
      " 'Adventure|Drama|War|Western' 'Action|Animation|Comedy|Sci-Fi'\n",
      " 'Crime|Drama|Fantasy|Horror|Thriller'\n",
      " 'Adventure|Animation|Comedy|Fantasy|IMAX' 'Drama|Fantasy|Musical'\n",
      " 'Comedy|Drama|Romance|Thriller' 'Action|Adventure|Animation|Drama'\n",
      " 'Action|Animation|Drama' 'Animation|Fantasy|Horror|Mystery'\n",
      " 'Action|Adventure|Animation|Drama|Fantasy|Sci-Fi'\n",
      " 'Action|Animation|Mystery' 'Animation|Drama|Sci-Fi'\n",
      " 'Animation|Fantasy|Mystery' 'Action|Animation|Comedy|Fantasy'\n",
      " 'Action|Sci-Fi|Thriller|Western' 'Action|Adventure|Fantasy|Romance'\n",
      " 'Animation|Horror|Mystery|Thriller' 'Adventure|Animation|Drama'\n",
      " 'Drama|Film-Noir' 'Drama|Horror|War'\n",
      " 'Action|Adventure|Comedy|Crime|Drama|Film-Noir|Horror|Mystery|Thriller|Western'\n",
      " 'Adventure|Animation|Comedy|Sci-Fi'\n",
      " 'Action|Adventure|Comedy|Drama|Fantasy|Thriller'\n",
      " 'Adventure|Drama|Fantasy|Sci-Fi' 'Adventure|Children|Drama|Sci-Fi'\n",
      " 'Action|Drama|Mystery' 'Fantasy|Romance' 'Fantasy|Horror|Sci-Fi|Western'\n",
      " 'Adventure|Animation|Children|Fantasy|Sci-Fi' 'Action|Children|Comedy'\n",
      " 'Action|Adventure|Crime|Drama' 'Action|Drama|Romance|Western'\n",
      " 'Action|Crime|Film-Noir' 'Comedy|Drama|Musical|IMAX' 'Horror|Romance'\n",
      " 'Comedy|Fantasy|Horror|Musical|Thriller'\n",
      " 'Action|Adventure|Children|Comedy|Crime'\n",
      " 'Action|Crime|Horror|Mystery|Thriller'\n",
      " 'Adventure|Drama|Horror|Sci-Fi|Thriller'\n",
      " 'Children|Comedy|Crime|Drama|Fantasy' 'Comedy|Crime|Musical'\n",
      " 'Children|Documentary' 'Action|Adventure|Horror|Mystery|Sci-Fi|Thriller'\n",
      " 'Action|Drama|Fantasy|Horror|Mystery|Sci-Fi|Thriller'\n",
      " 'Crime|Drama|Fantasy|Mystery|Thriller'\n",
      " 'Action|Adventure|Animation|Fantasy|IMAX' 'Documentary|Drama|Thriller'\n",
      " 'Action|Adventure|Comedy|Drama|Romance|Thriller'\n",
      " 'Adventure|Animation|Fantasy|IMAX' 'Action|Sci-Fi|Thriller|Western|IMAX'\n",
      " 'Action|Horror|Mystery|Thriller' 'Documentary|Mystery'\n",
      " 'Action|Fantasy|Thriller|IMAX' 'Action|Animation|Fantasy|IMAX'\n",
      " 'Action|Drama|War|IMAX' 'Comedy|Romance|Western'\n",
      " 'Adventure|Children|Comedy|Drama'\n",
      " 'Drama|Fantasy|Mystery|Romance|Thriller'\n",
      " 'Action|Animation|Crime|Sci-Fi|Thriller'\n",
      " 'Comedy|Crime|Drama|Horror|Mystery' 'Action|Crime|Drama|Horror'\n",
      " 'Action|Comedy|Fantasy|Horror|Thriller' 'Action|Animation|Crime'\n",
      " 'Action|Adventure|Comedy|Horror' 'Adventure|Horror|Sci-Fi'\n",
      " 'Comedy|Musical|Western' 'Comedy|Fantasy|Mystery'\n",
      " 'Fantasy|Mystery|Thriller' 'Comedy|Documentary|Musical' 'Film-Noir'\n",
      " 'Drama|Fantasy|Horror|Mystery|Sci-Fi|Thriller'\n",
      " 'Drama|Fantasy|Sci-Fi|Thriller'\n",
      " 'Adventure|Children|Comedy|Romance|Sci-Fi'\n",
      " 'Animation|Children|Drama|Fantasy|IMAX' 'Children|Drama|War'\n",
      " 'Adventure|Mystery|Thriller' 'Adventure|Animation|Romance'\n",
      " 'Documentary|Horror' 'Children|Comedy|Fantasy|Sci-Fi'\n",
      " 'Adventure|Children|Drama|Fantasy' 'Comedy|Drama|Sci-Fi|Thriller'\n",
      " 'Drama|Mystery|Romance|Sci-Fi|Thriller'\n",
      " 'Adventure|Drama|Horror|Mystery|Thriller'\n",
      " 'Action|Crime|Drama|Horror|Thriller' 'Crime|Documentary|War'\n",
      " 'Action|Comedy|Crime|Fantasy|Thriller'\n",
      " 'Animation|Fantasy|Sci-Fi|Thriller' 'Crime|Sci-Fi'\n",
      " 'Action|Adventure|Animation|Horror'\n",
      " 'Action|Animation|Comedy|Horror|Thriller' 'Documentary|Drama|Mystery'\n",
      " 'Crime|Drama|Fantasy' 'Animation|Comedy|Drama|Romance'\n",
      " 'Horror|Romance|Thriller' 'Animation|Documentary'\n",
      " 'Action|Fantasy|Mystery' 'Animation|Horror|Mystery'\n",
      " 'Action|Crime|Mystery|Romance|Thriller'\n",
      " 'Action|Adventure|Comedy|Documentary|Fantasy'\n",
      " 'Adventure|Animation|Comedy|Fantasy|Romance|Sci-Fi'\n",
      " 'Horror|Thriller|IMAX' 'Adventure|Comedy|Fantasy|Musical'\n",
      " 'Children|Drama|Romance' 'Comedy|Documentary|Drama|Romance'\n",
      " 'Action|Adventure|Animation|Crime|Fantasy'\n",
      " 'Animation|Drama|Fantasy|Mystery' 'Comedy|Crime|Mystery|Romance'\n",
      " 'Action|Comedy|Drama|War' 'Fantasy|Mystery|Western'\n",
      " 'Action|Adventure|Drama|Fantasy|Romance|Sci-Fi|Thriller'\n",
      " 'Adventure|Animation|Children|Musical|Romance'\n",
      " 'Action|Comedy|Horror|Sci-Fi|Thriller|Western'\n",
      " 'Action|Fantasy|Horror|Mystery|Sci-Fi|Thriller'\n",
      " 'Action|Animation|Children|Sci-Fi' 'Adventure|Fantasy|Thriller'\n",
      " 'Adventure|Animation|Comedy|Fantasy'\n",
      " 'Action|Adventure|Animation|Comedy|Thriller' 'Action|Animation|Fantasy'\n",
      " 'Action|Animation|Crime|Thriller' 'Action|Animation|Crime|Drama'\n",
      " 'Action|Fantasy|Sci-Fi|Thriller|War' 'Children|Comedy|Drama|Fantasy'\n",
      " 'Action|Adventure|Horror' 'Adventure|War|Western'\n",
      " 'Adventure|Drama|Mystery' 'Comedy|Drama|Mystery|Thriller'\n",
      " 'Adventure|Comedy|Documentary' 'Comedy|Crime|Drama|Western'\n",
      " 'Action|Adventure|Animation|Comedy|Fantasy|Mystery|Sci-Fi'\n",
      " 'Children|Fantasy|Musical|Romance' 'Comedy|Crime|Drama|Horror'\n",
      " 'Adventure|Children|Fantasy|Sci-Fi|Thriller'\n",
      " 'Comedy|Drama|Mystery|Romance' 'Action|Adventure|Comedy|Drama'\n",
      " 'Comedy|Sci-Fi|Thriller' 'Crime|Drama|Thriller|War'\n",
      " 'Documentary|Musical|IMAX' 'Action|Children|Sci-Fi|IMAX'\n",
      " 'Action|Comedy|Fantasy|Thriller' 'Comedy|Drama|Sci-Fi|War'\n",
      " 'Adventure|Crime|Drama|Romance' 'Children|Comedy|Crime|Musical'\n",
      " 'Crime|Horror|Sci-Fi' 'Adventure|Fantasy|Sci-Fi' 'Crime|Romance'\n",
      " 'Action|Fantasy|Western' 'Action|Crime|Horror|Thriller'\n",
      " 'Children|Horror|Sci-Fi' 'Action|IMAX' 'Horror|Sci-Fi|Western'\n",
      " 'Action|Adventure|Romance|Sci-Fi' 'Action|Crime|Fantasy|Sci-Fi|Thriller'\n",
      " 'Comedy|Drama|Fantasy|Mystery' 'Adventure|Documentary|Western'\n",
      " 'Drama|Film-Noir|Mystery|Thriller' 'Adventure|Comedy|Crime|Drama|Romance'\n",
      " 'Romance|War' 'Drama|Musical|Mystery' 'Adventure|Crime|Drama|Thriller'\n",
      " 'Children|Horror|Mystery|Thriller' 'Adventure|Comedy|Crime|Thriller'\n",
      " 'Action|Adventure|Comedy|Crime|Drama'\n",
      " 'Crime|Drama|Film-Noir|Romance|Thriller' 'Drama|Film-Noir|Mystery'\n",
      " 'Comedy|Crime|Drama|Musical|Mystery|Romance' 'Adventure|Comedy|War'\n",
      " 'Crime|Drama|Film-Noir|Romance'\n",
      " 'Action|Adventure|Drama|Romance|Thriller|Western'\n",
      " 'Animation|Drama|Sci-Fi|IMAX' 'Comedy|Fantasy|Mystery|Sci-Fi'\n",
      " 'Animation|Drama|Romance|Sci-Fi' 'Action|Animation|Mystery|Sci-Fi'\n",
      " 'Adventure|Animation|Children|Western' 'Animation|Comedy|War'\n",
      " 'Crime|Drama|Musical' 'Adventure|Animation|Children|Comedy|Fantasy|War'\n",
      " 'Adventure|Animation' 'Comedy|Crime|Musical|Mystery'\n",
      " 'Action|Animation|Children|Comedy|Musical' 'Animation|Fantasy|Sci-Fi|War'\n",
      " 'Adventure|Children|Comedy|Sci-Fi' 'Animation|Children|Comedy|Drama'\n",
      " 'Adventure|Documentary|IMAX'\n",
      " 'Action|Adventure|Animation|Children|Comedy|Sci-Fi|IMAX'\n",
      " 'Fantasy|Mystery|Romance|Thriller' 'Adventure|Comedy|Drama|Romance'\n",
      " 'Action|Drama|Mystery|Thriller' 'Adventure|Animation|Drama|Horror'\n",
      " 'Action|Adventure|Comedy|Sci-Fi|IMAX' 'Action|Drama|IMAX'\n",
      " 'Crime|Horror|Mystery' 'Adventure|Fantasy|Musical|Romance'\n",
      " 'Adventure|Romance|Sci-Fi' 'Comedy|Romance|Sci-Fi|Thriller'\n",
      " 'Action|Animation|Crime|Drama|Film-Noir|Mystery|Sci-Fi|Thriller'\n",
      " 'Action|Documentary|Drama|Thriller'\n",
      " 'Action|Adventure|Comedy|Sci-Fi|Thriller' 'Comedy|Drama|Romance|Sci-Fi'\n",
      " 'Action|Animation|Horror' 'Comedy|Crime|Drama|Sci-Fi|Thriller'\n",
      " 'Action|Comedy|Horror|Musical'\n",
      " 'Action|Adventure|Comedy|Crime|Romance|Thriller'\n",
      " 'Adventure|Comedy|Crime|Drama|Mystery|Thriller'\n",
      " 'Animation|Fantasy|Horror' 'Adventure|Comedy|Fantasy|Horror'\n",
      " 'Action|Comedy|Crime|Western' 'Comedy|Fantasy|Horror|Sci-Fi'\n",
      " 'Action|Animation|Film-Noir|Sci-Fi|Thriller'\n",
      " 'Action|Comedy|Drama|Horror|Thriller'\n",
      " 'Animation|Children|Comedy|Fantasy|Musical'\n",
      " 'Animation|Children|Comedy|Horror'\n",
      " 'Action|Adventure|Animation|Sci-Fi|Thriller'\n",
      " 'Animation|Comedy|Horror|Musical' 'Documentary|Fantasy'\n",
      " 'Animation|Children|Comedy|Musical|Sci-Fi' 'Crime|Drama|Horror|Mystery'\n",
      " 'Animation|Children|Comedy|Drama|Romance'\n",
      " 'Adventure|Animation|Fantasy|Horror|Sci-Fi'\n",
      " 'Comedy|Mystery|Romance|Thriller' 'Comedy|Drama|Romance|Western'\n",
      " 'Crime|Musical' 'Action|Adventure|Drama|Fantasy|Romance'\n",
      " 'Adventure|Comedy|Drama|Fantasy' 'Action|Adventure|Fantasy|War'\n",
      " 'Musical|Western' 'Action|Drama|Fantasy|Sci-Fi'\n",
      " 'Action|Adventure|Horror|Sci-Fi|Thriller' 'Action|Comedy|Drama|Romance'\n",
      " 'Horror|Thriller|Western' 'Comedy|Musical|Sci-Fi|Western'\n",
      " 'Crime|Thriller|Western' 'Drama|Fantasy|Musical|Mystery|Sci-Fi'\n",
      " 'Children|Crime|Drama' 'Drama|Fantasy|Thriller|War'\n",
      " 'Drama|Horror|Romance' 'Horror|Romance|Sci-Fi'\n",
      " 'Action|Crime|Drama|Sci-Fi']\n"
     ]
    }
   ],
   "source": [
    "# check for unique values in the genres column\n",
    "print('Unique genres')\n",
    "print(movie_ratings_df['genres'].unique())"
   ]
  },
  {
   "cell_type": "code",
   "execution_count": 10,
   "metadata": {},
   "outputs": [
    {
     "data": {
      "text/html": [
       "<div>\n",
       "<style scoped>\n",
       "    .dataframe tbody tr th:only-of-type {\n",
       "        vertical-align: middle;\n",
       "    }\n",
       "\n",
       "    .dataframe tbody tr th {\n",
       "        vertical-align: top;\n",
       "    }\n",
       "\n",
       "    .dataframe thead th {\n",
       "        text-align: right;\n",
       "    }\n",
       "</style>\n",
       "<table border=\"1\" class=\"dataframe\">\n",
       "  <thead>\n",
       "    <tr style=\"text-align: right;\">\n",
       "      <th></th>\n",
       "      <th>userId</th>\n",
       "      <th>movieId</th>\n",
       "      <th>rating</th>\n",
       "      <th>title</th>\n",
       "    </tr>\n",
       "  </thead>\n",
       "  <tbody>\n",
       "    <tr>\n",
       "      <th>0</th>\n",
       "      <td>1</td>\n",
       "      <td>1</td>\n",
       "      <td>4.0</td>\n",
       "      <td>Toy Story (1995)</td>\n",
       "    </tr>\n",
       "    <tr>\n",
       "      <th>1</th>\n",
       "      <td>5</td>\n",
       "      <td>1</td>\n",
       "      <td>4.0</td>\n",
       "      <td>Toy Story (1995)</td>\n",
       "    </tr>\n",
       "    <tr>\n",
       "      <th>2</th>\n",
       "      <td>7</td>\n",
       "      <td>1</td>\n",
       "      <td>4.5</td>\n",
       "      <td>Toy Story (1995)</td>\n",
       "    </tr>\n",
       "    <tr>\n",
       "      <th>3</th>\n",
       "      <td>15</td>\n",
       "      <td>1</td>\n",
       "      <td>2.5</td>\n",
       "      <td>Toy Story (1995)</td>\n",
       "    </tr>\n",
       "    <tr>\n",
       "      <th>4</th>\n",
       "      <td>17</td>\n",
       "      <td>1</td>\n",
       "      <td>4.5</td>\n",
       "      <td>Toy Story (1995)</td>\n",
       "    </tr>\n",
       "  </tbody>\n",
       "</table>\n",
       "</div>"
      ],
      "text/plain": [
       "   userId  movieId  rating             title\n",
       "0       1        1     4.0  Toy Story (1995)\n",
       "1       5        1     4.0  Toy Story (1995)\n",
       "2       7        1     4.5  Toy Story (1995)\n",
       "3      15        1     2.5  Toy Story (1995)\n",
       "4      17        1     4.5  Toy Story (1995)"
      ]
     },
     "execution_count": 10,
     "metadata": {},
     "output_type": "execute_result"
    }
   ],
   "source": [
    "genres_split = movie_ratings_df['genres'].str.split('|').str[0]\n",
    "\n",
    "# concatenate the new columns with the movie_ratings_df\n",
    "movie_ratings_df = pd.concat([movie_ratings_df, genres_split], axis = 1)\n",
    "\n",
    "# lets drop the original column with the genres\n",
    "movie_ratings_df = movie_ratings_df.drop(columns = ['genres'])\n",
    "movie_ratings_df.head()"
   ]
  },
  {
   "cell_type": "code",
   "execution_count": 11,
   "metadata": {},
   "outputs": [],
   "source": [
    "# lets save a cleaned dataset to new csv file \n",
    "movie_ratings_df.to_csv('cleaned_movie_ratings.csv', index = False)"
   ]
  },
  {
   "cell_type": "code",
   "execution_count": 12,
   "metadata": {},
   "outputs": [
    {
     "data": {
      "text/html": [
       "<div>\n",
       "<style scoped>\n",
       "    .dataframe tbody tr th:only-of-type {\n",
       "        vertical-align: middle;\n",
       "    }\n",
       "\n",
       "    .dataframe tbody tr th {\n",
       "        vertical-align: top;\n",
       "    }\n",
       "\n",
       "    .dataframe thead th {\n",
       "        text-align: right;\n",
       "    }\n",
       "</style>\n",
       "<table border=\"1\" class=\"dataframe\">\n",
       "  <thead>\n",
       "    <tr style=\"text-align: right;\">\n",
       "      <th></th>\n",
       "      <th>userId</th>\n",
       "      <th>movieId</th>\n",
       "      <th>rating</th>\n",
       "      <th>title</th>\n",
       "    </tr>\n",
       "  </thead>\n",
       "  <tbody>\n",
       "    <tr>\n",
       "      <th>0</th>\n",
       "      <td>1</td>\n",
       "      <td>1</td>\n",
       "      <td>4.0</td>\n",
       "      <td>Toy Story (1995)</td>\n",
       "    </tr>\n",
       "    <tr>\n",
       "      <th>1</th>\n",
       "      <td>5</td>\n",
       "      <td>1</td>\n",
       "      <td>4.0</td>\n",
       "      <td>Toy Story (1995)</td>\n",
       "    </tr>\n",
       "    <tr>\n",
       "      <th>2</th>\n",
       "      <td>7</td>\n",
       "      <td>1</td>\n",
       "      <td>4.5</td>\n",
       "      <td>Toy Story (1995)</td>\n",
       "    </tr>\n",
       "    <tr>\n",
       "      <th>3</th>\n",
       "      <td>15</td>\n",
       "      <td>1</td>\n",
       "      <td>2.5</td>\n",
       "      <td>Toy Story (1995)</td>\n",
       "    </tr>\n",
       "    <tr>\n",
       "      <th>4</th>\n",
       "      <td>17</td>\n",
       "      <td>1</td>\n",
       "      <td>4.5</td>\n",
       "      <td>Toy Story (1995)</td>\n",
       "    </tr>\n",
       "  </tbody>\n",
       "</table>\n",
       "</div>"
      ],
      "text/plain": [
       "   userId  movieId  rating             title\n",
       "0       1        1     4.0  Toy Story (1995)\n",
       "1       5        1     4.0  Toy Story (1995)\n",
       "2       7        1     4.5  Toy Story (1995)\n",
       "3      15        1     2.5  Toy Story (1995)\n",
       "4      17        1     4.5  Toy Story (1995)"
      ]
     },
     "execution_count": 12,
     "metadata": {},
     "output_type": "execute_result"
    }
   ],
   "source": [
    "movie_analysis_df = pd.read_csv('cleaned_movie_ratings.csv')\n",
    "movie_analysis_df.head()"
   ]
  },
  {
   "cell_type": "code",
   "execution_count": 13,
   "metadata": {},
   "outputs": [
    {
     "name": "stdout",
     "output_type": "stream",
     "text": [
      "                                          title  rating\n",
      "3354                  Gena the Crocodile (1969)     5.0\n",
      "8951                        True Stories (1986)     5.0\n",
      "1986              Cosmic Scrat-tastrophe (2015)     5.0\n",
      "5269                    Love and Pigeons (1985)     5.0\n",
      "7033        Red Sorghum (Hong gao liang) (1987)     5.0\n",
      "8661  Thin Line Between Love and Hate, A (1996)     5.0\n",
      "5019                        Lesson Faust (1994)     5.0\n",
      "2799                                 Eva (2011)     5.0\n",
      "9435             Who Killed Chea Vichea? (2010)     5.0\n",
      "7662                         Siam Sunset (1999)     5.0\n"
     ]
    }
   ],
   "source": [
    "top_movies = movie_analysis_df.groupby('title')['rating'].mean().reset_index()\n",
    "top_movies = top_movies.sort_values(by='rating', ascending=False)\n",
    "print(top_movies.head(10))  # Top 10 highest-rated movies\n"
   ]
  },
  {
   "cell_type": "code",
   "execution_count": 14,
   "metadata": {},
   "outputs": [
    {
     "data": {
      "text/plain": [
       "title\n",
       "Forrest Gump (1994)                          329\n",
       "Shawshank Redemption, The (1994)             317\n",
       "Pulp Fiction (1994)                          307\n",
       "Silence of the Lambs, The (1991)             279\n",
       "Matrix, The (1999)                           278\n",
       "Star Wars: Episode IV - A New Hope (1977)    251\n",
       "Jurassic Park (1993)                         238\n",
       "Braveheart (1995)                            237\n",
       "Terminator 2: Judgment Day (1991)            224\n",
       "Schindler's List (1993)                      220\n",
       "Name: rating, dtype: int64"
      ]
     },
     "execution_count": 14,
     "metadata": {},
     "output_type": "execute_result"
    }
   ],
   "source": [
    "movie_analysis_df.groupby('title')['rating'].count().sort_values(ascending = False).head(10)"
   ]
  },
  {
   "cell_type": "code",
   "execution_count": 15,
   "metadata": {},
   "outputs": [
    {
     "data": {
      "text/html": [
       "<div>\n",
       "<style scoped>\n",
       "    .dataframe tbody tr th:only-of-type {\n",
       "        vertical-align: middle;\n",
       "    }\n",
       "\n",
       "    .dataframe tbody tr th {\n",
       "        vertical-align: top;\n",
       "    }\n",
       "\n",
       "    .dataframe thead th {\n",
       "        text-align: right;\n",
       "    }\n",
       "</style>\n",
       "<table border=\"1\" class=\"dataframe\">\n",
       "  <thead>\n",
       "    <tr style=\"text-align: right;\">\n",
       "      <th></th>\n",
       "      <th>rating</th>\n",
       "    </tr>\n",
       "    <tr>\n",
       "      <th>title</th>\n",
       "      <th></th>\n",
       "    </tr>\n",
       "  </thead>\n",
       "  <tbody>\n",
       "    <tr>\n",
       "      <th>'71 (2014)</th>\n",
       "      <td>4.000000</td>\n",
       "    </tr>\n",
       "    <tr>\n",
       "      <th>'Hellboy': The Seeds of Creation (2004)</th>\n",
       "      <td>4.000000</td>\n",
       "    </tr>\n",
       "    <tr>\n",
       "      <th>'Round Midnight (1986)</th>\n",
       "      <td>3.500000</td>\n",
       "    </tr>\n",
       "    <tr>\n",
       "      <th>'Salem's Lot (2004)</th>\n",
       "      <td>5.000000</td>\n",
       "    </tr>\n",
       "    <tr>\n",
       "      <th>'Til There Was You (1997)</th>\n",
       "      <td>4.000000</td>\n",
       "    </tr>\n",
       "    <tr>\n",
       "      <th>...</th>\n",
       "      <td>...</td>\n",
       "    </tr>\n",
       "    <tr>\n",
       "      <th>eXistenZ (1999)</th>\n",
       "      <td>3.863636</td>\n",
       "    </tr>\n",
       "    <tr>\n",
       "      <th>xXx (2002)</th>\n",
       "      <td>2.770833</td>\n",
       "    </tr>\n",
       "    <tr>\n",
       "      <th>xXx: State of the Union (2005)</th>\n",
       "      <td>2.000000</td>\n",
       "    </tr>\n",
       "    <tr>\n",
       "      <th>¡Three Amigos! (1986)</th>\n",
       "      <td>3.134615</td>\n",
       "    </tr>\n",
       "    <tr>\n",
       "      <th>À nous la liberté (Freedom for Us) (1931)</th>\n",
       "      <td>1.000000</td>\n",
       "    </tr>\n",
       "  </tbody>\n",
       "</table>\n",
       "<p>9719 rows × 1 columns</p>\n",
       "</div>"
      ],
      "text/plain": [
       "                                             rating\n",
       "title                                              \n",
       "'71 (2014)                                 4.000000\n",
       "'Hellboy': The Seeds of Creation (2004)    4.000000\n",
       "'Round Midnight (1986)                     3.500000\n",
       "'Salem's Lot (2004)                        5.000000\n",
       "'Til There Was You (1997)                  4.000000\n",
       "...                                             ...\n",
       "eXistenZ (1999)                            3.863636\n",
       "xXx (2002)                                 2.770833\n",
       "xXx: State of the Union (2005)             2.000000\n",
       "¡Three Amigos! (1986)                      3.134615\n",
       "À nous la liberté (Freedom for Us) (1931)  1.000000\n",
       "\n",
       "[9719 rows x 1 columns]"
      ]
     },
     "execution_count": 15,
     "metadata": {},
     "output_type": "execute_result"
    }
   ],
   "source": [
    "ratings = pd.DataFrame(movie_analysis_df.groupby('title')['rating'].mean())\n",
    "ratings"
   ]
  },
  {
   "cell_type": "code",
   "execution_count": 16,
   "metadata": {},
   "outputs": [
    {
     "name": "stdout",
     "output_type": "stream",
     "text": [
      "                                             rating  num_ratings\n",
      "title                                                           \n",
      "'71 (2014)                                 4.000000            1\n",
      "'Hellboy': The Seeds of Creation (2004)    4.000000            1\n",
      "'Round Midnight (1986)                     3.500000            2\n",
      "'Salem's Lot (2004)                        5.000000            1\n",
      "'Til There Was You (1997)                  4.000000            2\n",
      "...                                             ...          ...\n",
      "eXistenZ (1999)                            3.863636           22\n",
      "xXx (2002)                                 2.770833           24\n",
      "xXx: State of the Union (2005)             2.000000            5\n",
      "¡Three Amigos! (1986)                      3.134615           26\n",
      "À nous la liberté (Freedom for Us) (1931)  1.000000            1\n",
      "\n",
      "[9719 rows x 2 columns]\n"
     ]
    }
   ],
   "source": [
    "ratings['num_ratings'] = pd.DataFrame(movie_analysis_df.groupby('title')['rating'].count())\n",
    "print(ratings)"
   ]
  },
  {
   "cell_type": "code",
   "execution_count": 17,
   "metadata": {},
   "outputs": [
    {
     "data": {
      "text/plain": [
       "<Axes: >"
      ]
     },
     "execution_count": 17,
     "metadata": {},
     "output_type": "execute_result"
    },
    {
     "data": {
      "image/png": "[encoded data removed]",
      "text/plain": [
       "<Figure size 1000x400 with 1 Axes>"
      ]
     },
     "metadata": {
      "needs_background": "light"
     },
     "output_type": "display_data"
    }
   ],
   "source": [
    "plt.figure(figsize = (10, 4))\n",
    "ratings['rating'].hist(bins = 70)"
   ]
  },
  {
   "cell_type": "code",
   "execution_count": 18,
   "metadata": {},
   "outputs": [
    {
     "data": {
      "application/vnd.plotly.v1+json": {
       "config": {
        "plotlyServerURL": "https://plot.ly"
       },
       "data": [
        {
         "alignmentgroup": "True",
         "hovertemplate": "Movie Title=%{x}<br>rating=%{y}<extra></extra>",
         "legendgroup": "",
         "marker": {
          "color": "#636efa"
         },
         "name": "",
         "offsetgroup": "",
         "orientation": "v",
         "showlegend": false,
         "textposition": "auto",
         "type": "bar",
         "x": [
          "'71 (2014)",
          "'Hellboy': The Seeds of Creation (2004)",
          "'Round Midnight (1986)",
          "'Salem's Lot (2004)",
          "'Til There Was You (1997)",
          "'Tis the Season for Love (2015)",
          "'burbs, The (1989)",
          "'night Mother (1986)",
          "(500) Days of Summer (2009)",
          "*batteries not included (1987)",
          "...All the Marbles (1981)",
          "...And Justice for All (1979)",
          "00 Schneider - Jagd auf Nihil Baxter (1994)",
          "1-900 (06) (1994)",
          "10 (1979)",
          "10 Cent Pistol (2015)",
          "10 Cloverfield Lane (2016)",
          "10 Items or Less (2006)",
          "10 Things I Hate About You (1999)",
          "10 Years (2011)"
         ],
         "xaxis": "x",
         "y": [
          1,
          1,
          2,
          1,
          2,
          1,
          17,
          1,
          42,
          7,
          1,
          3,
          1,
          1,
          4,
          2,
          14,
          3,
          54,
          1
         ],
         "yaxis": "y"
        }
       ],
       "layout": {
        "barmode": "relative",
        "legend": {
         "tracegroupgap": 0
        },
        "template": {
         "data": {
          "bar": [
           {
            "error_x": {
             "color": "#2a3f5f"
            },
            "error_y": {
             "color": "#2a3f5f"
            },
            "marker": {
             "line": {
              "color": "#E5ECF6",
              "width": 0.5
             }
            },
            "type": "bar"
           }
          ],
          "barpolar": [
           {
            "marker": {
             "line": {
              "color": "#E5ECF6",
              "width": 0.5
             }
            },
            "type": "barpolar"
           }
          ],
          "carpet": [
           {
            "aaxis": {
             "endlinecolor": "#2a3f5f",
             "gridcolor": "white",
             "linecolor": "white",
             "minorgridcolor": "white",
             "startlinecolor": "#2a3f5f"
            },
            "baxis": {
             "endlinecolor": "#2a3f5f",
             "gridcolor": "white",
             "linecolor": "white",
             "minorgridcolor": "white",
             "startlinecolor": "#2a3f5f"
            },
            "type": "carpet"
           }
          ],
          "choropleth": [
           {
            "colorbar": {
             "outlinewidth": 0,
             "ticks": ""
            },
            "type": "choropleth"
           }
          ],
          "contour": [
           {
            "colorbar": {
             "outlinewidth": 0,
             "ticks": ""
            },
            "colorscale": [
             [
              0,
              "#0d0887"
             ],
             [
              0.1111111111111111,
              "#46039f"
             ],
             [
              0.2222222222222222,
              "#7201a8"
             ],
             [
              0.3333333333333333,
              "#9c179e"
             ],
             [
              0.4444444444444444,
              "#bd3786"
             ],
             [
              0.5555555555555556,
              "#d8576b"
             ],
             [
              0.6666666666666666,
              "#ed7953"
             ],
             [
              0.7777777777777778,
              "#fb9f3a"
             ],
             [
              0.8888888888888888,
              "#fdca26"
             ],
             [
              1,
              "#f0f921"
             ]
            ],
            "type": "contour"
           }
          ],
          "contourcarpet": [
           {
            "colorbar": {
             "outlinewidth": 0,
             "ticks": ""
            },
            "type": "contourcarpet"
           }
          ],
          "heatmap": [
           {
            "colorbar": {
             "outlinewidth": 0,
             "ticks": ""
            },
            "colorscale": [
             [
              0,
              "#0d0887"
             ],
             [
              0.1111111111111111,
              "#46039f"
             ],
             [
              0.2222222222222222,
              "#7201a8"
             ],
             [
              0.3333333333333333,
              "#9c179e"
             ],
             [
              0.4444444444444444,
              "#bd3786"
             ],
             [
              0.5555555555555556,
              "#d8576b"
             ],
             [
              0.6666666666666666,
              "#ed7953"
             ],
             [
              0.7777777777777778,
              "#fb9f3a"
             ],
             [
              0.8888888888888888,
              "#fdca26"
             ],
             [
              1,
              "#f0f921"
             ]
            ],
            "type": "heatmap"
           }
          ],
          "heatmapgl": [
           {
            "colorbar": {
             "outlinewidth": 0,
             "ticks": ""
            },
            "colorscale": [
             [
              0,
              "#0d0887"
             ],
             [
              0.1111111111111111,
              "#46039f"
             ],
             [
              0.2222222222222222,
              "#7201a8"
             ],
             [
              0.3333333333333333,
              "#9c179e"
             ],
             [
              0.4444444444444444,
              "#bd3786"
             ],
             [
              0.5555555555555556,
              "#d8576b"
             ],
             [
              0.6666666666666666,
              "#ed7953"
             ],
             [
              0.7777777777777778,
              "#fb9f3a"
             ],
             [
              0.8888888888888888,
              "#fdca26"
             ],
             [
              1,
              "#f0f921"
             ]
            ],
            "type": "heatmapgl"
           }
          ],
          "histogram": [
           {
            "marker": {
             "colorbar": {
              "outlinewidth": 0,
              "ticks": ""
             }
            },
            "type": "histogram"
           }
          ],
          "histogram2d": [
           {
            "colorbar": {
             "outlinewidth": 0,
             "ticks": ""
            },
            "colorscale": [
             [
              0,
              "#0d0887"
             ],
             [
              0.1111111111111111,
              "#46039f"
             ],
             [
              0.2222222222222222,
              "#7201a8"
             ],
             [
              0.3333333333333333,
              "#9c179e"
             ],
             [
              0.4444444444444444,
              "#bd3786"
             ],
             [
              0.5555555555555556,
              "#d8576b"
             ],
             [
              0.6666666666666666,
              "#ed7953"
             ],
             [
              0.7777777777777778,
              "#fb9f3a"
             ],
             [
              0.8888888888888888,
              "#fdca26"
             ],
             [
              1,
              "#f0f921"
             ]
            ],
            "type": "histogram2d"
           }
          ],
          "histogram2dcontour": [
           {
            "colorbar": {
             "outlinewidth": 0,
             "ticks": ""
            },
            "colorscale": [
             [
              0,
              "#0d0887"
             ],
             [
              0.1111111111111111,
              "#46039f"
             ],
             [
              0.2222222222222222,
              "#7201a8"
             ],
             [
              0.3333333333333333,
              "#9c179e"
             ],
             [
              0.4444444444444444,
              "#bd3786"
             ],
             [
              0.5555555555555556,
              "#d8576b"
             ],
             [
              0.6666666666666666,
              "#ed7953"
             ],
             [
              0.7777777777777778,
              "#fb9f3a"
             ],
             [
              0.8888888888888888,
              "#fdca26"
             ],
             [
              1,
              "#f0f921"
             ]
            ],
            "type": "histogram2dcontour"
           }
          ],
          "mesh3d": [
           {
            "colorbar": {
             "outlinewidth": 0,
             "ticks": ""
            },
            "type": "mesh3d"
           }
          ],
          "parcoords": [
           {
            "line": {
             "colorbar": {
              "outlinewidth": 0,
              "ticks": ""
             }
            },
            "type": "parcoords"
           }
          ],
          "pie": [
           {
            "automargin": true,
            "type": "pie"
           }
          ],
          "scatter": [
           {
            "marker": {
             "colorbar": {
              "outlinewidth": 0,
              "ticks": ""
             }
            },
            "type": "scatter"
           }
          ],
          "scatter3d": [
           {
            "line": {
             "colorbar": {
              "outlinewidth": 0,
              "ticks": ""
             }
            },
            "marker": {
             "colorbar": {
              "outlinewidth": 0,
              "ticks": ""
             }
            },
            "type": "scatter3d"
           }
          ],
          "scattercarpet": [
           {
            "marker": {
             "colorbar": {
              "outlinewidth": 0,
              "ticks": ""
             }
            },
            "type": "scattercarpet"
           }
          ],
          "scattergeo": [
           {
            "marker": {
             "colorbar": {
              "outlinewidth": 0,
              "ticks": ""
             }
            },
            "type": "scattergeo"
           }
          ],
          "scattergl": [
           {
            "marker": {
             "colorbar": {
              "outlinewidth": 0,
              "ticks": ""
             }
            },
            "type": "scattergl"
           }
          ],
          "scattermapbox": [
           {
            "marker": {
             "colorbar": {
              "outlinewidth": 0,
              "ticks": ""
             }
            },
            "type": "scattermapbox"
           }
          ],
          "scatterpolar": [
           {
            "marker": {
             "colorbar": {
              "outlinewidth": 0,
              "ticks": ""
             }
            },
            "type": "scatterpolar"
           }
          ],
          "scatterpolargl": [
           {
            "marker": {
             "colorbar": {
              "outlinewidth": 0,
              "ticks": ""
             }
            },
            "type": "scatterpolargl"
           }
          ],
          "scatterternary": [
           {
            "marker": {
             "colorbar": {
              "outlinewidth": 0,
              "ticks": ""
             }
            },
            "type": "scatterternary"
           }
          ],
          "surface": [
           {
            "colorbar": {
             "outlinewidth": 0,
             "ticks": ""
            },
            "colorscale": [
             [
              0,
              "#0d0887"
             ],
             [
              0.1111111111111111,
              "#46039f"
             ],
             [
              0.2222222222222222,
              "#7201a8"
             ],
             [
              0.3333333333333333,
              "#9c179e"
             ],
             [
              0.4444444444444444,
              "#bd3786"
             ],
             [
              0.5555555555555556,
              "#d8576b"
             ],
             [
              0.6666666666666666,
              "#ed7953"
             ],
             [
              0.7777777777777778,
              "#fb9f3a"
             ],
             [
              0.8888888888888888,
              "#fdca26"
             ],
             [
              1,
              "#f0f921"
             ]
            ],
            "type": "surface"
           }
          ],
          "table": [
           {
            "cells": {
             "fill": {
              "color": "#EBF0F8"
             },
             "line": {
              "color": "white"
             }
            },
            "header": {
             "fill": {
              "color": "#C8D4E3"
             },
             "line": {
              "color": "white"
             }
            },
            "type": "table"
           }
          ]
         },
         "layout": {
          "annotationdefaults": {
           "arrowcolor": "#2a3f5f",
           "arrowhead": 0,
           "arrowwidth": 1
          },
          "coloraxis": {
           "colorbar": {
            "outlinewidth": 0,
            "ticks": ""
           }
          },
          "colorscale": {
           "diverging": [
            [
             0,
             "#8e0152"
            ],
            [
             0.1,
             "#c51b7d"
            ],
            [
             0.2,
             "#de77ae"
            ],
            [
             0.3,
             "#f1b6da"
            ],
            [
             0.4,
             "#fde0ef"
            ],
            [
             0.5,
             "#f7f7f7"
            ],
            [
             0.6,
             "#e6f5d0"
            ],
            [
             0.7,
             "#b8e186"
            ],
            [
             0.8,
             "#7fbc41"
            ],
            [
             0.9,
             "#4d9221"
            ],
            [
             1,
             "#276419"
            ]
           ],
           "sequential": [
            [
             0,
             "#0d0887"
            ],
            [
             0.1111111111111111,
             "#46039f"
            ],
            [
             0.2222222222222222,
             "#7201a8"
            ],
            [
             0.3333333333333333,
             "#9c179e"
            ],
            [
             0.4444444444444444,
             "#bd3786"
            ],
            [
             0.5555555555555556,
             "#d8576b"
            ],
            [
             0.6666666666666666,
             "#ed7953"
            ],
            [
             0.7777777777777778,
             "#fb9f3a"
            ],
            [
             0.8888888888888888,
             "#fdca26"
            ],
            [
             1,
             "#f0f921"
            ]
           ],
           "sequentialminus": [
            [
             0,
             "#0d0887"
            ],
            [
             0.1111111111111111,
             "#46039f"
            ],
            [
             0.2222222222222222,
             "#7201a8"
            ],
            [
             0.3333333333333333,
             "#9c179e"
            ],
            [
             0.4444444444444444,
             "#bd3786"
            ],
            [
             0.5555555555555556,
             "#d8576b"
            ],
            [
             0.6666666666666666,
             "#ed7953"
            ],
            [
             0.7777777777777778,
             "#fb9f3a"
            ],
            [
             0.8888888888888888,
             "#fdca26"
            ],
            [
             1,
             "#f0f921"
            ]
           ]
          },
          "colorway": [
           "#636efa",
           "#EF553B",
           "#00cc96",
           "#ab63fa",
           "#FFA15A",
           "#19d3f3",
           "#FF6692",
           "#B6E880",
           "#FF97FF",
           "#FECB52"
          ],
          "font": {
           "color": "#2a3f5f"
          },
          "geo": {
           "bgcolor": "white",
           "lakecolor": "white",
           "landcolor": "#E5ECF6",
           "showlakes": true,
           "showland": true,
           "subunitcolor": "white"
          },
          "hoverlabel": {
           "align": "left"
          },
          "hovermode": "closest",
          "mapbox": {
           "style": "light"
          },
          "paper_bgcolor": "white",
          "plot_bgcolor": "#E5ECF6",
          "polar": {
           "angularaxis": {
            "gridcolor": "white",
            "linecolor": "white",
            "ticks": ""
           },
           "bgcolor": "#E5ECF6",
           "radialaxis": {
            "gridcolor": "white",
            "linecolor": "white",
            "ticks": ""
           }
          },
          "scene": {
           "xaxis": {
            "backgroundcolor": "#E5ECF6",
            "gridcolor": "white",
            "gridwidth": 2,
            "linecolor": "white",
            "showbackground": true,
            "ticks": "",
            "zerolinecolor": "white"
           },
           "yaxis": {
            "backgroundcolor": "#E5ECF6",
            "gridcolor": "white",
            "gridwidth": 2,
            "linecolor": "white",
            "showbackground": true,
            "ticks": "",
            "zerolinecolor": "white"
           },
           "zaxis": {
            "backgroundcolor": "#E5ECF6",
            "gridcolor": "white",
            "gridwidth": 2,
            "linecolor": "white",
            "showbackground": true,
            "ticks": "",
            "zerolinecolor": "white"
           }
          },
          "shapedefaults": {
           "line": {
            "color": "#2a3f5f"
           }
          },
          "ternary": {
           "aaxis": {
            "gridcolor": "white",
            "linecolor": "white",
            "ticks": ""
           },
           "baxis": {
            "gridcolor": "white",
            "linecolor": "white",
            "ticks": ""
           },
           "bgcolor": "#E5ECF6",
           "caxis": {
            "gridcolor": "white",
            "linecolor": "white",
            "ticks": ""
           }
          },
          "title": {
           "x": 0.05
          },
          "xaxis": {
           "automargin": true,
           "gridcolor": "white",
           "linecolor": "white",
           "ticks": "",
           "title": {
            "standoff": 15
           },
           "zerolinecolor": "white",
           "zerolinewidth": 2
          },
          "yaxis": {
           "automargin": true,
           "gridcolor": "white",
           "linecolor": "white",
           "ticks": "",
           "title": {
            "standoff": 15
           },
           "zerolinecolor": "white",
           "zerolinewidth": 2
          }
         }
        },
        "title": {
         "text": "Number of Ratings based on the Movie Title"
        },
        "xaxis": {
         "anchor": "y",
         "domain": [
          0,
          1
         ],
         "title": {
          "text": "Movie Title"
         }
        },
        "yaxis": {
         "anchor": "x",
         "domain": [
          0,
          1
         ],
         "title": {
          "text": "rating"
         }
        }
       }
      }
     },
     "metadata": {},
     "output_type": "display_data"
    }
   ],
   "source": [
    "ratings = pd.DataFrame(movie_analysis_df.groupby('title')['rating'].count()).reset_index().head(20)\n",
    "fig = px.bar(ratings, x = 'title', y = 'rating', title = 'Number of Ratings based on the Movie Title',\n",
    "             labels = {'ratings': 'Number of Ratings', 'title': 'Movie Title'})\n",
    "fig.show()"
   ]
  },
  {
   "cell_type": "code",
   "execution_count": 20,
   "metadata": {},
   "outputs": [],
   "source": [
    "# sns.jointplot(x = 'rating', y = 'num_ratings', data = ratings, alpha = .5)"
   ]
  },
  {
   "cell_type": "code",
   "execution_count": null,
   "metadata": {},
   "outputs": [],
   "source": [
    "# If you see a dense cluster in a particular area, it means that many movies fall within that range of ratings and review counts\n",
    "\n",
    "# If highly-rated movies also have a high number of ratings, it suggests that popular movies tend to be well-liked.\n",
    "\n",
    "# If there are highly-rated movies with very few ratings, these could be hidden gems—great movies that not many people have seen."
   ]
  },
  {
   "cell_type": "code",
   "execution_count": 60,
   "metadata": {},
   "outputs": [
    {
     "data": {
      "application/vnd.plotly.v1+json": {
       "config": {
        "plotlyServerURL": "https://plot.ly"
       },
       "data": [
        {
         "alignmentgroup": "True",
         "hovertemplate": "Average Rating=%{marker.color}<br>Movie Title=%{y}<extra></extra>",
         "legendgroup": "",
         "marker": {
          "color": [
           5,
           5,
           5,
           5,
           5,
           5,
           5,
           5,
           5,
           5
          ],
          "coloraxis": "coloraxis"
         },
         "name": "",
         "offsetgroup": "",
         "orientation": "h",
         "showlegend": false,
         "textposition": "auto",
         "type": "bar",
         "x": [
          5,
          5,
          5,
          5,
          5,
          5,
          5,
          5,
          5,
          5
         ],
         "xaxis": "x",
         "y": [
          "Gena the Crocodile (1969)",
          "True Stories (1986)",
          "Cosmic Scrat-tastrophe (2015)",
          "Love and Pigeons (1985)",
          "Red Sorghum (Hong gao liang) (1987)",
          "Thin Line Between Love and Hate, A (1996)",
          "Lesson Faust (1994)",
          "Eva (2011)",
          "Who Killed Chea Vichea? (2010)",
          "Siam Sunset (1999)"
         ],
         "yaxis": "y"
        }
       ],
       "layout": {
        "barmode": "relative",
        "coloraxis": {
         "colorbar": {
          "title": {
           "text": "Average Rating"
          }
         },
         "colorscale": [
          [
           0,
           "rgb(247,251,255)"
          ],
          [
           0.125,
           "rgb(222,235,247)"
          ],
          [
           0.25,
           "rgb(198,219,239)"
          ],
          [
           0.375,
           "rgb(158,202,225)"
          ],
          [
           0.5,
           "rgb(107,174,214)"
          ],
          [
           0.625,
           "rgb(66,146,198)"
          ],
          [
           0.75,
           "rgb(33,113,181)"
          ],
          [
           0.875,
           "rgb(8,81,156)"
          ],
          [
           1,
           "rgb(8,48,107)"
          ]
         ]
        },
        "legend": {
         "tracegroupgap": 0
        },
        "template": {
         "data": {
          "bar": [
           {
            "error_x": {
             "color": "#2a3f5f"
            },
            "error_y": {
             "color": "#2a3f5f"
            },
            "marker": {
             "line": {
              "color": "#E5ECF6",
              "width": 0.5
             }
            },
            "type": "bar"
           }
          ],
          "barpolar": [
           {
            "marker": {
             "line": {
              "color": "#E5ECF6",
              "width": 0.5
             }
            },
            "type": "barpolar"
           }
          ],
          "carpet": [
           {
            "aaxis": {
             "endlinecolor": "#2a3f5f",
             "gridcolor": "white",
             "linecolor": "white",
             "minorgridcolor": "white",
             "startlinecolor": "#2a3f5f"
            },
            "baxis": {
             "endlinecolor": "#2a3f5f",
             "gridcolor": "white",
             "linecolor": "white",
             "minorgridcolor": "white",
             "startlinecolor": "#2a3f5f"
            },
            "type": "carpet"
           }
          ],
          "choropleth": [
           {
            "colorbar": {
             "outlinewidth": 0,
             "ticks": ""
            },
            "type": "choropleth"
           }
          ],
          "contour": [
           {
            "colorbar": {
             "outlinewidth": 0,
             "ticks": ""
            },
            "colorscale": [
             [
              0,
              "#0d0887"
             ],
             [
              0.1111111111111111,
              "#46039f"
             ],
             [
              0.2222222222222222,
              "#7201a8"
             ],
             [
              0.3333333333333333,
              "#9c179e"
             ],
             [
              0.4444444444444444,
              "#bd3786"
             ],
             [
              0.5555555555555556,
              "#d8576b"
             ],
             [
              0.6666666666666666,
              "#ed7953"
             ],
             [
              0.7777777777777778,
              "#fb9f3a"
             ],
             [
              0.8888888888888888,
              "#fdca26"
             ],
             [
              1,
              "#f0f921"
             ]
            ],
            "type": "contour"
           }
          ],
          "contourcarpet": [
           {
            "colorbar": {
             "outlinewidth": 0,
             "ticks": ""
            },
            "type": "contourcarpet"
           }
          ],
          "heatmap": [
           {
            "colorbar": {
             "outlinewidth": 0,
             "ticks": ""
            },
            "colorscale": [
             [
              0,
              "#0d0887"
             ],
             [
              0.1111111111111111,
              "#46039f"
             ],
             [
              0.2222222222222222,
              "#7201a8"
             ],
             [
              0.3333333333333333,
              "#9c179e"
             ],
             [
              0.4444444444444444,
              "#bd3786"
             ],
             [
              0.5555555555555556,
              "#d8576b"
             ],
             [
              0.6666666666666666,
              "#ed7953"
             ],
             [
              0.7777777777777778,
              "#fb9f3a"
             ],
             [
              0.8888888888888888,
              "#fdca26"
             ],
             [
              1,
              "#f0f921"
             ]
            ],
            "type": "heatmap"
           }
          ],
          "heatmapgl": [
           {
            "colorbar": {
             "outlinewidth": 0,
             "ticks": ""
            },
            "colorscale": [
             [
              0,
              "#0d0887"
             ],
             [
              0.1111111111111111,
              "#46039f"
             ],
             [
              0.2222222222222222,
              "#7201a8"
             ],
             [
              0.3333333333333333,
              "#9c179e"
             ],
             [
              0.4444444444444444,
              "#bd3786"
             ],
             [
              0.5555555555555556,
              "#d8576b"
             ],
             [
              0.6666666666666666,
              "#ed7953"
             ],
             [
              0.7777777777777778,
              "#fb9f3a"
             ],
             [
              0.8888888888888888,
              "#fdca26"
             ],
             [
              1,
              "#f0f921"
             ]
            ],
            "type": "heatmapgl"
           }
          ],
          "histogram": [
           {
            "marker": {
             "colorbar": {
              "outlinewidth": 0,
              "ticks": ""
             }
            },
            "type": "histogram"
           }
          ],
          "histogram2d": [
           {
            "colorbar": {
             "outlinewidth": 0,
             "ticks": ""
            },
            "colorscale": [
             [
              0,
              "#0d0887"
             ],
             [
              0.1111111111111111,
              "#46039f"
             ],
             [
              0.2222222222222222,
              "#7201a8"
             ],
             [
              0.3333333333333333,
              "#9c179e"
             ],
             [
              0.4444444444444444,
              "#bd3786"
             ],
             [
              0.5555555555555556,
              "#d8576b"
             ],
             [
              0.6666666666666666,
              "#ed7953"
             ],
             [
              0.7777777777777778,
              "#fb9f3a"
             ],
             [
              0.8888888888888888,
              "#fdca26"
             ],
             [
              1,
              "#f0f921"
             ]
            ],
            "type": "histogram2d"
           }
          ],
          "histogram2dcontour": [
           {
            "colorbar": {
             "outlinewidth": 0,
             "ticks": ""
            },
            "colorscale": [
             [
              0,
              "#0d0887"
             ],
             [
              0.1111111111111111,
              "#46039f"
             ],
             [
              0.2222222222222222,
              "#7201a8"
             ],
             [
              0.3333333333333333,
              "#9c179e"
             ],
             [
              0.4444444444444444,
              "#bd3786"
             ],
             [
              0.5555555555555556,
              "#d8576b"
             ],
             [
              0.6666666666666666,
              "#ed7953"
             ],
             [
              0.7777777777777778,
              "#fb9f3a"
             ],
             [
              0.8888888888888888,
              "#fdca26"
             ],
             [
              1,
              "#f0f921"
             ]
            ],
            "type": "histogram2dcontour"
           }
          ],
          "mesh3d": [
           {
            "colorbar": {
             "outlinewidth": 0,
             "ticks": ""
            },
            "type": "mesh3d"
           }
          ],
          "parcoords": [
           {
            "line": {
             "colorbar": {
              "outlinewidth": 0,
              "ticks": ""
             }
            },
            "type": "parcoords"
           }
          ],
          "pie": [
           {
            "automargin": true,
            "type": "pie"
           }
          ],
          "scatter": [
           {
            "marker": {
             "colorbar": {
              "outlinewidth": 0,
              "ticks": ""
             }
            },
            "type": "scatter"
           }
          ],
          "scatter3d": [
           {
            "line": {
             "colorbar": {
              "outlinewidth": 0,
              "ticks": ""
             }
            },
            "marker": {
             "colorbar": {
              "outlinewidth": 0,
              "ticks": ""
             }
            },
            "type": "scatter3d"
           }
          ],
          "scattercarpet": [
           {
            "marker": {
             "colorbar": {
              "outlinewidth": 0,
              "ticks": ""
             }
            },
            "type": "scattercarpet"
           }
          ],
          "scattergeo": [
           {
            "marker": {
             "colorbar": {
              "outlinewidth": 0,
              "ticks": ""
             }
            },
            "type": "scattergeo"
           }
          ],
          "scattergl": [
           {
            "marker": {
             "colorbar": {
              "outlinewidth": 0,
              "ticks": ""
             }
            },
            "type": "scattergl"
           }
          ],
          "scattermapbox": [
           {
            "marker": {
             "colorbar": {
              "outlinewidth": 0,
              "ticks": ""
             }
            },
            "type": "scattermapbox"
           }
          ],
          "scatterpolar": [
           {
            "marker": {
             "colorbar": {
              "outlinewidth": 0,
              "ticks": ""
             }
            },
            "type": "scatterpolar"
           }
          ],
          "scatterpolargl": [
           {
            "marker": {
             "colorbar": {
              "outlinewidth": 0,
              "ticks": ""
             }
            },
            "type": "scatterpolargl"
           }
          ],
          "scatterternary": [
           {
            "marker": {
             "colorbar": {
              "outlinewidth": 0,
              "ticks": ""
             }
            },
            "type": "scatterternary"
           }
          ],
          "surface": [
           {
            "colorbar": {
             "outlinewidth": 0,
             "ticks": ""
            },
            "colorscale": [
             [
              0,
              "#0d0887"
             ],
             [
              0.1111111111111111,
              "#46039f"
             ],
             [
              0.2222222222222222,
              "#7201a8"
             ],
             [
              0.3333333333333333,
              "#9c179e"
             ],
             [
              0.4444444444444444,
              "#bd3786"
             ],
             [
              0.5555555555555556,
              "#d8576b"
             ],
             [
              0.6666666666666666,
              "#ed7953"
             ],
             [
              0.7777777777777778,
              "#fb9f3a"
             ],
             [
              0.8888888888888888,
              "#fdca26"
             ],
             [
              1,
              "#f0f921"
             ]
            ],
            "type": "surface"
           }
          ],
          "table": [
           {
            "cells": {
             "fill": {
              "color": "#EBF0F8"
             },
             "line": {
              "color": "white"
             }
            },
            "header": {
             "fill": {
              "color": "#C8D4E3"
             },
             "line": {
              "color": "white"
             }
            },
            "type": "table"
           }
          ]
         },
         "layout": {
          "annotationdefaults": {
           "arrowcolor": "#2a3f5f",
           "arrowhead": 0,
           "arrowwidth": 1
          },
          "coloraxis": {
           "colorbar": {
            "outlinewidth": 0,
            "ticks": ""
           }
          },
          "colorscale": {
           "diverging": [
            [
             0,
             "#8e0152"
            ],
            [
             0.1,
             "#c51b7d"
            ],
            [
             0.2,
             "#de77ae"
            ],
            [
             0.3,
             "#f1b6da"
            ],
            [
             0.4,
             "#fde0ef"
            ],
            [
             0.5,
             "#f7f7f7"
            ],
            [
             0.6,
             "#e6f5d0"
            ],
            [
             0.7,
             "#b8e186"
            ],
            [
             0.8,
             "#7fbc41"
            ],
            [
             0.9,
             "#4d9221"
            ],
            [
             1,
             "#276419"
            ]
           ],
           "sequential": [
            [
             0,
             "#0d0887"
            ],
            [
             0.1111111111111111,
             "#46039f"
            ],
            [
             0.2222222222222222,
             "#7201a8"
            ],
            [
             0.3333333333333333,
             "#9c179e"
            ],
            [
             0.4444444444444444,
             "#bd3786"
            ],
            [
             0.5555555555555556,
             "#d8576b"
            ],
            [
             0.6666666666666666,
             "#ed7953"
            ],
            [
             0.7777777777777778,
             "#fb9f3a"
            ],
            [
             0.8888888888888888,
             "#fdca26"
            ],
            [
             1,
             "#f0f921"
            ]
           ],
           "sequentialminus": [
            [
             0,
             "#0d0887"
            ],
            [
             0.1111111111111111,
             "#46039f"
            ],
            [
             0.2222222222222222,
             "#7201a8"
            ],
            [
             0.3333333333333333,
             "#9c179e"
            ],
            [
             0.4444444444444444,
             "#bd3786"
            ],
            [
             0.5555555555555556,
             "#d8576b"
            ],
            [
             0.6666666666666666,
             "#ed7953"
            ],
            [
             0.7777777777777778,
             "#fb9f3a"
            ],
            [
             0.8888888888888888,
             "#fdca26"
            ],
            [
             1,
             "#f0f921"
            ]
           ]
          },
          "colorway": [
           "#636efa",
           "#EF553B",
           "#00cc96",
           "#ab63fa",
           "#FFA15A",
           "#19d3f3",
           "#FF6692",
           "#B6E880",
           "#FF97FF",
           "#FECB52"
          ],
          "font": {
           "color": "#2a3f5f"
          },
          "geo": {
           "bgcolor": "white",
           "lakecolor": "white",
           "landcolor": "#E5ECF6",
           "showlakes": true,
           "showland": true,
           "subunitcolor": "white"
          },
          "hoverlabel": {
           "align": "left"
          },
          "hovermode": "closest",
          "mapbox": {
           "style": "light"
          },
          "paper_bgcolor": "white",
          "plot_bgcolor": "#E5ECF6",
          "polar": {
           "angularaxis": {
            "gridcolor": "white",
            "linecolor": "white",
            "ticks": ""
           },
           "bgcolor": "#E5ECF6",
           "radialaxis": {
            "gridcolor": "white",
            "linecolor": "white",
            "ticks": ""
           }
          },
          "scene": {
           "xaxis": {
            "backgroundcolor": "#E5ECF6",
            "gridcolor": "white",
            "gridwidth": 2,
            "linecolor": "white",
            "showbackground": true,
            "ticks": "",
            "zerolinecolor": "white"
           },
           "yaxis": {
            "backgroundcolor": "#E5ECF6",
            "gridcolor": "white",
            "gridwidth": 2,
            "linecolor": "white",
            "showbackground": true,
            "ticks": "",
            "zerolinecolor": "white"
           },
           "zaxis": {
            "backgroundcolor": "#E5ECF6",
            "gridcolor": "white",
            "gridwidth": 2,
            "linecolor": "white",
            "showbackground": true,
            "ticks": "",
            "zerolinecolor": "white"
           }
          },
          "shapedefaults": {
           "line": {
            "color": "#2a3f5f"
           }
          },
          "ternary": {
           "aaxis": {
            "gridcolor": "white",
            "linecolor": "white",
            "ticks": ""
           },
           "baxis": {
            "gridcolor": "white",
            "linecolor": "white",
            "ticks": ""
           },
           "bgcolor": "#E5ECF6",
           "caxis": {
            "gridcolor": "white",
            "linecolor": "white",
            "ticks": ""
           }
          },
          "title": {
           "x": 0.05
          },
          "xaxis": {
           "automargin": true,
           "gridcolor": "white",
           "linecolor": "white",
           "ticks": "",
           "title": {
            "standoff": 15
           },
           "zerolinecolor": "white",
           "zerolinewidth": 2
          },
          "yaxis": {
           "automargin": true,
           "gridcolor": "white",
           "linecolor": "white",
           "ticks": "",
           "title": {
            "standoff": 15
           },
           "zerolinecolor": "white",
           "zerolinewidth": 2
          }
         }
        },
        "title": {
         "text": "Top 10 Highest-Rated Movies"
        },
        "xaxis": {
         "anchor": "y",
         "domain": [
          0,
          1
         ],
         "title": {
          "text": "Average Rating"
         }
        },
        "yaxis": {
         "anchor": "x",
         "categoryorder": "total ascending",
         "domain": [
          0,
          1
         ],
         "title": {
          "text": "Movie Title"
         }
        }
       }
      }
     },
     "metadata": {},
     "output_type": "display_data"
    }
   ],
   "source": [
    "# Select Top 10 Movies\n",
    "top_10_movies = top_movies.head(10)\n",
    "\n",
    "# Create Bar Chart\n",
    "fig = px.bar(\n",
    "    top_10_movies, \n",
    "    x='rating', \n",
    "    y='title', \n",
    "    orientation='h',  # Horizontal bars for better readability\n",
    "    title=\"Top 10 Highest-Rated Movies\",\n",
    "    labels={'rating': 'Average Rating', 'title': 'Movie Title'},\n",
    "    color='rating',  # Color based on rating\n",
    "    color_continuous_scale='blues'  # Color theme\n",
    ")\n",
    "\n",
    "# Reverse the Y-axis to display highest-rated movies at the top\n",
    "fig.update_layout(yaxis={'categoryorder': 'total ascending'})\n",
    "\n",
    "# Show the interactive plot\n",
    "fig.show()\n"
   ]
  },
  {
   "cell_type": "code",
   "execution_count": 68,
   "metadata": {},
   "outputs": [
    {
     "data": {
      "text/plain": [
       "rating\n",
       "4.0    26818\n",
       "3.0    20047\n",
       "5.0    13211\n",
       "3.5    13136\n",
       "4.5     8551\n",
       "2.0     7551\n",
       "2.5     5550\n",
       "1.0     2811\n",
       "1.5     1791\n",
       "0.5     1370\n",
       "Name: count, dtype: int64"
      ]
     },
     "execution_count": 68,
     "metadata": {},
     "output_type": "execute_result"
    }
   ],
   "source": [
    "movie_analysis_df['rating'].value_counts()"
   ]
  },
  {
   "cell_type": "code",
   "execution_count": 21,
   "metadata": {},
   "outputs": [
    {
     "data": {
      "text/plain": [
       "<surprise.dataset.DatasetAutoFolds at 0x1e0146508e0>"
      ]
     },
     "execution_count": 21,
     "metadata": {},
     "output_type": "execute_result"
    }
   ],
   "source": [
    "# Define the rating scale (e.g., 0.5 to 5.0)\n",
    "reader = Reader(rating_scale=(0.5, 5.0))\n",
    "\n",
    "# Convert the DataFrame to a Surprise dataset\n",
    "data = Dataset.load_from_df(movie_analysis_df[[\"userId\", \"movieId\", \"rating\"]], reader)\n",
    "data"
   ]
  },
  {
   "cell_type": "code",
   "execution_count": 22,
   "metadata": {},
   "outputs": [
    {
     "name": "stdout",
     "output_type": "stream",
     "text": [
      "Number of Users:  610 \n",
      "\n",
      "Number of items:  9724\n"
     ]
    }
   ],
   "source": [
    "dataset = data.build_full_trainset()\n",
    "print('Number of Users: ', dataset.n_users, '\\n')\n",
    "\n",
    "print('Number of items: ', dataset.n_items)\n",
    "\n",
    "\n",
    "# By considering the neighborhood-based methods use the majority.. the higher number of users or items\n",
    "# hence use the item Based Recommender system"
   ]
  },
  {
   "cell_type": "code",
   "execution_count": 23,
   "metadata": {},
   "outputs": [],
   "source": [
    "# Split the dataset\n",
    "train_set, test_set = train_test_split(data, test_size=0.2, random_state=42)"
   ]
  },
  {
   "cell_type": "markdown",
   "metadata": {},
   "source": [
    "## Building the Item-Based Collaborative Filtering Model\n",
    "\n",
    "In this step, we will build the recommendation model using **item-based collaborative filtering**. This approach recommends items (movies) based on the similarities between them."
   ]
  },
  {
   "cell_type": "code",
   "execution_count": 24,
   "metadata": {},
   "outputs": [],
   "source": [
    "# perform the grid search with SVD..\n",
    "grid_params = {'n_factors': [20, 50, 100],\n",
    "               'reg_all': [0.02, 0.05, 0.1]}\n",
    "\n",
    "g_s_svd = GridSearchCV(SVD, param_grid = grid_params, n_jobs = -1)\n",
    "\n",
    "# fit the model \n",
    "g_s_svd.fit(data)"
   ]
  },
  {
   "cell_type": "code",
   "execution_count": 25,
   "metadata": {},
   "outputs": [
    {
     "name": "stdout",
     "output_type": "stream",
     "text": [
      "{'rmse': {'n_factors': 50, 'reg_all': 0.05}, 'mae': {'n_factors': 20, 'reg_all': 0.02}}\n"
     ]
    }
   ],
   "source": [
    "# print out optimal parameters for SVD after GridSearch\n",
    "print(g_s_svd.best_params)\n",
    "# print(g_s_svd.best_score)\n",
    "\n",
    "# 'n_factors': 20: The number of latent factors in the factorization model. Latent factors are features extracted from \n",
    "# the data that represent underlying patterns.\n",
    "# 'reg_all': 0.02: The regularization term to prevent overfitting by penalizing large coefficients.\n",
    "\n",
    "# The RMSE value for the model indicates that the std of the residuals (predictions errors) for a lower value indicates a better fot"
   ]
  },
  {
   "cell_type": "markdown",
   "metadata": {},
   "source": [
    "# Making a Simple predictions using the SVD algorithms"
   ]
  },
  {
   "cell_type": "code",
   "execution_count": 26,
   "metadata": {},
   "outputs": [
    {
     "data": {
      "text/plain": [
       "<surprise.prediction_algorithms.matrix_factorization.SVD at 0x1e0140a4f40>"
      ]
     },
     "execution_count": 26,
     "metadata": {},
     "output_type": "execute_result"
    }
   ],
   "source": [
    "svd = SVD(n_factors = 20, reg_all = 0.02)\n",
    "svd.fit(dataset)"
   ]
  },
  {
   "cell_type": "code",
   "execution_count": 27,
   "metadata": {},
   "outputs": [
    {
     "data": {
      "text/plain": [
       "Prediction(uid=2, iid=4, r_ui=None, est=2.979493572509826, details={'was_impossible': False})"
      ]
     },
     "execution_count": 27,
     "metadata": {},
     "output_type": "execute_result"
    }
   ],
   "source": [
    "svd_pred_1 = svd.predict(2, 4)\n",
    "svd_pred_1\n",
    "\n",
    "# The predict method is used to predict the rating that a user 2 would give to an item 4\n",
    "# 2 represents the user ID.\n",
    "# 4 represents the item ID.\n"
   ]
  },
  {
   "cell_type": "code",
   "execution_count": 28,
   "metadata": {},
   "outputs": [
    {
     "data": {
      "text/plain": [
       "2.979493572509826"
      ]
     },
     "execution_count": 28,
     "metadata": {},
     "output_type": "execute_result"
    }
   ],
   "source": [
    "svd_pred_1[3]"
   ]
  },
  {
   "cell_type": "code",
   "execution_count": 29,
   "metadata": {},
   "outputs": [
    {
     "name": "stdout",
     "output_type": "stream",
     "text": [
      "Computing the pearson similarity matrix...\n",
      "Done computing similarity matrix.\n",
      "Computing the pearson similarity matrix...\n",
      "Done computing similarity matrix.\n",
      "Computing the pearson similarity matrix...\n",
      "Done computing similarity matrix.\n",
      "Computing the pearson similarity matrix...\n",
      "Done computing similarity matrix.\n",
      "Computing the pearson similarity matrix...\n",
      "Done computing similarity matrix.\n"
     ]
    }
   ],
   "source": [
    "knn_basic = KNNBasic(sim_options = {'name': 'pearson', 'user_based': False})\n",
    "cv_knn_basic = cross_validate(knn_basic, data, n_jobs = 1)\n",
    "\n",
    "# for user_based: True indicates that the similarity would be computed between users\n",
    "\n",
    "# for user_based: False indicates that the similarity would be computed between items"
   ]
  },
  {
   "cell_type": "code",
   "execution_count": 30,
   "metadata": {},
   "outputs": [
    {
     "name": "stdout",
     "output_type": "stream",
     "text": [
      "('test_rmse', array([0.97261739, 0.96769262, 0.96834509, 0.97186274, 0.96943162]))\n",
      "('test_mae', array([0.75222023, 0.75376728, 0.7544442 , 0.75458931, 0.75344352]))\n",
      "('fit_time', (40.518290758132935, 42.84374642372131, 39.393699169158936, 36.73753762245178, 37.94434094429016))\n",
      "('test_time', (13.30243992805481, 19.07964324951172, 17.811278343200684, 13.165804624557495, 12.833606243133545))\n",
      "-----\n",
      "0.9699898898628223\n"
     ]
    }
   ],
   "source": [
    "# here we print out the average RMSE for the test set\n",
    "for i in cv_knn_basic.items():\n",
    "    print(i)\n",
    "    \n",
    "print(\"-----\")\n",
    "print(np.mean(cv_knn_basic['test_rmse']))\n",
    "\n",
    "# ('test_rmse', array([0.9663111 , 0.97294905, 0.96383918, 0.97586395, 0.97072858]))\n",
    "# these are the RMSE values obtained from each fold of the cross-validation. Lower values indicate better performance.\n",
    "\n",
    "# 0.9699383727407497 this is the aggregated score the mean rmse across all the folds which provides a single value summarizing the performance of \n",
    "# the model"
   ]
  },
  {
   "cell_type": "code",
   "execution_count": 34,
   "metadata": {},
   "outputs": [
    {
     "data": {
      "text/plain": [
       "0.9699898898628223"
      ]
     },
     "execution_count": 34,
     "metadata": {},
     "output_type": "execute_result"
    }
   ],
   "source": [
    "mean_rmse_basic = np.mean(cv_knn_basic['test_rmse'])\n",
    "mean_rmse_basic"
   ]
  },
  {
   "cell_type": "code",
   "execution_count": 31,
   "metadata": {},
   "outputs": [
    {
     "name": "stdout",
     "output_type": "stream",
     "text": [
      "Estimating biases using als...\n",
      "Computing the pearson similarity matrix...\n",
      "Done computing similarity matrix.\n",
      "Estimating biases using als...\n",
      "Computing the pearson similarity matrix...\n",
      "Done computing similarity matrix.\n",
      "Estimating biases using als...\n",
      "Computing the pearson similarity matrix...\n",
      "Done computing similarity matrix.\n",
      "Estimating biases using als...\n",
      "Computing the pearson similarity matrix...\n",
      "Done computing similarity matrix.\n",
      "Estimating biases using als...\n",
      "Computing the pearson similarity matrix...\n",
      "Done computing similarity matrix.\n"
     ]
    }
   ],
   "source": [
    "# cross validating with KNNBaseline\n",
    "knn_base = KNNBaseline(sim_options = {'name':'pearson', 'user_based': False})\n",
    "\n",
    "cv_knn_base = cross_validate(knn_base, data, n_jobs = 1)"
   ]
  },
  {
   "cell_type": "code",
   "execution_count": 32,
   "metadata": {},
   "outputs": [
    {
     "data": {
      "text/plain": [
       "0.8789360739282855"
      ]
     },
     "execution_count": 32,
     "metadata": {},
     "output_type": "execute_result"
    }
   ],
   "source": [
    "# print out the average score for the test set\n",
    "mean_rmse_base = np.mean(cv_knn_base['test_rmse'])\n",
    "mean_rmse_base"
   ]
  },
  {
   "cell_type": "code",
   "execution_count": 35,
   "metadata": {},
   "outputs": [
    {
     "name": "stdout",
     "output_type": "stream",
     "text": [
      "cv_knn_base has better performance.\n"
     ]
    }
   ],
   "source": [
    "# Compare the two and determine which has better performance\n",
    "if mean_rmse_base < mean_rmse_basic:\n",
    "    print(\"cv_knn_base has better performance.\")\n",
    "else:\n",
    "    print(\"cv_knn_basic has better performance.\")"
   ]
  },
  {
   "cell_type": "code",
   "execution_count": 36,
   "metadata": {},
   "outputs": [
    {
     "data": {
      "text/plain": [
       "title\n",
       "Forrest Gump (1994)                          329\n",
       "Shawshank Redemption, The (1994)             317\n",
       "Pulp Fiction (1994)                          307\n",
       "Silence of the Lambs, The (1991)             279\n",
       "Matrix, The (1999)                           278\n",
       "Star Wars: Episode IV - A New Hope (1977)    251\n",
       "Jurassic Park (1993)                         238\n",
       "Braveheart (1995)                            237\n",
       "Terminator 2: Judgment Day (1991)            224\n",
       "Schindler's List (1993)                      220\n",
       "Name: rating, dtype: int64"
      ]
     },
     "execution_count": 36,
     "metadata": {},
     "output_type": "execute_result"
    }
   ],
   "source": [
    "movie_analysis_df.groupby('title')['rating'].count().sort_values(ascending = False).head(10)"
   ]
  },
  {
   "cell_type": "code",
   "execution_count": 38,
   "metadata": {},
   "outputs": [
    {
     "data": {
      "text/html": [
       "<div>\n",
       "<style scoped>\n",
       "    .dataframe tbody tr th:only-of-type {\n",
       "        vertical-align: middle;\n",
       "    }\n",
       "\n",
       "    .dataframe tbody tr th {\n",
       "        vertical-align: top;\n",
       "    }\n",
       "\n",
       "    .dataframe thead th {\n",
       "        text-align: right;\n",
       "    }\n",
       "</style>\n",
       "<table border=\"1\" class=\"dataframe\">\n",
       "  <thead>\n",
       "    <tr style=\"text-align: right;\">\n",
       "      <th></th>\n",
       "      <th>userId</th>\n",
       "      <th>movieId</th>\n",
       "      <th>rating</th>\n",
       "      <th>title</th>\n",
       "    </tr>\n",
       "  </thead>\n",
       "  <tbody>\n",
       "    <tr>\n",
       "      <th>0</th>\n",
       "      <td>1</td>\n",
       "      <td>1</td>\n",
       "      <td>4.0</td>\n",
       "      <td>Toy Story (1995)</td>\n",
       "    </tr>\n",
       "    <tr>\n",
       "      <th>1</th>\n",
       "      <td>5</td>\n",
       "      <td>1</td>\n",
       "      <td>4.0</td>\n",
       "      <td>Toy Story (1995)</td>\n",
       "    </tr>\n",
       "    <tr>\n",
       "      <th>2</th>\n",
       "      <td>7</td>\n",
       "      <td>1</td>\n",
       "      <td>4.5</td>\n",
       "      <td>Toy Story (1995)</td>\n",
       "    </tr>\n",
       "    <tr>\n",
       "      <th>3</th>\n",
       "      <td>15</td>\n",
       "      <td>1</td>\n",
       "      <td>2.5</td>\n",
       "      <td>Toy Story (1995)</td>\n",
       "    </tr>\n",
       "    <tr>\n",
       "      <th>4</th>\n",
       "      <td>17</td>\n",
       "      <td>1</td>\n",
       "      <td>4.5</td>\n",
       "      <td>Toy Story (1995)</td>\n",
       "    </tr>\n",
       "  </tbody>\n",
       "</table>\n",
       "</div>"
      ],
      "text/plain": [
       "   userId  movieId  rating             title\n",
       "0       1        1     4.0  Toy Story (1995)\n",
       "1       5        1     4.0  Toy Story (1995)\n",
       "2       7        1     4.5  Toy Story (1995)\n",
       "3      15        1     2.5  Toy Story (1995)\n",
       "4      17        1     4.5  Toy Story (1995)"
      ]
     },
     "execution_count": 38,
     "metadata": {},
     "output_type": "execute_result"
    }
   ],
   "source": [
    "movie_analysis_df.head()"
   ]
  },
  {
   "cell_type": "code",
   "execution_count": 41,
   "metadata": {},
   "outputs": [
    {
     "data": {
      "text/plain": [
       "title\n",
       "Forrest Gump (1994)                 329\n",
       "Shawshank Redemption, The (1994)    317\n",
       "Pulp Fiction (1994)                 307\n",
       "Silence of the Lambs, The (1991)    279\n",
       "Matrix, The (1999)                  278\n",
       "                                   ... \n",
       "Sex, Drugs & Taxation (2013)          1\n",
       "Extraordinary Tales (2015)            1\n",
       "Tomorrow (2015)                       1\n",
       "Embrace of the Serpent (2016)         1\n",
       "31 (2016)                             1\n",
       "Name: count, Length: 9719, dtype: int64"
      ]
     },
     "execution_count": 41,
     "metadata": {},
     "output_type": "execute_result"
    }
   ],
   "source": [
    "movie_analysis_df['title'].value_counts()"
   ]
  },
  {
   "cell_type": "code",
   "execution_count": 42,
   "metadata": {},
   "outputs": [
    {
     "name": "stdout",
     "output_type": "stream",
     "text": [
      "The movie ID for the title 'Matrix, The (1999)' is 2571\n"
     ]
    }
   ],
   "source": [
    "def find_movie_id_by_title(movie_analysis_df, title):\n",
    "    # Check if the title exists in the DataFrame\n",
    "    if title in movie_analysis_df['title'].values:\n",
    "        # Extract the movie ID\n",
    "        movie_id = movie_analysis_df[movie_analysis_df['title'] == title]['movieId'].values[0]\n",
    "        return movie_id\n",
    "    else:\n",
    "        return None\n",
    "\n",
    "# Example usage\n",
    "title = \"Matrix, The (1999)\"  # Replace with the actual movie title you are searching for\n",
    "movie_id = find_movie_id_by_title(movie_analysis_df, title)\n",
    "print(f\"The movie ID for the title '{title}' is {movie_id}\")"
   ]
  },
  {
   "cell_type": "markdown",
   "metadata": {},
   "source": [
    "## DRAFT "
   ]
  },
  {
   "cell_type": "code",
   "execution_count": 61,
   "metadata": {},
   "outputs": [],
   "source": [
    "from surprise import Dataset, Reader, KNNBasic\n",
    "import pandas as pd\n",
    "\n",
    "def get_similar_movies(movie_title, model, trainset, movies_df, top_n=5):\n",
    "    \"\"\"\n",
    "    Find top N most similar movies to a given title based on collaborative filtering.\n",
    "\n",
    "    Parameters:\n",
    "        movie_title (str): The title of the movie to find similar movies for.\n",
    "        model (KNNBasic): A trained KNN collaborative filtering model.\n",
    "        trainset (surprise.Trainset): The dataset in Surprise's trainset format.\n",
    "        movies_df (pd.DataFrame): DataFrame containing 'movieId' and 'title' columns.\n",
    "        top_n (int): Number of similar movies to return.\n",
    "\n",
    "    Returns:\n",
    "        list: Titles of the top N most similar movies.\n",
    "    \"\"\"\n",
    "    \n",
    "    # Find the movie ID for the given title (handling case insensitivity)\n",
    "    movie_id = movies_df[movies_df['title'].str.contains(movie_title, case=False, na=False, regex = False)]['movieId'].values\n",
    "\n",
    "    if len(movie_id) == 0:\n",
    "        return f\"Movie '{movie_title}' not found in dataset.\"\n",
    "\n",
    "    # Convert movieId to Surprise’s internal ID\n",
    "    try:\n",
    "        movie_inner_id = trainset.to_inner_iid(movie_id[0])\n",
    "    except KeyError:\n",
    "        return f\"Movie '{movie_title}' not found in training set.\"\n",
    "\n",
    "    # Get top-N most similar movies using the trained KNN model\n",
    "    neighbors = model.get_neighbors(movie_inner_id, k=top_n)\n",
    "\n",
    "    # Convert internal IDs back to movie IDs and retrieve titles\n",
    "    similar_titles = [\n",
    "        movies_df[movies_df['movieId'] == int(trainset.to_raw_iid(neighbor))]['title'].values[0]\n",
    "        for neighbor in neighbors\n",
    "    ]\n",
    "\n",
    "    return similar_titles\n"
   ]
  },
  {
   "cell_type": "code",
   "execution_count": 62,
   "metadata": {},
   "outputs": [],
   "source": [
    "# Define a Surprise Reader\n",
    "reader = Reader(rating_scale=(0.5, 5.0))\n",
    "\n",
    "# Load dataset into Surprise format\n",
    "data = Dataset.load_from_df(movie_analysis_df[['userId', 'movieId', 'rating']], reader)\n",
    "\n",
    "# Build the full training set\n",
    "trainset = data.build_full_trainset()\n"
   ]
  },
  {
   "cell_type": "code",
   "execution_count": 65,
   "metadata": {},
   "outputs": [
    {
     "name": "stdout",
     "output_type": "stream",
     "text": [
      "Computing the pearson similarity matrix...\n",
      "Done computing similarity matrix.\n"
     ]
    },
    {
     "data": {
      "text/plain": [
       "<surprise.prediction_algorithms.knns.KNNBasic at 0x1e019a65c70>"
      ]
     },
     "execution_count": 65,
     "metadata": {},
     "output_type": "execute_result"
    }
   ],
   "source": [
    "# Define similarity options for KNN\n",
    "sim_options = {\n",
    "    \"name\": \"pearson\",  # Use cosine similarity\n",
    "    \"user_based\": False  # Item-based collaborative filtering\n",
    "}\n",
    "\n",
    "# Train a KNN model\n",
    "knn_model = KNNBasic(sim_options=sim_options)\n",
    "knn_model.fit(trainset)\n"
   ]
  },
  {
   "cell_type": "code",
   "execution_count": 67,
   "metadata": {},
   "outputs": [
    {
     "data": {
      "text/plain": [
       "0       Toy Story (1995)\n",
       "1       Toy Story (1995)\n",
       "2       Toy Story (1995)\n",
       "3       Toy Story (1995)\n",
       "4       Toy Story (1995)\n",
       "5    Forrest Gump (1994)\n",
       "6    Forrest Gump (1994)\n",
       "7    Forrest Gump (1994)\n",
       "8    Forrest Gump (1994)\n",
       "9    Forrest Gump (1994)\n",
       "Name: title, dtype: object"
      ]
     },
     "execution_count": 67,
     "metadata": {},
     "output_type": "execute_result"
    }
   ],
   "source": [
    "movie_analysis_df['title']"
   ]
  },
  {
   "cell_type": "code",
   "execution_count": 68,
   "metadata": {},
   "outputs": [
    {
     "name": "stdout",
     "output_type": "stream",
     "text": [
      "Movie 'Forrest Gump (1994))' not found in dataset.\n"
     ]
    }
   ],
   "source": [
    "title = \"Forrest Gump (1994))\"  # Replace with your desired movie title\n",
    "similar_movies = get_similar_movies(title, knn_model, trainset, movie_analysis_df, top_n=5)\n",
    "print(similar_movies)\n"
   ]
  },
  {
   "cell_type": "code",
   "execution_count": null,
   "metadata": {},
   "outputs": [],
   "source": [
    "# Use regex=False to avoid interpreting special characters in the title\n",
    "    movie_id = movies_df[movies_df['title'].str.contains(movie_title, case=False, na=False, regex=False)]['movieId'].values\n"
   ]
  },
  {
   "cell_type": "code",
   "execution_count": null,
   "metadata": {},
   "outputs": [],
   "source": []
  },
  {
   "cell_type": "code",
   "execution_count": null,
   "metadata": {},
   "outputs": [],
   "source": []
  },
  {
   "cell_type": "code",
   "execution_count": null,
   "metadata": {},
   "outputs": [],
   "source": []
  },
  {
   "cell_type": "markdown",
   "metadata": {},
   "source": [
    " Collaborative Filtering (Using Surprise SVD)\n",
    "This method finds movies that users who liked a given movie also liked.\n",
    "\n",
    "Step 1: Train a Collaborative Filtering Model"
   ]
  },
  {
   "cell_type": "code",
   "execution_count": 51,
   "metadata": {},
   "outputs": [
    {
     "data": {
      "text/plain": [
       "<surprise.prediction_algorithms.matrix_factorization.SVD at 0x1e0140c2130>"
      ]
     },
     "execution_count": 51,
     "metadata": {},
     "output_type": "execute_result"
    }
   ],
   "source": [
    "from surprise import SVD, Dataset, Reader\n",
    "from surprise.model_selection import train_test_split\n",
    "\n",
    "# Define Reader to load ratings\n",
    "reader = Reader(rating_scale=(0.5, 5.0))\n",
    "data = Dataset.load_from_df(movie_analysis_df[['userId', 'movieId', 'rating']], reader)\n",
    "\n",
    "# Train-test split\n",
    "trainset, testset = train_test_split(data, test_size=0.2, random_state=42)\n",
    "\n",
    "# Train the SVD model\n",
    "svd = SVD()\n",
    "svd.fit(trainset)\n"
   ]
  },
  {
   "cell_type": "code",
   "execution_count": 52,
   "metadata": {},
   "outputs": [
    {
     "name": "stdout",
     "output_type": "stream",
     "text": [
      "Movie 'Matrix, The (1999)' not found in the dataset.\n"
     ]
    }
   ],
   "source": [
    "import numpy as np\n",
    "\n",
    "def get_top_5_recommendations(movie_analysis_df, svd, title):\n",
    "    # Get the movie ID for the given title\n",
    "    movie_id = find_movie_id_by_title(movie_analysis_df, title)\n",
    "    \n",
    "    if movie_id is None:\n",
    "        return f\"Movie '{title}' not found in the dataset.\"\n",
    "    \n",
    "    # Get all unique movie IDs\n",
    "    movie_ids = movie_analysis_df['movieId'].unique()\n",
    "    \n",
    "    # Predict ratings for all movies (excluding the selected movie)\n",
    "    predictions = [(mid, svd.predict(uid=1, iid=mid).est) for mid in movie_ids if mid != movie_id]\n",
    "    \n",
    "    # Sort by predicted rating and get top 5\n",
    "    top_5 = sorted(predictions, key=lambda x: x[1], reverse=True)[:5]\n",
    "    \n",
    "    # Get movie titles for the recommended IDs\n",
    "    recommended_movies = movie_analysis_df[movie_analysis_df['movieId'].isin([x[0] for x in top_5])][['movieId', 'title']].drop_duplicates()\n",
    "    \n",
    "    return recommended_movies\n",
    "\n",
    "# Example usage\n",
    "title = \"Matrix, The (1999)\"\n",
    "recommendations = get_top_5_recommendations(movie_analysis_df, svd, title)\n",
    "print(recommendations)\n"
   ]
  },
  {
   "cell_type": "code",
   "execution_count": 53,
   "metadata": {},
   "outputs": [
    {
     "name": "stdout",
     "output_type": "stream",
     "text": [
      "Movie 'Matrix, The (1999)' not found in the dataset.\n"
     ]
    }
   ],
   "source": [
    "def get_top_recommendation(movie_analysis_df, svd, title):\n",
    "    # Get the movie ID for the given title\n",
    "    movie_id = find_movie_id_by_title(movie_analysis_df, title)\n",
    "    \n",
    "    if movie_id is None:\n",
    "        return f\"Movie '{title}' not found in the dataset.\"\n",
    "    \n",
    "    # Get all unique movie IDs\n",
    "    movie_ids = movie_analysis_df['movieId'].unique()\n",
    "    \n",
    "    # Predict ratings for all movies (excluding the selected movie)\n",
    "    predictions = [(mid, svd.predict(uid=1, iid=mid).est) for mid in movie_ids if mid != movie_id]\n",
    "    \n",
    "    # Get the best-rated recommendation\n",
    "    top_movie_id, top_rating = max(predictions, key=lambda x: x[1])\n",
    "\n",
    "    # Retrieve the recommended movie title\n",
    "    top_movie = movie_analysis_df[movie_analysis_df['movieId'] == top_movie_id][['title']].drop_duplicates().iloc[0, 0]\n",
    "\n",
    "    return f\"Top recommendation for '{title}' is: {top_movie}\"\n",
    "\n",
    "# Example usage\n",
    "title = \"Matrix, The (1999)\"\n",
    "top_recommendation = get_top_recommendation(movie_analysis_df, svd, title)\n",
    "print(top_recommendation)\n"
   ]
  },
  {
   "cell_type": "code",
   "execution_count": null,
   "metadata": {},
   "outputs": [],
   "source": [
    "def get_similar_movies(movie_title, model, trainset, movies_df, top_n=5):\n",
    "    # Find the movie ID for the given title\n",
    "    movie_id = movies_df[movies_df['title'].str.contains(movie_title, case=False, na=False)]['movieId'].values\n",
    "\n",
    "    # Convert the movieId to an internal ID used by Surprise (trainset)\n",
    "    movie_inner_id = trainset.to_inner_iid(movie_id[0])\n",
    "\n",
    "    # Get the top N most similar movies using the KNN model's get_neighbors function\n",
    "    neighbors = model.get_neighbors(movie_inner_id, k=top_n)\n",
    "\n",
    "    # Map internal IDs back to movie titles here is the list comprehension\n",
    "    similar_titles = [(movies_df[movies_df['movieId'] == int(trainset.to_raw_iid(neighbor))]['title'].values[0])\n",
    "                      for neighbor in neighbors]\n",
    "\n",
    "    return similar_titles"
   ]
  },
  {
   "cell_type": "code",
   "execution_count": null,
   "metadata": {},
   "outputs": [],
   "source": []
  }
 ],
 "metadata": {
  "kernelspec": {
   "display_name": "learn-env",
   "language": "python",
   "name": "python3"
  },
  "language_info": {
   "codemirror_mode": {
    "name": "ipython",
    "version": 3
   },
   "file_extension": ".py",
   "mimetype": "text/x-python",
   "name": "python",
   "nbconvert_exporter": "python",
   "pygments_lexer": "ipython3",
   "version": "3.8.5"
  }
 },
 "nbformat": 4,
 "nbformat_minor": 2
}
